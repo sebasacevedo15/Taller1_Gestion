{
 "cells": [
  {
   "cell_type": "markdown",
   "id": "0079681f",
   "metadata": {},
   "source": [
    "# TALLER 1"
   ]
  },
  {
   "cell_type": "markdown",
   "id": "369fa5a6",
   "metadata": {},
   "source": [
    "1. Seleccione al menos 4 conjuntos de datos y realice un perfilamiento de\n",
    "cada uno. Describa los hallazgos encontrados en cada conjunto de datos. No\n",
    "olvide mencionar su estructura y aspectos relevantes de calidad como campos\n",
    "nulos, departamentos mal escritos, formatos de fechas incorrectos, entre otros.\n",
    "Si no evidencia ningún problema de calidad de datos, también mencionelo."
   ]
  },
  {
   "cell_type": "code",
   "execution_count": 1,
   "id": "c00676bf",
   "metadata": {},
   "outputs": [],
   "source": [
    "# Importing required libraries\n",
    "\n",
    "import re\n",
    "from random import randint\n",
    "from datetime import datetime\n",
    "\n",
    "import numpy as np\n",
    "import pandas as pd\n",
    "import matplotlib.pyplot as plt\n",
    "import pylev\n",
    "import seaborn as sbn"
   ]
  },
  {
   "cell_type": "code",
   "execution_count": 2,
   "id": "69dfbff2",
   "metadata": {},
   "outputs": [],
   "source": [
    "# Parameter for showing all columns when printing a dataframe\n",
    "pd.set_option('display.max_columns', None)"
   ]
  },
  {
   "cell_type": "code",
   "execution_count": 3,
   "id": "aa33fbeb",
   "metadata": {},
   "outputs": [],
   "source": [
    "dane_df=pd.read_csv('./data/Dane.csv')"
   ]
  },
  {
   "cell_type": "code",
   "execution_count": 4,
   "id": "5fcc0457",
   "metadata": {
    "scrolled": true
   },
   "outputs": [
    {
     "data": {
      "text/plain": [
       "CODIGO DANE      int64\n",
       "DEPARTAMENTO    object\n",
       "MUNICIPIO       object\n",
       "dtype: object"
      ]
     },
     "execution_count": 4,
     "metadata": {},
     "output_type": "execute_result"
    }
   ],
   "source": [
    "dane_df.dtypes"
   ]
  },
  {
   "cell_type": "code",
   "execution_count": 85,
   "id": "24b3616b",
   "metadata": {},
   "outputs": [
    {
     "data": {
      "text/html": [
       "<div>\n",
       "<style scoped>\n",
       "    .dataframe tbody tr th:only-of-type {\n",
       "        vertical-align: middle;\n",
       "    }\n",
       "\n",
       "    .dataframe tbody tr th {\n",
       "        vertical-align: top;\n",
       "    }\n",
       "\n",
       "    .dataframe thead th {\n",
       "        text-align: right;\n",
       "    }\n",
       "</style>\n",
       "<table border=\"1\" class=\"dataframe\">\n",
       "  <thead>\n",
       "    <tr style=\"text-align: right;\">\n",
       "      <th></th>\n",
       "      <th>CODIGO DANE</th>\n",
       "      <th>DEPARTAMENTO</th>\n",
       "      <th>MUNICIPIO</th>\n",
       "    </tr>\n",
       "  </thead>\n",
       "  <tbody>\n",
       "    <tr>\n",
       "      <th>0</th>\n",
       "      <td>99</td>\n",
       "      <td>OTRO</td>\n",
       "      <td>NO RESIDENTE EN EL PAIS</td>\n",
       "    </tr>\n",
       "    <tr>\n",
       "      <th>1</th>\n",
       "      <td>5001</td>\n",
       "      <td>ANTIOQUIA</td>\n",
       "      <td>MEDELLIN</td>\n",
       "    </tr>\n",
       "    <tr>\n",
       "      <th>2</th>\n",
       "      <td>5002</td>\n",
       "      <td>ANTIOQUIA</td>\n",
       "      <td>ABEJORRAL</td>\n",
       "    </tr>\n",
       "    <tr>\n",
       "      <th>3</th>\n",
       "      <td>5004</td>\n",
       "      <td>ANTIOQUIA</td>\n",
       "      <td>ABRIAQUI</td>\n",
       "    </tr>\n",
       "    <tr>\n",
       "      <th>4</th>\n",
       "      <td>5021</td>\n",
       "      <td>ANTIOQUIA</td>\n",
       "      <td>ALEJANDRIA</td>\n",
       "    </tr>\n",
       "  </tbody>\n",
       "</table>\n",
       "</div>"
      ],
      "text/plain": [
       "   CODIGO DANE DEPARTAMENTO                MUNICIPIO\n",
       "0           99         OTRO  NO RESIDENTE EN EL PAIS\n",
       "1         5001    ANTIOQUIA                 MEDELLIN\n",
       "2         5002    ANTIOQUIA                ABEJORRAL\n",
       "3         5004    ANTIOQUIA                 ABRIAQUI\n",
       "4         5021    ANTIOQUIA               ALEJANDRIA"
      ]
     },
     "execution_count": 85,
     "metadata": {},
     "output_type": "execute_result"
    }
   ],
   "source": [
    "dane_df.head()"
   ]
  },
  {
   "cell_type": "code",
   "execution_count": 11,
   "id": "778685f9",
   "metadata": {},
   "outputs": [],
   "source": [
    "# Loading data\n",
    "terrorismo_df = pd.read_csv(\"./data/terrorismo.csv\")"
   ]
  },
  {
   "cell_type": "code",
   "execution_count": 12,
   "id": "e0637f35",
   "metadata": {},
   "outputs": [
    {
     "data": {
      "text/plain": [
       "(3954, 6)"
      ]
     },
     "execution_count": 12,
     "metadata": {},
     "output_type": "execute_result"
    }
   ],
   "source": [
    "terrorismo_df.shape"
   ]
  },
  {
   "cell_type": "code",
   "execution_count": 86,
   "id": "0e2eaa70",
   "metadata": {},
   "outputs": [
    {
     "data": {
      "text/html": [
       "<div>\n",
       "<style scoped>\n",
       "    .dataframe tbody tr th:only-of-type {\n",
       "        vertical-align: middle;\n",
       "    }\n",
       "\n",
       "    .dataframe tbody tr th {\n",
       "        vertical-align: top;\n",
       "    }\n",
       "\n",
       "    .dataframe thead th {\n",
       "        text-align: right;\n",
       "    }\n",
       "</style>\n",
       "<table border=\"1\" class=\"dataframe\">\n",
       "  <thead>\n",
       "    <tr style=\"text-align: right;\">\n",
       "      <th></th>\n",
       "      <th>DEPARTAMENTO</th>\n",
       "      <th>MUNICIPIO</th>\n",
       "      <th>CODIGO DANE</th>\n",
       "      <th>ARMAS MEDIOS</th>\n",
       "      <th>FECHA HECHO</th>\n",
       "      <th>CANTIDAD</th>\n",
       "    </tr>\n",
       "  </thead>\n",
       "  <tbody>\n",
       "    <tr>\n",
       "      <th>0</th>\n",
       "      <td>PUTUMAYO</td>\n",
       "      <td>MOCOA</td>\n",
       "      <td>86001</td>\n",
       "      <td>ARTEFACTO EXPLOSIVO/CARGA DINAMITA</td>\n",
       "      <td>2010-01-05</td>\n",
       "      <td>1</td>\n",
       "    </tr>\n",
       "    <tr>\n",
       "      <th>1</th>\n",
       "      <td>ARAUCA</td>\n",
       "      <td>TAME</td>\n",
       "      <td>81794</td>\n",
       "      <td>ARTEFACTO INCENDIARIO</td>\n",
       "      <td>2010-01-06</td>\n",
       "      <td>1</td>\n",
       "    </tr>\n",
       "    <tr>\n",
       "      <th>2</th>\n",
       "      <td>META</td>\n",
       "      <td>VILLAVICENCIO</td>\n",
       "      <td>50001</td>\n",
       "      <td>GRANADA DE MANO</td>\n",
       "      <td>2010-01-06</td>\n",
       "      <td>1</td>\n",
       "    </tr>\n",
       "    <tr>\n",
       "      <th>3</th>\n",
       "      <td>ARAUCA</td>\n",
       "      <td>FORTUL</td>\n",
       "      <td>81300</td>\n",
       "      <td>CILINDRO BOMBA</td>\n",
       "      <td>2010-01-07</td>\n",
       "      <td>1</td>\n",
       "    </tr>\n",
       "    <tr>\n",
       "      <th>4</th>\n",
       "      <td>META</td>\n",
       "      <td>URIBE</td>\n",
       "      <td>50370</td>\n",
       "      <td>MINA ANTIPERSONA</td>\n",
       "      <td>2010-01-11</td>\n",
       "      <td>1</td>\n",
       "    </tr>\n",
       "  </tbody>\n",
       "</table>\n",
       "</div>"
      ],
      "text/plain": [
       "  DEPARTAMENTO      MUNICIPIO  CODIGO DANE  \\\n",
       "0     PUTUMAYO          MOCOA        86001   \n",
       "1       ARAUCA           TAME        81794   \n",
       "2         META  VILLAVICENCIO        50001   \n",
       "3       ARAUCA         FORTUL        81300   \n",
       "4         META          URIBE        50370   \n",
       "\n",
       "                         ARMAS MEDIOS FECHA HECHO  CANTIDAD  \n",
       "0  ARTEFACTO EXPLOSIVO/CARGA DINAMITA  2010-01-05         1  \n",
       "1               ARTEFACTO INCENDIARIO  2010-01-06         1  \n",
       "2                     GRANADA DE MANO  2010-01-06         1  \n",
       "3                      CILINDRO BOMBA  2010-01-07         1  \n",
       "4                    MINA ANTIPERSONA  2010-01-11         1  "
      ]
     },
     "execution_count": 86,
     "metadata": {},
     "output_type": "execute_result"
    }
   ],
   "source": [
    "terrorismo_df.head(5)"
   ]
  },
  {
   "cell_type": "code",
   "execution_count": 14,
   "id": "9e19c584",
   "metadata": {
    "scrolled": true
   },
   "outputs": [
    {
     "data": {
      "text/plain": [
       "Departamento    object\n",
       "Municipio       object\n",
       "CODIGO DANE      int64\n",
       "ARMAS MEDIOS    object\n",
       "FECHA HECHO     object\n",
       "CANTIDAD         int64\n",
       "dtype: object"
      ]
     },
     "execution_count": 14,
     "metadata": {},
     "output_type": "execute_result"
    }
   ],
   "source": [
    "terrorismo_df.dtypes\n",
    "#Se necesita corregir formato de fecha "
   ]
  },
  {
   "cell_type": "code",
   "execution_count": 15,
   "id": "8b3e1a3d",
   "metadata": {},
   "outputs": [
    {
     "data": {
      "text/html": [
       "<div>\n",
       "<style scoped>\n",
       "    .dataframe tbody tr th:only-of-type {\n",
       "        vertical-align: middle;\n",
       "    }\n",
       "\n",
       "    .dataframe tbody tr th {\n",
       "        vertical-align: top;\n",
       "    }\n",
       "\n",
       "    .dataframe thead th {\n",
       "        text-align: right;\n",
       "    }\n",
       "</style>\n",
       "<table border=\"1\" class=\"dataframe\">\n",
       "  <thead>\n",
       "    <tr style=\"text-align: right;\">\n",
       "      <th></th>\n",
       "      <th>Departamento</th>\n",
       "      <th>Municipio</th>\n",
       "      <th>CODIGO DANE</th>\n",
       "      <th>ARMAS MEDIOS</th>\n",
       "      <th>FECHA HECHO</th>\n",
       "      <th>CANTIDAD</th>\n",
       "    </tr>\n",
       "  </thead>\n",
       "  <tbody>\n",
       "  </tbody>\n",
       "</table>\n",
       "</div>"
      ],
      "text/plain": [
       "Empty DataFrame\n",
       "Columns: [Departamento, Municipio, CODIGO DANE, ARMAS MEDIOS, FECHA HECHO, CANTIDAD]\n",
       "Index: []"
      ]
     },
     "execution_count": 15,
     "metadata": {},
     "output_type": "execute_result"
    }
   ],
   "source": [
    "def error_in_format(x):\n",
    "    try:\n",
    "        datetime.strptime(x, \"%d/%m/%Y\")\n",
    "        return False\n",
    "    except:\n",
    "        return True\n",
    "terrorismo_df.loc[terrorismo_df[\"FECHA HECHO\"].apply(error_in_format)]"
   ]
  },
  {
   "cell_type": "code",
   "execution_count": 16,
   "id": "a7eba729",
   "metadata": {},
   "outputs": [],
   "source": [
    "dateparse = lambda x: datetime.strptime(x, \"%d/%m/%Y\")"
   ]
  },
  {
   "cell_type": "code",
   "execution_count": 18,
   "id": "8445d5ae",
   "metadata": {
    "scrolled": false
   },
   "outputs": [],
   "source": [
    "terrorismo_df[\"FECHA HECHO\"]=terrorismo_df[\"FECHA HECHO\"].apply(dateparse)"
   ]
  },
  {
   "cell_type": "code",
   "execution_count": 13,
   "id": "d2c7b75a",
   "metadata": {
    "scrolled": true
   },
   "outputs": [
    {
     "data": {
      "text/plain": [
       "DEPARTAMENTO                    object\n",
       "MUNICIPIO                       object\n",
       "CODIGO DANE                      int64\n",
       "ARMAS MEDIOS                    object\n",
       "FECHA HECHO             datetime64[ns]\n",
       "GENERO                          object\n",
       "GRUPO ETARÍO                    object\n",
       "DESCRIPCIÓN CONDUCTA            object\n",
       "CANTIDAD                         int64\n",
       "dtype: object"
      ]
     },
     "execution_count": 13,
     "metadata": {},
     "output_type": "execute_result"
    }
   ],
   "source": [
    "homicidios_df.dtypes"
   ]
  },
  {
   "cell_type": "code",
   "execution_count": 19,
   "id": "68197006",
   "metadata": {
    "scrolled": true
   },
   "outputs": [
    {
     "data": {
      "text/html": [
       "<div>\n",
       "<style scoped>\n",
       "    .dataframe tbody tr th:only-of-type {\n",
       "        vertical-align: middle;\n",
       "    }\n",
       "\n",
       "    .dataframe tbody tr th {\n",
       "        vertical-align: top;\n",
       "    }\n",
       "\n",
       "    .dataframe thead th {\n",
       "        text-align: right;\n",
       "    }\n",
       "</style>\n",
       "<table border=\"1\" class=\"dataframe\">\n",
       "  <thead>\n",
       "    <tr style=\"text-align: right;\">\n",
       "      <th></th>\n",
       "      <th>Departamento</th>\n",
       "      <th>Municipio</th>\n",
       "      <th>CODIGO DANE</th>\n",
       "      <th>ARMAS MEDIOS</th>\n",
       "      <th>FECHA HECHO</th>\n",
       "      <th>CANTIDAD</th>\n",
       "    </tr>\n",
       "  </thead>\n",
       "  <tbody>\n",
       "    <tr>\n",
       "      <th>0</th>\n",
       "      <td>PUTUMAYO</td>\n",
       "      <td>MOCOA (CT)</td>\n",
       "      <td>86001000</td>\n",
       "      <td>ARTEFACTO EXPLOSIVO/CARGA DINAMITA</td>\n",
       "      <td>2010-01-05</td>\n",
       "      <td>1</td>\n",
       "    </tr>\n",
       "    <tr>\n",
       "      <th>1</th>\n",
       "      <td>ARAUCA</td>\n",
       "      <td>TAME</td>\n",
       "      <td>81794000</td>\n",
       "      <td>ARTEFACTO INCENDIARIO</td>\n",
       "      <td>2010-01-06</td>\n",
       "      <td>1</td>\n",
       "    </tr>\n",
       "    <tr>\n",
       "      <th>2</th>\n",
       "      <td>META</td>\n",
       "      <td>VILLAVICENCIO (CT)</td>\n",
       "      <td>50001000</td>\n",
       "      <td>GRANADA DE MANO</td>\n",
       "      <td>2010-01-06</td>\n",
       "      <td>1</td>\n",
       "    </tr>\n",
       "    <tr>\n",
       "      <th>3</th>\n",
       "      <td>ARAUCA</td>\n",
       "      <td>FORTUL</td>\n",
       "      <td>81300000</td>\n",
       "      <td>CILINDRO BOMBA</td>\n",
       "      <td>2010-01-07</td>\n",
       "      <td>1</td>\n",
       "    </tr>\n",
       "    <tr>\n",
       "      <th>4</th>\n",
       "      <td>META</td>\n",
       "      <td>URIBE</td>\n",
       "      <td>50370000</td>\n",
       "      <td>MINA ANTIPERSONA</td>\n",
       "      <td>2010-01-11</td>\n",
       "      <td>1</td>\n",
       "    </tr>\n",
       "  </tbody>\n",
       "</table>\n",
       "</div>"
      ],
      "text/plain": [
       "  Departamento           Municipio  CODIGO DANE  \\\n",
       "0     PUTUMAYO          MOCOA (CT)     86001000   \n",
       "1       ARAUCA                TAME     81794000   \n",
       "2         META  VILLAVICENCIO (CT)     50001000   \n",
       "3       ARAUCA              FORTUL     81300000   \n",
       "4         META               URIBE     50370000   \n",
       "\n",
       "                         ARMAS MEDIOS FECHA HECHO  CANTIDAD  \n",
       "0  ARTEFACTO EXPLOSIVO/CARGA DINAMITA  2010-01-05         1  \n",
       "1               ARTEFACTO INCENDIARIO  2010-01-06         1  \n",
       "2                     GRANADA DE MANO  2010-01-06         1  \n",
       "3                      CILINDRO BOMBA  2010-01-07         1  \n",
       "4                    MINA ANTIPERSONA  2010-01-11         1  "
      ]
     },
     "execution_count": 19,
     "metadata": {},
     "output_type": "execute_result"
    }
   ],
   "source": [
    "terrorismo_df.head()"
   ]
  },
  {
   "cell_type": "code",
   "execution_count": 21,
   "id": "2cff942e",
   "metadata": {},
   "outputs": [],
   "source": [
    "#Corrección formato DANE \n",
    "def fix_dane_lengh(x) :\n",
    "    x=str(x)\n",
    "    x=x[:-3]\n",
    "    return int(x)"
   ]
  },
  {
   "cell_type": "code",
   "execution_count": 22,
   "id": "61d102c4",
   "metadata": {
    "scrolled": true
   },
   "outputs": [],
   "source": [
    "terrorismo_df['CODIGO DANE']=terrorismo_df['CODIGO DANE'].apply({fix_dane_lengh})\n",
    "terrorismo_df['FECHA HECHO']=pd.to_datetime(terrorismo_df['FECHA HECHO'])"
   ]
  },
  {
   "cell_type": "code",
   "execution_count": 27,
   "id": "dfc13253",
   "metadata": {},
   "outputs": [
    {
     "data": {
      "text/html": [
       "<div>\n",
       "<style scoped>\n",
       "    .dataframe tbody tr th:only-of-type {\n",
       "        vertical-align: middle;\n",
       "    }\n",
       "\n",
       "    .dataframe tbody tr th {\n",
       "        vertical-align: top;\n",
       "    }\n",
       "\n",
       "    .dataframe thead th {\n",
       "        text-align: right;\n",
       "    }\n",
       "</style>\n",
       "<table border=\"1\" class=\"dataframe\">\n",
       "  <thead>\n",
       "    <tr style=\"text-align: right;\">\n",
       "      <th></th>\n",
       "      <th>Departamento</th>\n",
       "      <th>Municipio</th>\n",
       "      <th>CODIGO DANE</th>\n",
       "      <th>ARMAS MEDIOS</th>\n",
       "      <th>FECHA HECHO</th>\n",
       "      <th>CANTIDAD</th>\n",
       "    </tr>\n",
       "  </thead>\n",
       "  <tbody>\n",
       "    <tr>\n",
       "      <th>0</th>\n",
       "      <td>PUTUMAYO</td>\n",
       "      <td>MOCOA (CT)</td>\n",
       "      <td>86001</td>\n",
       "      <td>ARTEFACTO EXPLOSIVO/CARGA DINAMITA</td>\n",
       "      <td>2010-01-05</td>\n",
       "      <td>1</td>\n",
       "    </tr>\n",
       "    <tr>\n",
       "      <th>1</th>\n",
       "      <td>ARAUCA</td>\n",
       "      <td>TAME</td>\n",
       "      <td>81794</td>\n",
       "      <td>ARTEFACTO INCENDIARIO</td>\n",
       "      <td>2010-01-06</td>\n",
       "      <td>1</td>\n",
       "    </tr>\n",
       "    <tr>\n",
       "      <th>2</th>\n",
       "      <td>META</td>\n",
       "      <td>VILLAVICENCIO (CT)</td>\n",
       "      <td>50001</td>\n",
       "      <td>GRANADA DE MANO</td>\n",
       "      <td>2010-01-06</td>\n",
       "      <td>1</td>\n",
       "    </tr>\n",
       "    <tr>\n",
       "      <th>3</th>\n",
       "      <td>ARAUCA</td>\n",
       "      <td>FORTUL</td>\n",
       "      <td>81300</td>\n",
       "      <td>CILINDRO BOMBA</td>\n",
       "      <td>2010-01-07</td>\n",
       "      <td>1</td>\n",
       "    </tr>\n",
       "    <tr>\n",
       "      <th>4</th>\n",
       "      <td>META</td>\n",
       "      <td>URIBE</td>\n",
       "      <td>50370</td>\n",
       "      <td>MINA ANTIPERSONA</td>\n",
       "      <td>2010-01-11</td>\n",
       "      <td>1</td>\n",
       "    </tr>\n",
       "  </tbody>\n",
       "</table>\n",
       "</div>"
      ],
      "text/plain": [
       "  Departamento           Municipio  CODIGO DANE  \\\n",
       "0     PUTUMAYO          MOCOA (CT)        86001   \n",
       "1       ARAUCA                TAME        81794   \n",
       "2         META  VILLAVICENCIO (CT)        50001   \n",
       "3       ARAUCA              FORTUL        81300   \n",
       "4         META               URIBE        50370   \n",
       "\n",
       "                         ARMAS MEDIOS FECHA HECHO  CANTIDAD  \n",
       "0  ARTEFACTO EXPLOSIVO/CARGA DINAMITA  2010-01-05         1  \n",
       "1               ARTEFACTO INCENDIARIO  2010-01-06         1  \n",
       "2                     GRANADA DE MANO  2010-01-06         1  \n",
       "3                      CILINDRO BOMBA  2010-01-07         1  \n",
       "4                    MINA ANTIPERSONA  2010-01-11         1  "
      ]
     },
     "execution_count": 27,
     "metadata": {},
     "output_type": "execute_result"
    }
   ],
   "source": [
    "terrorismo_df.head(5)\n"
   ]
  },
  {
   "cell_type": "code",
   "execution_count": 65,
   "id": "bd8c1c1f",
   "metadata": {},
   "outputs": [
    {
     "name": "stderr",
     "output_type": "stream",
     "text": [
      "C:\\Users\\Sebastian\\AppData\\Local\\Temp\\ipykernel_30304\\2050612406.py:4: SettingWithCopyWarning: \n",
      "A value is trying to be set on a copy of a slice from a DataFrame\n",
      "\n",
      "See the caveats in the documentation: https://pandas.pydata.org/pandas-docs/stable/user_guide/indexing.html#returning-a-view-versus-a-copy\n",
      "  terrorismo_df['MUNICIPIO'][z]=dane_df['MUNICIPIO'][y]\n",
      "C:\\Users\\Sebastian\\AppData\\Local\\Temp\\ipykernel_30304\\2050612406.py:5: SettingWithCopyWarning: \n",
      "A value is trying to be set on a copy of a slice from a DataFrame\n",
      "\n",
      "See the caveats in the documentation: https://pandas.pydata.org/pandas-docs/stable/user_guide/indexing.html#returning-a-view-versus-a-copy\n",
      "  terrorismo_df['DEPARTAMENTO'][z]=dane_df['DEPARTAMENTO'][y]\n"
     ]
    }
   ],
   "source": [
    "for z in range (0,len(terrorismo_df)):\n",
    "    for y in range (0,len(dane_df)):\n",
    "        if terrorismo_df['CODIGO DANE'][z]==dane_df['CODIGO DANE'][y]:\n",
    "            terrorismo_df['MUNICIPIO'][z]=dane_df['MUNICIPIO'][y]\n",
    "            terrorismo_df['DEPARTAMENTO'][z]=dane_df['DEPARTAMENTO'][y]\n",
    "                                                \n"
   ]
  },
  {
   "cell_type": "code",
   "execution_count": 66,
   "id": "518483b7",
   "metadata": {
    "scrolled": true
   },
   "outputs": [
    {
     "data": {
      "text/html": [
       "<div>\n",
       "<style scoped>\n",
       "    .dataframe tbody tr th:only-of-type {\n",
       "        vertical-align: middle;\n",
       "    }\n",
       "\n",
       "    .dataframe tbody tr th {\n",
       "        vertical-align: top;\n",
       "    }\n",
       "\n",
       "    .dataframe thead th {\n",
       "        text-align: right;\n",
       "    }\n",
       "</style>\n",
       "<table border=\"1\" class=\"dataframe\">\n",
       "  <thead>\n",
       "    <tr style=\"text-align: right;\">\n",
       "      <th></th>\n",
       "      <th>DEPARTAMENTO</th>\n",
       "      <th>MUNICIPIO</th>\n",
       "      <th>CODIGO DANE</th>\n",
       "      <th>ARMAS MEDIOS</th>\n",
       "      <th>FECHA HECHO</th>\n",
       "      <th>CANTIDAD</th>\n",
       "    </tr>\n",
       "  </thead>\n",
       "  <tbody>\n",
       "    <tr>\n",
       "      <th>0</th>\n",
       "      <td>PUTUMAYO</td>\n",
       "      <td>MOCOA</td>\n",
       "      <td>86001</td>\n",
       "      <td>ARTEFACTO EXPLOSIVO/CARGA DINAMITA</td>\n",
       "      <td>2010-01-05</td>\n",
       "      <td>1</td>\n",
       "    </tr>\n",
       "    <tr>\n",
       "      <th>1</th>\n",
       "      <td>ARAUCA</td>\n",
       "      <td>TAME</td>\n",
       "      <td>81794</td>\n",
       "      <td>ARTEFACTO INCENDIARIO</td>\n",
       "      <td>2010-01-06</td>\n",
       "      <td>1</td>\n",
       "    </tr>\n",
       "    <tr>\n",
       "      <th>2</th>\n",
       "      <td>META</td>\n",
       "      <td>VILLAVICENCIO</td>\n",
       "      <td>50001</td>\n",
       "      <td>GRANADA DE MANO</td>\n",
       "      <td>2010-01-06</td>\n",
       "      <td>1</td>\n",
       "    </tr>\n",
       "    <tr>\n",
       "      <th>3</th>\n",
       "      <td>ARAUCA</td>\n",
       "      <td>FORTUL</td>\n",
       "      <td>81300</td>\n",
       "      <td>CILINDRO BOMBA</td>\n",
       "      <td>2010-01-07</td>\n",
       "      <td>1</td>\n",
       "    </tr>\n",
       "    <tr>\n",
       "      <th>4</th>\n",
       "      <td>META</td>\n",
       "      <td>URIBE</td>\n",
       "      <td>50370</td>\n",
       "      <td>MINA ANTIPERSONA</td>\n",
       "      <td>2010-01-11</td>\n",
       "      <td>1</td>\n",
       "    </tr>\n",
       "  </tbody>\n",
       "</table>\n",
       "</div>"
      ],
      "text/plain": [
       "  DEPARTAMENTO      MUNICIPIO  CODIGO DANE  \\\n",
       "0     PUTUMAYO          MOCOA        86001   \n",
       "1       ARAUCA           TAME        81794   \n",
       "2         META  VILLAVICENCIO        50001   \n",
       "3       ARAUCA         FORTUL        81300   \n",
       "4         META          URIBE        50370   \n",
       "\n",
       "                         ARMAS MEDIOS FECHA HECHO  CANTIDAD  \n",
       "0  ARTEFACTO EXPLOSIVO/CARGA DINAMITA  2010-01-05         1  \n",
       "1               ARTEFACTO INCENDIARIO  2010-01-06         1  \n",
       "2                     GRANADA DE MANO  2010-01-06         1  \n",
       "3                      CILINDRO BOMBA  2010-01-07         1  \n",
       "4                    MINA ANTIPERSONA  2010-01-11         1  "
      ]
     },
     "execution_count": 66,
     "metadata": {},
     "output_type": "execute_result"
    }
   ],
   "source": [
    "terrorismo_df.head(5)"
   ]
  },
  {
   "cell_type": "code",
   "execution_count": 67,
   "id": "6546963d",
   "metadata": {},
   "outputs": [
    {
     "data": {
      "text/plain": [
       "array(['ARTEFACTO EXPLOSIVO/CARGA DINAMITA', 'ARTEFACTO INCENDIARIO',\n",
       "       'GRANADA DE MANO', 'CILINDRO BOMBA', 'MINA ANTIPERSONA',\n",
       "       'COMBUSTIBLE', 'OLLA BOMBA', 'PAQUETE BOMBA', 'NO REPORTADO',\n",
       "       'PETARDO PLANFETARIO', 'CARRO BOMBA', 'PERSONA BOMBA', 'ROCKET',\n",
       "       'BICICLETA BOMBA', 'CANTINA BOMBA', 'CABALLO BOMBA', 'MOTO BOMBA',\n",
       "       'GRANADA DE FUSIL', 'GRANADA DE MORTERO', 'ARMA DE FUEGO',\n",
       "       'LANCHA BOMBA', 'CASA BOMBA', 'BALON BOMBA', 'PAPA EXPLOSIVA',\n",
       "       'BURRO BOMBA', 'CARTA BOMBA', 'SIN EMPLEO DE ARMAS',\n",
       "       'ARMA BLANCA / CORTOPUNZANTE', 'CONTUNDENTES', 'DIRECTA',\n",
       "       'PERRO BOMBA'], dtype=object)"
      ]
     },
     "execution_count": 67,
     "metadata": {},
     "output_type": "execute_result"
    }
   ],
   "source": [
    "terrorismo_df['ARMAS MEDIOS'].unique()\n",
    "#Se encuentra una categoría \"-\" Se procede a cambiar por NO REPORTADO"
   ]
  },
  {
   "cell_type": "code",
   "execution_count": 68,
   "id": "084da035",
   "metadata": {},
   "outputs": [
    {
     "name": "stderr",
     "output_type": "stream",
     "text": [
      "C:\\Users\\Sebastian\\AppData\\Local\\Temp\\ipykernel_30304\\1706169736.py:1: SettingWithCopyWarning: \n",
      "A value is trying to be set on a copy of a slice from a DataFrame\n",
      "\n",
      "See the caveats in the documentation: https://pandas.pydata.org/pandas-docs/stable/user_guide/indexing.html#returning-a-view-versus-a-copy\n",
      "  terrorismo_df[\"ARMAS MEDIOS\"].loc[terrorismo_df[\"ARMAS MEDIOS\"]==\"-\"]=\"NO REPORTADO\"\n"
     ]
    }
   ],
   "source": [
    "terrorismo_df[\"ARMAS MEDIOS\"].loc[terrorismo_df[\"ARMAS MEDIOS\"]==\"-\"]=\"NO REPORTADO\""
   ]
  },
  {
   "cell_type": "code",
   "execution_count": 44,
   "id": "d116e9b8",
   "metadata": {
    "scrolled": true
   },
   "outputs": [],
   "source": [
    "#SE CORRIGE NOMBRE DE COLUMNA MUNICIPIO Y DEPARTAMENTO A MAYUSCULAS \n",
    "terrorismo_df=terrorismo_df.rename({'Departamento': 'DEPARTAMENTO', 'Municipio': 'MUNICIPIO'}, axis=1)"
   ]
  },
  {
   "cell_type": "code",
   "execution_count": 69,
   "id": "945bcd0c",
   "metadata": {
    "scrolled": true
   },
   "outputs": [
    {
     "data": {
      "text/plain": [
       "array(['MOCOA', 'TAME', 'VILLAVICENCIO', 'FORTUL', 'URIBE', 'PUERTO RICO',\n",
       "       'BUENAVENTURA', 'ARAUQUITA', 'BARRANCAS', 'MEDELLIN', 'IBAGUÉ',\n",
       "       'GRANADA', 'MESETAS', 'URRAO', 'NEIVA', 'SARAVENA',\n",
       "       'SANTANDER DE QUILICHAO', 'PUERTO ASÍS', 'GUADALUPE', 'CAUCASIA',\n",
       "       'ONZAGA', 'PITALITO', 'SAMANIEGO', 'BELLO',\n",
       "       'SAN JOSÉ DEL GUAVIARE', 'VILLAVIEJA', 'SABANA DE TORRES',\n",
       "       'ARAUCA', 'CALI', 'VILLANUEVA', 'PURACÉ', 'SARDINATA', 'TIBÚ',\n",
       "       'CHAPARRAL', 'TÁMARA', 'PUERTO GUZMÁN', 'VISTA HERMOSA',\n",
       "       'EL TARRA', 'CRAVO NORTE', 'ROVIRA', 'DAGUA', 'MONTELÍBANO',\n",
       "       'EL CHARCO', 'PEREIRA', 'SOCOTÁ', 'FLORIDA', 'RIOHACHA',\n",
       "       'CONVENCIÓN', 'HACARÍ', 'EL CASTILLO', 'LÍBANO', 'CIÉNAGA',\n",
       "       'MANIZALES', 'PASTO', 'PUERTO LLERAS', 'TEORAMA', 'TARAZA',\n",
       "       'CORINTO', 'GUAPI', 'LA APARTADA', 'DIBULLA', 'EL PAUJIL',\n",
       "       'SAN ANDRES', 'TOLEDO', 'TADÓ', 'TIERRALTA', 'PUERTO CAICEDO',\n",
       "       'PIENDAMÓ', 'EL TAMBO', 'BOGOTÁ D.C.', 'POPAYÁN', 'VALDIVIA',\n",
       "       'SANTA ROSA DE OSOS', 'ESPINAL', 'APARTADO', 'SANTA MARTA',\n",
       "       'YARUMAL', 'PLANADAS', 'SAN VICENTE DEL CAGUÁN', 'ALGECIRAS',\n",
       "       'ISNOS', 'PALERMO', 'CALDONO', 'SUAZA', 'AIPE', 'ANORI',\n",
       "       'CARTAGENA DEL CHAIRÁ', 'FLORENCIA', 'BUCARAMANGA', 'SANDONÁ',\n",
       "       'CÓRDOBA', 'TELLO', 'BARAYA', 'CALOTO', 'PUPIALES', 'ORTEGA',\n",
       "       'YOPAL', 'SANTA CRUZ', 'IQUIRA', 'ALBANIA', 'TUMACO', 'BARBACOAS',\n",
       "       'SILVIA', 'PUERTO RONDÓN', 'PIAMONTE', 'CAJAMARCA', 'GUACHENE',\n",
       "       'SAN JUAN DE ARAMA', 'RONCESVALLES', 'VALLE DEL GUAMUEZ',\n",
       "       'SAN CALIXTO', 'LURUACO', 'LABRANZAGRANDE', 'ARMENIA', 'CALARCÁ',\n",
       "       'SOTARÁ', 'CUBARÁ', 'FONSECA', 'SAN MARTÍN', 'LA PLATA', 'DOLORES',\n",
       "       'FUENTE DE ORO', 'RIOBLANCO', 'PUERTO GAITÁN', 'EL BAGRE',\n",
       "       'MAICAO', 'MUTATA', 'GUAMAL', 'YONDO', 'VALLEDUPAR', 'EL RETORNO',\n",
       "       'ORITO', 'PAYA', 'PRADERA', 'FLANDES', 'VALLE DE SAN JUAN',\n",
       "       'ITUANGO', 'TIMBÍO', 'NATAGAIMA', 'SIMACOTA',\n",
       "       'SANTAFE DE ANTIOQUIA', 'CACERES', 'SANTA BÁRBARA', 'CISNEROS',\n",
       "       'ACACÍAS', 'JAMBALÓ', 'TORIBÍO', 'RIONEGRO', 'ROSAS', 'PAJARITO',\n",
       "       'PATÍA', 'EL DONCELLO', 'ARGELIA', 'LA SIERRA', 'MAGUÍ', 'BALBOA',\n",
       "       'BRICEÑO', 'GUACARÍ', 'AGUAZUL', 'ITAGÜI', 'MIRANDA',\n",
       "       'BARRANCABERMEJA', 'LA SALINA', 'TÚQUERRES', 'ZAPATOCA',\n",
       "       'SANTA ROSA', 'PUERTO BERRIO', 'CUMBITARA', 'LA ARGENTINA',\n",
       "       'LA MACARENA', 'COYAIMA', 'OBANDO', 'NARIÑO', 'ENVIGADO',\n",
       "       'TIMBIQUÍ', 'EL BANCO', 'SALGAR', 'SEGOVIA', 'PUERTO LÓPEZ',\n",
       "       'LEJANÍAS', 'PUERTO CONCORDIA', 'SAN MIGUEL', 'VILLA RICA',\n",
       "       'ISTMINA', 'PALMIRA', 'QUIBDO', 'GIRARDOTA', 'HATO COROZAL',\n",
       "       'EL CARMEN DE ATRATO', 'AGUACHICA', 'RICAURTE',\n",
       "       'SANTA ROSA DEL SUR', 'ACANDÍ', 'PUERTO TEJADA', 'RESTREPO',\n",
       "       'MIRAFLORES', 'MURINDO', 'BUCARASICA', 'TUNJA', 'MILÁN',\n",
       "       'SAN JOSÉ DE LA FRAGUA', 'NECHI', 'CHACHAGUÍ', 'ZARAGOZA',\n",
       "       'SAN JUAN DEL CESAR', 'CALAMAR', 'SABANALARGA', 'PUERRES', 'OCAÑA',\n",
       "       'ROBERTO PAYÁN', 'SAN ANTONIO', 'CUMARIBO', 'LA LLANADA', 'TULUÁ',\n",
       "       'SIPÍ', 'PAMPLONA', 'CHIGORODO', 'CAREPA', 'URIBIA', 'PÁEZ',\n",
       "       'LA TOLA', 'FUNDACIÓN', 'SAN DIEGO', 'NUNCHÍA', 'DABEIBA',\n",
       "       'DISTRACCION', 'PISBA', 'MALLAMA', 'SUÁREZ', 'BUGA', 'SAN PEDRO',\n",
       "       'TOTORÓ', 'CAJIBÍO', 'INZÁ', 'SOGAMOSO', 'LINARES', 'MERCADERES',\n",
       "       'CAMPOALEGRE', 'DUITAMA', 'SAPUYES', 'PUERTO LEGUÍZAMO',\n",
       "       'JUAN DE ACOSTA', 'TURBO', 'IMUÉS', 'ATRATO', 'CAMPAMENTO',\n",
       "       'CONDOTO', 'JAMUNDÍ', 'MAPIRIPÁN', 'EL MOLINO', 'GIRALDO',\n",
       "       'RIOSUCIO', 'BOJAYÁ', 'CUNDAY', 'EL CARMEN', 'REMEDIOS',\n",
       "       'CURUMANÍ', 'SAN AGUSTÍN', 'GARZÓN', 'ICONONZO', 'BOCHALEMA',\n",
       "       'PITAL', 'ANDES', 'SAN PABLO', 'CERRITO', 'PEQUE', 'PEÑOL',\n",
       "       'CONTADERO', 'SANTA ISABEL', 'FRANCISCO PIZARRO', 'CONSACÁ',\n",
       "       'APÍA', 'LA UNIÓN', 'SALDAÑA', 'YOTOCO', 'ALPUJARRA', 'LA UNION',\n",
       "       'SANTO DOMINGO', 'SAN JOSE DE LA MONTAÑA', 'YACUANQUER',\n",
       "       'CANTAGALLO', 'BOLÍVAR', 'ÁBREGO', 'PONEDERA', 'URUMITA', 'PAUNA',\n",
       "       'BURITICA', 'BELÉN DE LOS ANDAQUÍES', 'VILLAGARZÓN', 'IPIALES',\n",
       "       'AMALFI', 'TAMINANGO', 'ALVARADO', 'SAN CARLOS DE GUAROA',\n",
       "       'MAGANGUÉ', 'BAGADÓ', 'ARMERO', 'OLAYA HERRERA', 'LETICIA',\n",
       "       'SUCRE', 'ATACO', 'CUMARAL', 'NOROSI', 'LLORÓ', 'PUERTO TRIUNFO',\n",
       "       'EL CARMEN DE VIBORAL', 'ALTAMIRA', 'ANGOSTURA', 'EL DORADO',\n",
       "       'YUMBO', 'AGRADO', 'GIGANTE', 'YOLOMBO', 'SANTA BARBARA',\n",
       "       'CUBARRAL', 'HOBO', 'TESALIA', 'PADILLA', 'LEIVA', 'LA VEGA',\n",
       "       'EL SANTUARIO', 'RIVERA', 'ABEJORRAL', 'CARTAGO', 'CÚCUTA',\n",
       "       'ANCUYÁ', 'VILLA DEL ROSARIO', 'LA PLAYA', 'SALADOBLANCO',\n",
       "       'SAN FRANCISCO', 'ARENAL', 'BARBOSA', 'BUENOS AIRES', 'CURRILLO',\n",
       "       'MEDINA', 'EL ROSARIO', 'RECETOR', 'DON MATIAS', 'TRINIDAD',\n",
       "       'MANÍ', 'PLATO', 'GÜICÁN', 'PAILITAS', 'PAZ DE ARIPORO',\n",
       "       'HATONUEVO', 'SOPETRAN', 'TARSO', 'BETULIA', 'CIUDAD BOLIVAR',\n",
       "       'ENTRERRIOS', 'SAN LUIS', 'PELAYA', 'CONCEPCIÓN', 'SEVILLA',\n",
       "       'GUACHUCAL', 'CUMBAL', 'LA JAGUA DE IBIRICO', 'FREDONIA',\n",
       "       'LA GLORIA', 'LABATECA', 'EL ZULIA', 'BARRANQUILLA', 'SOLEDAD',\n",
       "       'BAJO BAUDÓ', 'GAMARRA', 'RÍO DE ORO', 'YALI', 'TAMALAMEQUE',\n",
       "       'VENECIA', 'LA FLORIDA', 'MONTENEGRO', 'QUIMBAYA', 'SOACHA',\n",
       "       'VEGACHI', 'EL RETÉN', 'JURADÓ', 'PIJAO', 'SINCÉ', 'MADRID',\n",
       "       'MEDIO SAN JUAN', 'SAN JOSE DE URE', 'LITORAL DEL BAJO SAN JUAN',\n",
       "       'PUERTO LIBERTADOR', 'GIRARDOT', 'AMAGA', 'LÓPEZ', 'RÍO VIEJO',\n",
       "       'SANTIAGO', 'LA MONTAÑITA', 'SIBUNDOY', 'ARBELÁEZ', 'SOLITA',\n",
       "       'VALPARAÍSO', 'VALENCIA', 'CHALÁN', 'LA DORADA', 'PORE',\n",
       "       'LA TEBAIDA', 'SAN CARLOS', 'CARTAGENA', 'CHINÁCOTA', 'ABRIAQUI',\n",
       "       'LA VIRGINIA', 'CANDELARIA', 'SAN ROQUE', 'CHIRIGUANÁ', 'CHITAGÁ',\n",
       "       'PAMPLONITA', 'MUTISCUA'], dtype=object)"
      ]
     },
     "execution_count": 69,
     "metadata": {},
     "output_type": "execute_result"
    }
   ],
   "source": [
    "terrorismo_df['MUNICIPIO'].unique()"
   ]
  },
  {
   "cell_type": "code",
   "execution_count": 70,
   "id": "850e62b1",
   "metadata": {},
   "outputs": [
    {
     "data": {
      "text/plain": [
       "array(['PUTUMAYO', 'ARAUCA', 'META', 'VALLE DEL CAUCA', 'LA GUAJIRA',\n",
       "       'ANTIOQUIA', 'TOLIMA', 'HUILA', 'CAUCA', 'SANTANDER', 'NARIÑO',\n",
       "       'GUAVIARE', 'NORTE DE SANTANDER', 'CASANARE', 'CÓRDOBA',\n",
       "       'RISARALDA', 'BOYACA', 'MAGDALENA', 'CALDAS', 'CAQUETÁ', 'CHOCÓ',\n",
       "       'BOGOTA D.C.', 'ATLANTICO', 'QUINDIO', 'CESAR', 'BOLIVAR',\n",
       "       'VICHADA', 'AMAZONAS', 'CUNDINAMARCA', 'SUCRE', 'CORDOBA'],\n",
       "      dtype=object)"
      ]
     },
     "execution_count": 70,
     "metadata": {},
     "output_type": "execute_result"
    }
   ],
   "source": [
    "terrorismo_df['DEPARTAMENTO'].unique()\n",
    "#No se encuentran departamentos mal escritos"
   ]
  },
  {
   "cell_type": "code",
   "execution_count": 71,
   "id": "baf4f247",
   "metadata": {
    "scrolled": true
   },
   "outputs": [
    {
     "data": {
      "text/plain": [
       "DEPARTAMENTO    0\n",
       "MUNICIPIO       0\n",
       "CODIGO DANE     0\n",
       "ARMAS MEDIOS    0\n",
       "FECHA HECHO     0\n",
       "CANTIDAD        0\n",
       "dtype: int64"
      ]
     },
     "execution_count": 71,
     "metadata": {},
     "output_type": "execute_result"
    }
   ],
   "source": [
    "terrorismo_df.isnull().sum()\n",
    "#No se encuentran datos nulos"
   ]
  },
  {
   "cell_type": "code",
   "execution_count": 73,
   "id": "690b0b2d",
   "metadata": {},
   "outputs": [
    {
     "data": {
      "text/plain": [
       "NO REPORTADO    184\n",
       "Name: ARMAS MEDIOS, dtype: int64"
      ]
     },
     "execution_count": 73,
     "metadata": {},
     "output_type": "execute_result"
    }
   ],
   "source": [
    "terrorismo_df.loc[terrorismo_df['ARMAS MEDIOS']==\"NO REPORTADO\"]['ARMAS MEDIOS'].value_counts()"
   ]
  },
  {
   "cell_type": "markdown",
   "id": "5ef2485c",
   "metadata": {},
   "source": [
    "2.Responda la siguientes preguntas para cada uno de los conjuntos de\n",
    "datos seleccionados:\n",
    "\n",
    "    a.¿Cuáles han sido los departamentos (TOP 3) más afectados en términos de cantidad de delitos cometidos en los últimos 5 años?"
   ]
  },
  {
   "cell_type": "code",
   "execution_count": 87,
   "id": "32155eda",
   "metadata": {},
   "outputs": [],
   "source": [
    "last5_df=terrorismo_df.loc[terrorismo_df['FECHA HECHO']>'2017-01-01']"
   ]
  },
  {
   "cell_type": "code",
   "execution_count": 143,
   "id": "458ce0bb",
   "metadata": {
    "scrolled": false
   },
   "outputs": [
    {
     "data": {
      "text/html": [
       "<div>\n",
       "<style scoped>\n",
       "    .dataframe tbody tr th:only-of-type {\n",
       "        vertical-align: middle;\n",
       "    }\n",
       "\n",
       "    .dataframe tbody tr th {\n",
       "        vertical-align: top;\n",
       "    }\n",
       "\n",
       "    .dataframe thead th {\n",
       "        text-align: right;\n",
       "    }\n",
       "</style>\n",
       "<table border=\"1\" class=\"dataframe\">\n",
       "  <thead>\n",
       "    <tr style=\"text-align: right;\">\n",
       "      <th></th>\n",
       "      <th>CANTIDAD</th>\n",
       "    </tr>\n",
       "    <tr>\n",
       "      <th>DEPARTAMENTO</th>\n",
       "      <th></th>\n",
       "    </tr>\n",
       "  </thead>\n",
       "  <tbody>\n",
       "    <tr>\n",
       "      <th>ANTIOQUIA</th>\n",
       "      <td>241</td>\n",
       "    </tr>\n",
       "    <tr>\n",
       "      <th>ARAUCA</th>\n",
       "      <td>173</td>\n",
       "    </tr>\n",
       "    <tr>\n",
       "      <th>NORTE DE SANTANDER</th>\n",
       "      <td>172</td>\n",
       "    </tr>\n",
       "  </tbody>\n",
       "</table>\n",
       "</div>"
      ],
      "text/plain": [
       "                    CANTIDAD\n",
       "DEPARTAMENTO                \n",
       "ANTIOQUIA                241\n",
       "ARAUCA                   173\n",
       "NORTE DE SANTANDER       172"
      ]
     },
     "execution_count": 143,
     "metadata": {},
     "output_type": "execute_result"
    }
   ],
   "source": [
    "#Se utiliza la función groupby \n",
    "last5_df.groupby(['DEPARTAMENTO'])[['CANTIDAD']].sum().sort_values(by=\"CANTIDAD\", ascending= False).head(3)"
   ]
  },
  {
   "cell_type": "code",
   "execution_count": 76,
   "id": "5edbf30e",
   "metadata": {
    "collapsed": true
   },
   "outputs": [
    {
     "ename": "KeyError",
     "evalue": "\"Column(s) ['GENERO'] do not exist\"",
     "output_type": "error",
     "traceback": [
      "\u001b[1;31m---------------------------------------------------------------------------\u001b[0m",
      "\u001b[1;31mKeyError\u001b[0m                                  Traceback (most recent call last)",
      "Input \u001b[1;32mIn [76]\u001b[0m, in \u001b[0;36m<cell line: 1>\u001b[1;34m()\u001b[0m\n\u001b[1;32m----> 1\u001b[0m \u001b[43mlast5_df\u001b[49m\u001b[38;5;241;43m.\u001b[39;49m\u001b[43mgroupby\u001b[49m\u001b[43m(\u001b[49m\u001b[43mlast5_df\u001b[49m\u001b[43m[\u001b[49m\u001b[38;5;124;43m\"\u001b[39;49m\u001b[38;5;124;43mFECHA HECHO\u001b[39;49m\u001b[38;5;124;43m\"\u001b[39;49m\u001b[43m]\u001b[49m\u001b[38;5;241;43m.\u001b[39;49m\u001b[43mdt\u001b[49m\u001b[38;5;241;43m.\u001b[39;49m\u001b[43myear\u001b[49m\u001b[43m)\u001b[49m\u001b[38;5;241;43m.\u001b[39;49m\u001b[43magg\u001b[49m\u001b[43m(\u001b[49m\u001b[43m{\u001b[49m\u001b[38;5;124;43m\"\u001b[39;49m\u001b[38;5;124;43mGENERO\u001b[39;49m\u001b[38;5;124;43m\"\u001b[39;49m\u001b[43m:\u001b[49m\u001b[38;5;124;43m\"\u001b[39;49m\u001b[38;5;124;43mcount\u001b[39;49m\u001b[38;5;124;43m\"\u001b[39;49m\u001b[43m}\u001b[49m\u001b[43m)\u001b[49m\n",
      "File \u001b[1;32m~\\anaconda3\\lib\\site-packages\\pandas\\core\\groupby\\generic.py:869\u001b[0m, in \u001b[0;36mDataFrameGroupBy.aggregate\u001b[1;34m(self, func, engine, engine_kwargs, *args, **kwargs)\u001b[0m\n\u001b[0;32m    866\u001b[0m func \u001b[38;5;241m=\u001b[39m maybe_mangle_lambdas(func)\n\u001b[0;32m    868\u001b[0m op \u001b[38;5;241m=\u001b[39m GroupByApply(\u001b[38;5;28mself\u001b[39m, func, args, kwargs)\n\u001b[1;32m--> 869\u001b[0m result \u001b[38;5;241m=\u001b[39m \u001b[43mop\u001b[49m\u001b[38;5;241;43m.\u001b[39;49m\u001b[43magg\u001b[49m\u001b[43m(\u001b[49m\u001b[43m)\u001b[49m\n\u001b[0;32m    870\u001b[0m \u001b[38;5;28;01mif\u001b[39;00m \u001b[38;5;129;01mnot\u001b[39;00m is_dict_like(func) \u001b[38;5;129;01mand\u001b[39;00m result \u001b[38;5;129;01mis\u001b[39;00m \u001b[38;5;129;01mnot\u001b[39;00m \u001b[38;5;28;01mNone\u001b[39;00m:\n\u001b[0;32m    871\u001b[0m     \u001b[38;5;28;01mreturn\u001b[39;00m result\n",
      "File \u001b[1;32m~\\anaconda3\\lib\\site-packages\\pandas\\core\\apply.py:168\u001b[0m, in \u001b[0;36mApply.agg\u001b[1;34m(self)\u001b[0m\n\u001b[0;32m    165\u001b[0m     \u001b[38;5;28;01mreturn\u001b[39;00m \u001b[38;5;28mself\u001b[39m\u001b[38;5;241m.\u001b[39mapply_str()\n\u001b[0;32m    167\u001b[0m \u001b[38;5;28;01mif\u001b[39;00m is_dict_like(arg):\n\u001b[1;32m--> 168\u001b[0m     \u001b[38;5;28;01mreturn\u001b[39;00m \u001b[38;5;28;43mself\u001b[39;49m\u001b[38;5;241;43m.\u001b[39;49m\u001b[43magg_dict_like\u001b[49m\u001b[43m(\u001b[49m\u001b[43m)\u001b[49m\n\u001b[0;32m    169\u001b[0m \u001b[38;5;28;01melif\u001b[39;00m is_list_like(arg):\n\u001b[0;32m    170\u001b[0m     \u001b[38;5;66;03m# we require a list, but not a 'str'\u001b[39;00m\n\u001b[0;32m    171\u001b[0m     \u001b[38;5;28;01mreturn\u001b[39;00m \u001b[38;5;28mself\u001b[39m\u001b[38;5;241m.\u001b[39magg_list_like()\n",
      "File \u001b[1;32m~\\anaconda3\\lib\\site-packages\\pandas\\core\\apply.py:467\u001b[0m, in \u001b[0;36mApply.agg_dict_like\u001b[1;34m(self)\u001b[0m\n\u001b[0;32m    464\u001b[0m     selected_obj \u001b[38;5;241m=\u001b[39m obj\u001b[38;5;241m.\u001b[39m_selected_obj\n\u001b[0;32m    465\u001b[0m     selection \u001b[38;5;241m=\u001b[39m obj\u001b[38;5;241m.\u001b[39m_selection\n\u001b[1;32m--> 467\u001b[0m arg \u001b[38;5;241m=\u001b[39m \u001b[38;5;28;43mself\u001b[39;49m\u001b[38;5;241;43m.\u001b[39;49m\u001b[43mnormalize_dictlike_arg\u001b[49m\u001b[43m(\u001b[49m\u001b[38;5;124;43m\"\u001b[39;49m\u001b[38;5;124;43magg\u001b[39;49m\u001b[38;5;124;43m\"\u001b[39;49m\u001b[43m,\u001b[49m\u001b[43m \u001b[49m\u001b[43mselected_obj\u001b[49m\u001b[43m,\u001b[49m\u001b[43m \u001b[49m\u001b[43marg\u001b[49m\u001b[43m)\u001b[49m\n\u001b[0;32m    469\u001b[0m \u001b[38;5;28;01mif\u001b[39;00m selected_obj\u001b[38;5;241m.\u001b[39mndim \u001b[38;5;241m==\u001b[39m \u001b[38;5;241m1\u001b[39m:\n\u001b[0;32m    470\u001b[0m     \u001b[38;5;66;03m# key only used for output\u001b[39;00m\n\u001b[0;32m    471\u001b[0m     colg \u001b[38;5;241m=\u001b[39m obj\u001b[38;5;241m.\u001b[39m_gotitem(selection, ndim\u001b[38;5;241m=\u001b[39m\u001b[38;5;241m1\u001b[39m)\n",
      "File \u001b[1;32m~\\anaconda3\\lib\\site-packages\\pandas\\core\\apply.py:585\u001b[0m, in \u001b[0;36mApply.normalize_dictlike_arg\u001b[1;34m(self, how, obj, func)\u001b[0m\n\u001b[0;32m    583\u001b[0m     \u001b[38;5;28;01mif\u001b[39;00m \u001b[38;5;28mlen\u001b[39m(cols) \u001b[38;5;241m>\u001b[39m \u001b[38;5;241m0\u001b[39m:\n\u001b[0;32m    584\u001b[0m         cols_sorted \u001b[38;5;241m=\u001b[39m \u001b[38;5;28mlist\u001b[39m(safe_sort(\u001b[38;5;28mlist\u001b[39m(cols)))\n\u001b[1;32m--> 585\u001b[0m         \u001b[38;5;28;01mraise\u001b[39;00m \u001b[38;5;167;01mKeyError\u001b[39;00m(\u001b[38;5;124mf\u001b[39m\u001b[38;5;124m\"\u001b[39m\u001b[38;5;124mColumn(s) \u001b[39m\u001b[38;5;132;01m{\u001b[39;00mcols_sorted\u001b[38;5;132;01m}\u001b[39;00m\u001b[38;5;124m do not exist\u001b[39m\u001b[38;5;124m\"\u001b[39m)\n\u001b[0;32m    587\u001b[0m is_aggregator \u001b[38;5;241m=\u001b[39m \u001b[38;5;28;01mlambda\u001b[39;00m x: \u001b[38;5;28misinstance\u001b[39m(x, (\u001b[38;5;28mlist\u001b[39m, \u001b[38;5;28mtuple\u001b[39m, \u001b[38;5;28mdict\u001b[39m))\n\u001b[0;32m    589\u001b[0m \u001b[38;5;66;03m# if we have a dict of any non-scalars\u001b[39;00m\n\u001b[0;32m    590\u001b[0m \u001b[38;5;66;03m# eg. {'A' : ['mean']}, normalize all to\u001b[39;00m\n\u001b[0;32m    591\u001b[0m \u001b[38;5;66;03m# be list-likes\u001b[39;00m\n\u001b[0;32m    592\u001b[0m \u001b[38;5;66;03m# Cannot use func.values() because arg may be a Series\u001b[39;00m\n",
      "\u001b[1;31mKeyError\u001b[0m: \"Column(s) ['GENERO'] do not exist\""
     ]
    }
   ],
   "source": [
    "last5_df.groupby(last5_df[\"FECHA HECHO\"].dt.year).agg({\"GENERO\":\"count\"})"
   ]
  },
  {
   "cell_type": "markdown",
   "id": "b6afb51c",
   "metadata": {},
   "source": [
    "    b.Para los casos en los que aplique, ¿cuál ha sido el arma o medio más común para cometer el delito?"
   ]
  },
  {
   "cell_type": "code",
   "execution_count": 144,
   "id": "56f44c55",
   "metadata": {},
   "outputs": [
    {
     "data": {
      "text/plain": [
       "ARTEFACTO EXPLOSIVO/CARGA DINAMITA    1638\n",
       "Name: ARMAS MEDIOS, dtype: int64"
      ]
     },
     "execution_count": 144,
     "metadata": {},
     "output_type": "execute_result"
    }
   ],
   "source": [
    "terrorismo_df['ARMAS MEDIOS'].value_counts().head(1)"
   ]
  },
  {
   "cell_type": "markdown",
   "id": "3f0ad845",
   "metadata": {},
   "source": [
    "c.Para los casos en los que aplique, ¿cómo ha sido la proporción de géneros y grupos etarios que han estado involucrados en este tipo de delito? ¿Han variado con el paso de los años?"
   ]
  },
  {
   "cell_type": "code",
   "execution_count": null,
   "id": "e2502efc",
   "metadata": {},
   "outputs": [],
   "source": [
    "#NO APLICA"
   ]
  },
  {
   "cell_type": "markdown",
   "id": "2dd9dca4",
   "metadata": {},
   "source": [
    "d.¿Se evidencia alguna tendencia para cometer dicho delito en algún\n",
    "mes particular del año?"
   ]
  },
  {
   "cell_type": "code",
   "execution_count": 78,
   "id": "5323500f",
   "metadata": {
    "scrolled": false
   },
   "outputs": [
    {
     "data": {
      "text/plain": [
       "<AxesSubplot:xlabel='MES DEL AÑO'>"
      ]
     },
     "execution_count": 78,
     "metadata": {},
     "output_type": "execute_result"
    },
    {
     "data": {
      "image/png": "[encoded data removed]",
      "text/plain": [
       "<Figure size 1080x288 with 1 Axes>"
      ]
     },
     "metadata": {},
     "output_type": "display_data"
    }
   ],
   "source": [
    "sbn.set(rc={'figure.figsize':(15, 4)})\n",
    "last5_df.groupby(last5_df[\"FECHA HECHO\"].dt.month)['CANTIDAD'].count().plot(xlabel=\"MES DEL AÑO\")\n",
    "#En los ultimos 5 años el mes con más delitos fue FEBRERO"
   ]
  },
  {
   "cell_type": "code",
   "execution_count": 145,
   "id": "3881390a",
   "metadata": {},
   "outputs": [
    {
     "data": {
      "text/plain": [
       "FECHA HECHO\n",
       "1     138\n",
       "2     191\n",
       "3      99\n",
       "4     103\n",
       "5     130\n",
       "6      50\n",
       "7      88\n",
       "8      65\n",
       "9      85\n",
       "10     56\n",
       "11     47\n",
       "12     39\n",
       "Name: CANTIDAD, dtype: int64"
      ]
     },
     "execution_count": 145,
     "metadata": {},
     "output_type": "execute_result"
    }
   ],
   "source": [
    "last5_df.groupby(last5_df[\"FECHA HECHO\"].dt.month)['CANTIDAD'].count()"
   ]
  },
  {
   "cell_type": "markdown",
   "id": "9d3a7f2d",
   "metadata": {},
   "source": [
    "Para los casos en los que se disponga del detalle del delito o de una\n",
    "descripción, como por ejemplo en delitos sexuales y secuestro, ¿cuáles\n",
    "son las descripciones o modalidades más comunes?"
   ]
  },
  {
   "cell_type": "code",
   "execution_count": 58,
   "id": "2f7ee17a",
   "metadata": {
    "scrolled": true
   },
   "outputs": [],
   "source": [
    "#NO APLICA\n"
   ]
  },
  {
   "cell_type": "code",
   "execution_count": 140,
   "id": "2805ef5c",
   "metadata": {},
   "outputs": [],
   "source": [
    "terrorismo_df.to_csv('Terrorismo_BK.csv')"
   ]
  },
  {
   "cell_type": "code",
   "execution_count": 142,
   "id": "3f0c8fcf",
   "metadata": {},
   "outputs": [
    {
     "data": {
      "text/html": [
       "<div>\n",
       "<style scoped>\n",
       "    .dataframe tbody tr th:only-of-type {\n",
       "        vertical-align: middle;\n",
       "    }\n",
       "\n",
       "    .dataframe tbody tr th {\n",
       "        vertical-align: top;\n",
       "    }\n",
       "\n",
       "    .dataframe thead th {\n",
       "        text-align: right;\n",
       "    }\n",
       "</style>\n",
       "<table border=\"1\" class=\"dataframe\">\n",
       "  <thead>\n",
       "    <tr style=\"text-align: right;\">\n",
       "      <th></th>\n",
       "      <th>DEPARTAMENTO</th>\n",
       "      <th>MUNICIPIO</th>\n",
       "      <th>CODIGO DANE</th>\n",
       "      <th>ARMAS MEDIOS</th>\n",
       "      <th>FECHA HECHO</th>\n",
       "      <th>CANTIDAD</th>\n",
       "    </tr>\n",
       "  </thead>\n",
       "  <tbody>\n",
       "    <tr>\n",
       "      <th>0</th>\n",
       "      <td>PUTUMAYO</td>\n",
       "      <td>MOCOA</td>\n",
       "      <td>86001</td>\n",
       "      <td>ARTEFACTO EXPLOSIVO/CARGA DINAMITA</td>\n",
       "      <td>2010-01-05</td>\n",
       "      <td>1</td>\n",
       "    </tr>\n",
       "    <tr>\n",
       "      <th>1</th>\n",
       "      <td>ARAUCA</td>\n",
       "      <td>TAME</td>\n",
       "      <td>81794</td>\n",
       "      <td>ARTEFACTO INCENDIARIO</td>\n",
       "      <td>2010-01-06</td>\n",
       "      <td>1</td>\n",
       "    </tr>\n",
       "    <tr>\n",
       "      <th>2</th>\n",
       "      <td>META</td>\n",
       "      <td>VILLAVICENCIO</td>\n",
       "      <td>50001</td>\n",
       "      <td>GRANADA DE MANO</td>\n",
       "      <td>2010-01-06</td>\n",
       "      <td>1</td>\n",
       "    </tr>\n",
       "    <tr>\n",
       "      <th>3</th>\n",
       "      <td>ARAUCA</td>\n",
       "      <td>FORTUL</td>\n",
       "      <td>81300</td>\n",
       "      <td>CILINDRO BOMBA</td>\n",
       "      <td>2010-01-07</td>\n",
       "      <td>1</td>\n",
       "    </tr>\n",
       "    <tr>\n",
       "      <th>4</th>\n",
       "      <td>META</td>\n",
       "      <td>URIBE</td>\n",
       "      <td>50370</td>\n",
       "      <td>MINA ANTIPERSONA</td>\n",
       "      <td>2010-01-11</td>\n",
       "      <td>1</td>\n",
       "    </tr>\n",
       "    <tr>\n",
       "      <th>...</th>\n",
       "      <td>...</td>\n",
       "      <td>...</td>\n",
       "      <td>...</td>\n",
       "      <td>...</td>\n",
       "      <td>...</td>\n",
       "      <td>...</td>\n",
       "    </tr>\n",
       "    <tr>\n",
       "      <th>3949</th>\n",
       "      <td>NORTE DE SANTANDER</td>\n",
       "      <td>TIBÚ</td>\n",
       "      <td>54810</td>\n",
       "      <td>SIN EMPLEO DE ARMAS</td>\n",
       "      <td>2022-01-20</td>\n",
       "      <td>1</td>\n",
       "    </tr>\n",
       "    <tr>\n",
       "      <th>3950</th>\n",
       "      <td>NORTE DE SANTANDER</td>\n",
       "      <td>TIBÚ</td>\n",
       "      <td>54810</td>\n",
       "      <td>SIN EMPLEO DE ARMAS</td>\n",
       "      <td>2022-01-21</td>\n",
       "      <td>1</td>\n",
       "    </tr>\n",
       "    <tr>\n",
       "      <th>3951</th>\n",
       "      <td>NORTE DE SANTANDER</td>\n",
       "      <td>TIBÚ</td>\n",
       "      <td>54810</td>\n",
       "      <td>SIN EMPLEO DE ARMAS</td>\n",
       "      <td>2022-01-27</td>\n",
       "      <td>1</td>\n",
       "    </tr>\n",
       "    <tr>\n",
       "      <th>3952</th>\n",
       "      <td>NORTE DE SANTANDER</td>\n",
       "      <td>TIBÚ</td>\n",
       "      <td>54810</td>\n",
       "      <td>SIN EMPLEO DE ARMAS</td>\n",
       "      <td>2022-02-23</td>\n",
       "      <td>1</td>\n",
       "    </tr>\n",
       "    <tr>\n",
       "      <th>3953</th>\n",
       "      <td>NORTE DE SANTANDER</td>\n",
       "      <td>TIBÚ</td>\n",
       "      <td>54810</td>\n",
       "      <td>SIN EMPLEO DE ARMAS</td>\n",
       "      <td>2022-03-26</td>\n",
       "      <td>1</td>\n",
       "    </tr>\n",
       "  </tbody>\n",
       "</table>\n",
       "<p>3954 rows × 6 columns</p>\n",
       "</div>"
      ],
      "text/plain": [
       "            DEPARTAMENTO      MUNICIPIO  CODIGO DANE  \\\n",
       "0               PUTUMAYO          MOCOA        86001   \n",
       "1                 ARAUCA           TAME        81794   \n",
       "2                   META  VILLAVICENCIO        50001   \n",
       "3                 ARAUCA         FORTUL        81300   \n",
       "4                   META          URIBE        50370   \n",
       "...                  ...            ...          ...   \n",
       "3949  NORTE DE SANTANDER           TIBÚ        54810   \n",
       "3950  NORTE DE SANTANDER           TIBÚ        54810   \n",
       "3951  NORTE DE SANTANDER           TIBÚ        54810   \n",
       "3952  NORTE DE SANTANDER           TIBÚ        54810   \n",
       "3953  NORTE DE SANTANDER           TIBÚ        54810   \n",
       "\n",
       "                            ARMAS MEDIOS FECHA HECHO  CANTIDAD  \n",
       "0     ARTEFACTO EXPLOSIVO/CARGA DINAMITA  2010-01-05         1  \n",
       "1                  ARTEFACTO INCENDIARIO  2010-01-06         1  \n",
       "2                        GRANADA DE MANO  2010-01-06         1  \n",
       "3                         CILINDRO BOMBA  2010-01-07         1  \n",
       "4                       MINA ANTIPERSONA  2010-01-11         1  \n",
       "...                                  ...         ...       ...  \n",
       "3949                 SIN EMPLEO DE ARMAS  2022-01-20         1  \n",
       "3950                 SIN EMPLEO DE ARMAS  2022-01-21         1  \n",
       "3951                 SIN EMPLEO DE ARMAS  2022-01-27         1  \n",
       "3952                 SIN EMPLEO DE ARMAS  2022-02-23         1  \n",
       "3953                 SIN EMPLEO DE ARMAS  2022-03-26         1  \n",
       "\n",
       "[3954 rows x 6 columns]"
      ]
     },
     "execution_count": 142,
     "metadata": {},
     "output_type": "execute_result"
    }
   ],
   "source": [
    "terrorismo_df"
   ]
  }
 ],
 "metadata": {
  "kernelspec": {
   "display_name": "Python 3 (ipykernel)",
   "language": "python",
   "name": "python3"
  },
  "language_info": {
   "codemirror_mode": {
    "name": "ipython",
    "version": 3
   },
   "file_extension": ".py",
   "mimetype": "text/x-python",
   "name": "python",
   "nbconvert_exporter": "python",
   "pygments_lexer": "ipython3",
   "version": "3.9.12"
  },
  "widgets": {
   "application/vnd.jupyter.widget-state+json": {
    "state": {},
    "version_major": 2,
    "version_minor": 0
   }
  }
 },
 "nbformat": 4,
 "nbformat_minor": 5
}
