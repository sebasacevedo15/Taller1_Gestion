{
 "cells": [
  {
   "cell_type": "code",
   "execution_count": 2,
   "id": "a6250d37",
   "metadata": {},
   "outputs": [],
   "source": [
    "# Importamos Librerías\n",
    "\n",
    "import re\n",
    "from random import randint\n",
    "from datetime import datetime\n",
    "\n",
    "import numpy as np\n",
    "import pandas as pd\n",
    "\n",
    "import matplotlib.pyplot as plt\n",
    "import pylev\n",
    "import seaborn as sbn"
   ]
  },
  {
   "cell_type": "code",
   "execution_count": 3,
   "id": "45a2d106",
   "metadata": {},
   "outputs": [],
   "source": [
    "#Incorporamos parámetros para mostrar columnas cuando se imprime\n",
    "\n",
    "pd.set_option('display.max_columns', None)\n",
    "pd.set_option('display.max_rows',100)\n",
    "pd.set_option('display.max_columns',100)"
   ]
  },
  {
   "cell_type": "code",
   "execution_count": 4,
   "id": "1398ffaa",
   "metadata": {
    "collapsed": true
   },
   "outputs": [
    {
     "ename": "UnicodeDecodeError",
     "evalue": "'utf-8' codec can't decode byte 0xc1 in position 372: invalid start byte",
     "output_type": "error",
     "traceback": [
      "\u001b[1;31m---------------------------------------------------------------------------\u001b[0m",
      "\u001b[1;31mUnicodeDecodeError\u001b[0m                        Traceback (most recent call last)",
      "Input \u001b[1;32mIn [4]\u001b[0m, in \u001b[0;36m<cell line: 3>\u001b[1;34m()\u001b[0m\n\u001b[0;32m      1\u001b[0m \u001b[38;5;66;03m# Cargamos Base en Excel sobre SECUESTRO\u001b[39;00m\n\u001b[1;32m----> 3\u001b[0m secuestro_df\u001b[38;5;241m=\u001b[39m\u001b[43mpd\u001b[49m\u001b[38;5;241;43m.\u001b[39;49m\u001b[43mread_csv\u001b[49m\u001b[43m(\u001b[49m\u001b[38;5;124;43m'\u001b[39;49m\u001b[38;5;124;43mSECUESTRO.csv\u001b[39;49m\u001b[38;5;124;43m'\u001b[39;49m\u001b[43m)\u001b[49m\n",
      "File \u001b[1;32m~\\anaconda3\\lib\\site-packages\\pandas\\util\\_decorators.py:311\u001b[0m, in \u001b[0;36mdeprecate_nonkeyword_arguments.<locals>.decorate.<locals>.wrapper\u001b[1;34m(*args, **kwargs)\u001b[0m\n\u001b[0;32m    305\u001b[0m \u001b[38;5;28;01mif\u001b[39;00m \u001b[38;5;28mlen\u001b[39m(args) \u001b[38;5;241m>\u001b[39m num_allow_args:\n\u001b[0;32m    306\u001b[0m     warnings\u001b[38;5;241m.\u001b[39mwarn(\n\u001b[0;32m    307\u001b[0m         msg\u001b[38;5;241m.\u001b[39mformat(arguments\u001b[38;5;241m=\u001b[39marguments),\n\u001b[0;32m    308\u001b[0m         \u001b[38;5;167;01mFutureWarning\u001b[39;00m,\n\u001b[0;32m    309\u001b[0m         stacklevel\u001b[38;5;241m=\u001b[39mstacklevel,\n\u001b[0;32m    310\u001b[0m     )\n\u001b[1;32m--> 311\u001b[0m \u001b[38;5;28;01mreturn\u001b[39;00m func(\u001b[38;5;241m*\u001b[39margs, \u001b[38;5;241m*\u001b[39m\u001b[38;5;241m*\u001b[39mkwargs)\n",
      "File \u001b[1;32m~\\anaconda3\\lib\\site-packages\\pandas\\io\\parsers\\readers.py:680\u001b[0m, in \u001b[0;36mread_csv\u001b[1;34m(filepath_or_buffer, sep, delimiter, header, names, index_col, usecols, squeeze, prefix, mangle_dupe_cols, dtype, engine, converters, true_values, false_values, skipinitialspace, skiprows, skipfooter, nrows, na_values, keep_default_na, na_filter, verbose, skip_blank_lines, parse_dates, infer_datetime_format, keep_date_col, date_parser, dayfirst, cache_dates, iterator, chunksize, compression, thousands, decimal, lineterminator, quotechar, quoting, doublequote, escapechar, comment, encoding, encoding_errors, dialect, error_bad_lines, warn_bad_lines, on_bad_lines, delim_whitespace, low_memory, memory_map, float_precision, storage_options)\u001b[0m\n\u001b[0;32m    665\u001b[0m kwds_defaults \u001b[38;5;241m=\u001b[39m _refine_defaults_read(\n\u001b[0;32m    666\u001b[0m     dialect,\n\u001b[0;32m    667\u001b[0m     delimiter,\n\u001b[1;32m   (...)\u001b[0m\n\u001b[0;32m    676\u001b[0m     defaults\u001b[38;5;241m=\u001b[39m{\u001b[38;5;124m\"\u001b[39m\u001b[38;5;124mdelimiter\u001b[39m\u001b[38;5;124m\"\u001b[39m: \u001b[38;5;124m\"\u001b[39m\u001b[38;5;124m,\u001b[39m\u001b[38;5;124m\"\u001b[39m},\n\u001b[0;32m    677\u001b[0m )\n\u001b[0;32m    678\u001b[0m kwds\u001b[38;5;241m.\u001b[39mupdate(kwds_defaults)\n\u001b[1;32m--> 680\u001b[0m \u001b[38;5;28;01mreturn\u001b[39;00m \u001b[43m_read\u001b[49m\u001b[43m(\u001b[49m\u001b[43mfilepath_or_buffer\u001b[49m\u001b[43m,\u001b[49m\u001b[43m \u001b[49m\u001b[43mkwds\u001b[49m\u001b[43m)\u001b[49m\n",
      "File \u001b[1;32m~\\anaconda3\\lib\\site-packages\\pandas\\io\\parsers\\readers.py:575\u001b[0m, in \u001b[0;36m_read\u001b[1;34m(filepath_or_buffer, kwds)\u001b[0m\n\u001b[0;32m    572\u001b[0m _validate_names(kwds\u001b[38;5;241m.\u001b[39mget(\u001b[38;5;124m\"\u001b[39m\u001b[38;5;124mnames\u001b[39m\u001b[38;5;124m\"\u001b[39m, \u001b[38;5;28;01mNone\u001b[39;00m))\n\u001b[0;32m    574\u001b[0m \u001b[38;5;66;03m# Create the parser.\u001b[39;00m\n\u001b[1;32m--> 575\u001b[0m parser \u001b[38;5;241m=\u001b[39m TextFileReader(filepath_or_buffer, \u001b[38;5;241m*\u001b[39m\u001b[38;5;241m*\u001b[39mkwds)\n\u001b[0;32m    577\u001b[0m \u001b[38;5;28;01mif\u001b[39;00m chunksize \u001b[38;5;129;01mor\u001b[39;00m iterator:\n\u001b[0;32m    578\u001b[0m     \u001b[38;5;28;01mreturn\u001b[39;00m parser\n",
      "File \u001b[1;32m~\\anaconda3\\lib\\site-packages\\pandas\\io\\parsers\\readers.py:933\u001b[0m, in \u001b[0;36mTextFileReader.__init__\u001b[1;34m(self, f, engine, **kwds)\u001b[0m\n\u001b[0;32m    930\u001b[0m     \u001b[38;5;28mself\u001b[39m\u001b[38;5;241m.\u001b[39moptions[\u001b[38;5;124m\"\u001b[39m\u001b[38;5;124mhas_index_names\u001b[39m\u001b[38;5;124m\"\u001b[39m] \u001b[38;5;241m=\u001b[39m kwds[\u001b[38;5;124m\"\u001b[39m\u001b[38;5;124mhas_index_names\u001b[39m\u001b[38;5;124m\"\u001b[39m]\n\u001b[0;32m    932\u001b[0m \u001b[38;5;28mself\u001b[39m\u001b[38;5;241m.\u001b[39mhandles: IOHandles \u001b[38;5;241m|\u001b[39m \u001b[38;5;28;01mNone\u001b[39;00m \u001b[38;5;241m=\u001b[39m \u001b[38;5;28;01mNone\u001b[39;00m\n\u001b[1;32m--> 933\u001b[0m \u001b[38;5;28mself\u001b[39m\u001b[38;5;241m.\u001b[39m_engine \u001b[38;5;241m=\u001b[39m \u001b[38;5;28;43mself\u001b[39;49m\u001b[38;5;241;43m.\u001b[39;49m\u001b[43m_make_engine\u001b[49m\u001b[43m(\u001b[49m\u001b[43mf\u001b[49m\u001b[43m,\u001b[49m\u001b[43m \u001b[49m\u001b[38;5;28;43mself\u001b[39;49m\u001b[38;5;241;43m.\u001b[39;49m\u001b[43mengine\u001b[49m\u001b[43m)\u001b[49m\n",
      "File \u001b[1;32m~\\anaconda3\\lib\\site-packages\\pandas\\io\\parsers\\readers.py:1235\u001b[0m, in \u001b[0;36mTextFileReader._make_engine\u001b[1;34m(self, f, engine)\u001b[0m\n\u001b[0;32m   1232\u001b[0m     \u001b[38;5;28;01mraise\u001b[39;00m \u001b[38;5;167;01mValueError\u001b[39;00m(msg)\n\u001b[0;32m   1234\u001b[0m \u001b[38;5;28;01mtry\u001b[39;00m:\n\u001b[1;32m-> 1235\u001b[0m     \u001b[38;5;28;01mreturn\u001b[39;00m mapping[engine](f, \u001b[38;5;241m*\u001b[39m\u001b[38;5;241m*\u001b[39m\u001b[38;5;28mself\u001b[39m\u001b[38;5;241m.\u001b[39moptions)\n\u001b[0;32m   1236\u001b[0m \u001b[38;5;28;01mexcept\u001b[39;00m \u001b[38;5;167;01mException\u001b[39;00m:\n\u001b[0;32m   1237\u001b[0m     \u001b[38;5;28;01mif\u001b[39;00m \u001b[38;5;28mself\u001b[39m\u001b[38;5;241m.\u001b[39mhandles \u001b[38;5;129;01mis\u001b[39;00m \u001b[38;5;129;01mnot\u001b[39;00m \u001b[38;5;28;01mNone\u001b[39;00m:\n",
      "File \u001b[1;32m~\\anaconda3\\lib\\site-packages\\pandas\\io\\parsers\\c_parser_wrapper.py:75\u001b[0m, in \u001b[0;36mCParserWrapper.__init__\u001b[1;34m(self, src, **kwds)\u001b[0m\n\u001b[0;32m     72\u001b[0m     kwds\u001b[38;5;241m.\u001b[39mpop(key, \u001b[38;5;28;01mNone\u001b[39;00m)\n\u001b[0;32m     74\u001b[0m kwds[\u001b[38;5;124m\"\u001b[39m\u001b[38;5;124mdtype\u001b[39m\u001b[38;5;124m\"\u001b[39m] \u001b[38;5;241m=\u001b[39m ensure_dtype_objs(kwds\u001b[38;5;241m.\u001b[39mget(\u001b[38;5;124m\"\u001b[39m\u001b[38;5;124mdtype\u001b[39m\u001b[38;5;124m\"\u001b[39m, \u001b[38;5;28;01mNone\u001b[39;00m))\n\u001b[1;32m---> 75\u001b[0m \u001b[38;5;28mself\u001b[39m\u001b[38;5;241m.\u001b[39m_reader \u001b[38;5;241m=\u001b[39m parsers\u001b[38;5;241m.\u001b[39mTextReader(src, \u001b[38;5;241m*\u001b[39m\u001b[38;5;241m*\u001b[39mkwds)\n\u001b[0;32m     77\u001b[0m \u001b[38;5;28mself\u001b[39m\u001b[38;5;241m.\u001b[39munnamed_cols \u001b[38;5;241m=\u001b[39m \u001b[38;5;28mself\u001b[39m\u001b[38;5;241m.\u001b[39m_reader\u001b[38;5;241m.\u001b[39munnamed_cols\n\u001b[0;32m     79\u001b[0m \u001b[38;5;66;03m# error: Cannot determine type of 'names'\u001b[39;00m\n",
      "File \u001b[1;32m~\\anaconda3\\lib\\site-packages\\pandas\\_libs\\parsers.pyx:544\u001b[0m, in \u001b[0;36mpandas._libs.parsers.TextReader.__cinit__\u001b[1;34m()\u001b[0m\n",
      "File \u001b[1;32m~\\anaconda3\\lib\\site-packages\\pandas\\_libs\\parsers.pyx:633\u001b[0m, in \u001b[0;36mpandas._libs.parsers.TextReader._get_header\u001b[1;34m()\u001b[0m\n",
      "File \u001b[1;32m~\\anaconda3\\lib\\site-packages\\pandas\\_libs\\parsers.pyx:847\u001b[0m, in \u001b[0;36mpandas._libs.parsers.TextReader._tokenize_rows\u001b[1;34m()\u001b[0m\n",
      "File \u001b[1;32m~\\anaconda3\\lib\\site-packages\\pandas\\_libs\\parsers.pyx:1952\u001b[0m, in \u001b[0;36mpandas._libs.parsers.raise_parser_error\u001b[1;34m()\u001b[0m\n",
      "\u001b[1;31mUnicodeDecodeError\u001b[0m: 'utf-8' codec can't decode byte 0xc1 in position 372: invalid start byte"
     ]
    }
   ],
   "source": [
    "# Cargamos Base en Excel sobre SECUESTRO\n",
    "\n",
    "secuestro_df=pd.read_csv('./data/SECUESTRO.csv')"
   ]
  },
  {
   "cell_type": "code",
   "execution_count": 42,
   "id": "3f7af669",
   "metadata": {},
   "outputs": [
    {
     "data": {
      "text/plain": [
       "(18642, 7)"
      ]
     },
     "execution_count": 42,
     "metadata": {},
     "output_type": "execute_result"
    }
   ],
   "source": [
    "# Mostramos Dimensiones de la base\n",
    "\n",
    "secuestro_df.shape"
   ]
  },
  {
   "cell_type": "code",
   "execution_count": 43,
   "id": "c563cd77",
   "metadata": {},
   "outputs": [
    {
     "data": {
      "text/html": [
       "<div>\n",
       "<style scoped>\n",
       "    .dataframe tbody tr th:only-of-type {\n",
       "        vertical-align: middle;\n",
       "    }\n",
       "\n",
       "    .dataframe tbody tr th {\n",
       "        vertical-align: top;\n",
       "    }\n",
       "\n",
       "    .dataframe thead th {\n",
       "        text-align: right;\n",
       "    }\n",
       "</style>\n",
       "<table border=\"1\" class=\"dataframe\">\n",
       "  <thead>\n",
       "    <tr style=\"text-align: right;\">\n",
       "      <th></th>\n",
       "      <th>FECHA HECHO</th>\n",
       "      <th>COD_DEPTO</th>\n",
       "      <th>DEPARTAMENTO</th>\n",
       "      <th>COD_MUNI</th>\n",
       "      <th>MUNICIPIO</th>\n",
       "      <th>TIPO DELITO</th>\n",
       "      <th>CANTIDAD</th>\n",
       "    </tr>\n",
       "  </thead>\n",
       "  <tbody>\n",
       "    <tr>\n",
       "      <th>0</th>\n",
       "      <td>01/01/1996 12:00:00 AM</td>\n",
       "      <td>5</td>\n",
       "      <td>ANTIOQUIA</td>\n",
       "      <td>5,042</td>\n",
       "      <td>SANTAFE DE ANTIOQUIA</td>\n",
       "      <td>SECUESTRO SIMPLE</td>\n",
       "      <td>1</td>\n",
       "    </tr>\n",
       "    <tr>\n",
       "      <th>1</th>\n",
       "      <td>01/01/1996 12:00:00 AM</td>\n",
       "      <td>25</td>\n",
       "      <td>CUNDINAMARCA</td>\n",
       "      <td>25,290</td>\n",
       "      <td>FUSAGASUGA</td>\n",
       "      <td>SECUESTRO EXTORSIVO</td>\n",
       "      <td>1</td>\n",
       "    </tr>\n",
       "    <tr>\n",
       "      <th>2</th>\n",
       "      <td>01/02/1996 12:00:00 AM</td>\n",
       "      <td>5</td>\n",
       "      <td>ANTIOQUIA</td>\n",
       "      <td>5,038</td>\n",
       "      <td>ANGOSTURA</td>\n",
       "      <td>SECUESTRO EXTORSIVO</td>\n",
       "      <td>1</td>\n",
       "    </tr>\n",
       "    <tr>\n",
       "      <th>3</th>\n",
       "      <td>01/02/1996 12:00:00 AM</td>\n",
       "      <td>5</td>\n",
       "      <td>ANTIOQUIA</td>\n",
       "      <td>5,088</td>\n",
       "      <td>BELLO</td>\n",
       "      <td>SECUESTRO EXTORSIVO</td>\n",
       "      <td>1</td>\n",
       "    </tr>\n",
       "    <tr>\n",
       "      <th>4</th>\n",
       "      <td>01/02/1996 12:00:00 AM</td>\n",
       "      <td>11</td>\n",
       "      <td>BOGOTÁ D.C.</td>\n",
       "      <td>11,001</td>\n",
       "      <td>BOGOTA, D.C.</td>\n",
       "      <td>SECUESTRO EXTORSIVO</td>\n",
       "      <td>1</td>\n",
       "    </tr>\n",
       "  </tbody>\n",
       "</table>\n",
       "</div>"
      ],
      "text/plain": [
       "              FECHA HECHO  COD_DEPTO  DEPARTAMENTO COD_MUNI  \\\n",
       "0  01/01/1996 12:00:00 AM          5     ANTIOQUIA    5,042   \n",
       "1  01/01/1996 12:00:00 AM         25  CUNDINAMARCA   25,290   \n",
       "2  01/02/1996 12:00:00 AM          5     ANTIOQUIA    5,038   \n",
       "3  01/02/1996 12:00:00 AM          5     ANTIOQUIA    5,088   \n",
       "4  01/02/1996 12:00:00 AM         11   BOGOTÁ D.C.   11,001   \n",
       "\n",
       "              MUNICIPIO          TIPO DELITO  CANTIDAD  \n",
       "0  SANTAFE DE ANTIOQUIA     SECUESTRO SIMPLE         1  \n",
       "1            FUSAGASUGA  SECUESTRO EXTORSIVO         1  \n",
       "2             ANGOSTURA  SECUESTRO EXTORSIVO         1  \n",
       "3                 BELLO  SECUESTRO EXTORSIVO         1  \n",
       "4          BOGOTA, D.C.  SECUESTRO EXTORSIVO         1  "
      ]
     },
     "execution_count": 43,
     "metadata": {},
     "output_type": "execute_result"
    }
   ],
   "source": [
    "secuestro_df.head()"
   ]
  },
  {
   "cell_type": "code",
   "execution_count": 44,
   "id": "25594502",
   "metadata": {},
   "outputs": [
    {
     "data": {
      "text/plain": [
       "FECHA HECHO     object\n",
       "COD_DEPTO        int64\n",
       "DEPARTAMENTO    object\n",
       "COD_MUNI        object\n",
       "MUNICIPIO       object\n",
       "TIPO DELITO     object\n",
       "CANTIDAD         int64\n",
       "dtype: object"
      ]
     },
     "execution_count": 44,
     "metadata": {},
     "output_type": "execute_result"
    }
   ],
   "source": [
    "secuestro_df.dtypes"
   ]
  },
  {
   "cell_type": "code",
   "execution_count": 45,
   "id": "782099d5",
   "metadata": {},
   "outputs": [],
   "source": [
    "# Como se observa en el resultado anterior, tenemos dos columnas de números enteros y el resto en tipo general de objeto."
   ]
  },
  {
   "cell_type": "code",
   "execution_count": 46,
   "id": "b4f0a602",
   "metadata": {},
   "outputs": [],
   "source": [
    "#Quitamos hora de la fecha pues está constante y no da información adicional sobre el fenómeno de interés. \n",
    "\n",
    "secuestro_df[\"FECHA HECHO\"]=secuestro_df[\"FECHA HECHO\"].str.replace('12:00:00 AM','')"
   ]
  },
  {
   "cell_type": "code",
   "execution_count": 47,
   "id": "2fc92c81",
   "metadata": {},
   "outputs": [
    {
     "data": {
      "text/html": [
       "<div>\n",
       "<style scoped>\n",
       "    .dataframe tbody tr th:only-of-type {\n",
       "        vertical-align: middle;\n",
       "    }\n",
       "\n",
       "    .dataframe tbody tr th {\n",
       "        vertical-align: top;\n",
       "    }\n",
       "\n",
       "    .dataframe thead th {\n",
       "        text-align: right;\n",
       "    }\n",
       "</style>\n",
       "<table border=\"1\" class=\"dataframe\">\n",
       "  <thead>\n",
       "    <tr style=\"text-align: right;\">\n",
       "      <th></th>\n",
       "      <th>FECHA HECHO</th>\n",
       "      <th>COD_DEPTO</th>\n",
       "      <th>DEPARTAMENTO</th>\n",
       "      <th>COD_MUNI</th>\n",
       "      <th>MUNICIPIO</th>\n",
       "      <th>TIPO DELITO</th>\n",
       "      <th>CANTIDAD</th>\n",
       "    </tr>\n",
       "  </thead>\n",
       "  <tbody>\n",
       "    <tr>\n",
       "      <th>0</th>\n",
       "      <td>01/01/1996</td>\n",
       "      <td>5</td>\n",
       "      <td>ANTIOQUIA</td>\n",
       "      <td>5,042</td>\n",
       "      <td>SANTAFE DE ANTIOQUIA</td>\n",
       "      <td>SECUESTRO SIMPLE</td>\n",
       "      <td>1</td>\n",
       "    </tr>\n",
       "    <tr>\n",
       "      <th>1</th>\n",
       "      <td>01/01/1996</td>\n",
       "      <td>25</td>\n",
       "      <td>CUNDINAMARCA</td>\n",
       "      <td>25,290</td>\n",
       "      <td>FUSAGASUGA</td>\n",
       "      <td>SECUESTRO EXTORSIVO</td>\n",
       "      <td>1</td>\n",
       "    </tr>\n",
       "    <tr>\n",
       "      <th>2</th>\n",
       "      <td>01/02/1996</td>\n",
       "      <td>5</td>\n",
       "      <td>ANTIOQUIA</td>\n",
       "      <td>5,038</td>\n",
       "      <td>ANGOSTURA</td>\n",
       "      <td>SECUESTRO EXTORSIVO</td>\n",
       "      <td>1</td>\n",
       "    </tr>\n",
       "    <tr>\n",
       "      <th>3</th>\n",
       "      <td>01/02/1996</td>\n",
       "      <td>5</td>\n",
       "      <td>ANTIOQUIA</td>\n",
       "      <td>5,088</td>\n",
       "      <td>BELLO</td>\n",
       "      <td>SECUESTRO EXTORSIVO</td>\n",
       "      <td>1</td>\n",
       "    </tr>\n",
       "    <tr>\n",
       "      <th>4</th>\n",
       "      <td>01/02/1996</td>\n",
       "      <td>11</td>\n",
       "      <td>BOGOTÁ D.C.</td>\n",
       "      <td>11,001</td>\n",
       "      <td>BOGOTA, D.C.</td>\n",
       "      <td>SECUESTRO EXTORSIVO</td>\n",
       "      <td>1</td>\n",
       "    </tr>\n",
       "  </tbody>\n",
       "</table>\n",
       "</div>"
      ],
      "text/plain": [
       "   FECHA HECHO  COD_DEPTO  DEPARTAMENTO COD_MUNI             MUNICIPIO  \\\n",
       "0  01/01/1996           5     ANTIOQUIA    5,042  SANTAFE DE ANTIOQUIA   \n",
       "1  01/01/1996          25  CUNDINAMARCA   25,290            FUSAGASUGA   \n",
       "2  01/02/1996           5     ANTIOQUIA    5,038             ANGOSTURA   \n",
       "3  01/02/1996           5     ANTIOQUIA    5,088                 BELLO   \n",
       "4  01/02/1996          11   BOGOTÁ D.C.   11,001          BOGOTA, D.C.   \n",
       "\n",
       "           TIPO DELITO  CANTIDAD  \n",
       "0     SECUESTRO SIMPLE         1  \n",
       "1  SECUESTRO EXTORSIVO         1  \n",
       "2  SECUESTRO EXTORSIVO         1  \n",
       "3  SECUESTRO EXTORSIVO         1  \n",
       "4  SECUESTRO EXTORSIVO         1  "
      ]
     },
     "execution_count": 47,
     "metadata": {},
     "output_type": "execute_result"
    }
   ],
   "source": [
    "# Verificamos la aplicación del cambio\n",
    "\n",
    "secuestro_df.head()"
   ]
  },
  {
   "cell_type": "code",
   "execution_count": 48,
   "id": "d3bd4f66",
   "metadata": {},
   "outputs": [],
   "source": [
    "# importamos librería datetime para ajustar formatos relacionados con la columna \"Fecha Hecho\"\n",
    "\n",
    "from datetime import datetime as dt"
   ]
  },
  {
   "cell_type": "code",
   "execution_count": 49,
   "id": "60a551d7",
   "metadata": {},
   "outputs": [],
   "source": [
    "# Cambiamos de string a formato de fecha\n",
    "\n",
    "secuestro_df[\"FECHA HECHO\"] = pd.to_datetime(secuestro_df[\"FECHA HECHO\"])"
   ]
  },
  {
   "cell_type": "code",
   "execution_count": 50,
   "id": "605ba6d0",
   "metadata": {},
   "outputs": [
    {
     "data": {
      "text/html": [
       "<div>\n",
       "<style scoped>\n",
       "    .dataframe tbody tr th:only-of-type {\n",
       "        vertical-align: middle;\n",
       "    }\n",
       "\n",
       "    .dataframe tbody tr th {\n",
       "        vertical-align: top;\n",
       "    }\n",
       "\n",
       "    .dataframe thead th {\n",
       "        text-align: right;\n",
       "    }\n",
       "</style>\n",
       "<table border=\"1\" class=\"dataframe\">\n",
       "  <thead>\n",
       "    <tr style=\"text-align: right;\">\n",
       "      <th></th>\n",
       "      <th>FECHA HECHO</th>\n",
       "      <th>COD_DEPTO</th>\n",
       "      <th>DEPARTAMENTO</th>\n",
       "      <th>COD_MUNI</th>\n",
       "      <th>MUNICIPIO</th>\n",
       "      <th>TIPO DELITO</th>\n",
       "      <th>CANTIDAD</th>\n",
       "    </tr>\n",
       "  </thead>\n",
       "  <tbody>\n",
       "    <tr>\n",
       "      <th>0</th>\n",
       "      <td>1996-01-01</td>\n",
       "      <td>5</td>\n",
       "      <td>ANTIOQUIA</td>\n",
       "      <td>5,042</td>\n",
       "      <td>SANTAFE DE ANTIOQUIA</td>\n",
       "      <td>SECUESTRO SIMPLE</td>\n",
       "      <td>1</td>\n",
       "    </tr>\n",
       "    <tr>\n",
       "      <th>1</th>\n",
       "      <td>1996-01-01</td>\n",
       "      <td>25</td>\n",
       "      <td>CUNDINAMARCA</td>\n",
       "      <td>25,290</td>\n",
       "      <td>FUSAGASUGA</td>\n",
       "      <td>SECUESTRO EXTORSIVO</td>\n",
       "      <td>1</td>\n",
       "    </tr>\n",
       "    <tr>\n",
       "      <th>2</th>\n",
       "      <td>1996-01-02</td>\n",
       "      <td>5</td>\n",
       "      <td>ANTIOQUIA</td>\n",
       "      <td>5,038</td>\n",
       "      <td>ANGOSTURA</td>\n",
       "      <td>SECUESTRO EXTORSIVO</td>\n",
       "      <td>1</td>\n",
       "    </tr>\n",
       "    <tr>\n",
       "      <th>3</th>\n",
       "      <td>1996-01-02</td>\n",
       "      <td>5</td>\n",
       "      <td>ANTIOQUIA</td>\n",
       "      <td>5,088</td>\n",
       "      <td>BELLO</td>\n",
       "      <td>SECUESTRO EXTORSIVO</td>\n",
       "      <td>1</td>\n",
       "    </tr>\n",
       "    <tr>\n",
       "      <th>4</th>\n",
       "      <td>1996-01-02</td>\n",
       "      <td>11</td>\n",
       "      <td>BOGOTÁ D.C.</td>\n",
       "      <td>11,001</td>\n",
       "      <td>BOGOTA, D.C.</td>\n",
       "      <td>SECUESTRO EXTORSIVO</td>\n",
       "      <td>1</td>\n",
       "    </tr>\n",
       "  </tbody>\n",
       "</table>\n",
       "</div>"
      ],
      "text/plain": [
       "  FECHA HECHO  COD_DEPTO  DEPARTAMENTO COD_MUNI             MUNICIPIO  \\\n",
       "0  1996-01-01          5     ANTIOQUIA    5,042  SANTAFE DE ANTIOQUIA   \n",
       "1  1996-01-01         25  CUNDINAMARCA   25,290            FUSAGASUGA   \n",
       "2  1996-01-02          5     ANTIOQUIA    5,038             ANGOSTURA   \n",
       "3  1996-01-02          5     ANTIOQUIA    5,088                 BELLO   \n",
       "4  1996-01-02         11   BOGOTÁ D.C.   11,001          BOGOTA, D.C.   \n",
       "\n",
       "           TIPO DELITO  CANTIDAD  \n",
       "0     SECUESTRO SIMPLE         1  \n",
       "1  SECUESTRO EXTORSIVO         1  \n",
       "2  SECUESTRO EXTORSIVO         1  \n",
       "3  SECUESTRO EXTORSIVO         1  \n",
       "4  SECUESTRO EXTORSIVO         1  "
      ]
     },
     "execution_count": 50,
     "metadata": {},
     "output_type": "execute_result"
    }
   ],
   "source": [
    "secuestro_df.head()"
   ]
  },
  {
   "cell_type": "code",
   "execution_count": 51,
   "id": "8237f684",
   "metadata": {},
   "outputs": [],
   "source": [
    "# Cambiamos formato de fecha a s/m/Y\n",
    "\n",
    "secuestro_df[\"FECHA HECHO\"] = secuestro_df[\"FECHA HECHO\"].dt.strftime(\"%d/%m/%Y\")"
   ]
  },
  {
   "cell_type": "code",
   "execution_count": 52,
   "id": "a5719778",
   "metadata": {},
   "outputs": [
    {
     "data": {
      "text/html": [
       "<div>\n",
       "<style scoped>\n",
       "    .dataframe tbody tr th:only-of-type {\n",
       "        vertical-align: middle;\n",
       "    }\n",
       "\n",
       "    .dataframe tbody tr th {\n",
       "        vertical-align: top;\n",
       "    }\n",
       "\n",
       "    .dataframe thead th {\n",
       "        text-align: right;\n",
       "    }\n",
       "</style>\n",
       "<table border=\"1\" class=\"dataframe\">\n",
       "  <thead>\n",
       "    <tr style=\"text-align: right;\">\n",
       "      <th></th>\n",
       "      <th>FECHA HECHO</th>\n",
       "      <th>COD_DEPTO</th>\n",
       "      <th>DEPARTAMENTO</th>\n",
       "      <th>COD_MUNI</th>\n",
       "      <th>MUNICIPIO</th>\n",
       "      <th>TIPO DELITO</th>\n",
       "      <th>CANTIDAD</th>\n",
       "    </tr>\n",
       "  </thead>\n",
       "  <tbody>\n",
       "    <tr>\n",
       "      <th>0</th>\n",
       "      <td>01/01/1996</td>\n",
       "      <td>5</td>\n",
       "      <td>ANTIOQUIA</td>\n",
       "      <td>5,042</td>\n",
       "      <td>SANTAFE DE ANTIOQUIA</td>\n",
       "      <td>SECUESTRO SIMPLE</td>\n",
       "      <td>1</td>\n",
       "    </tr>\n",
       "    <tr>\n",
       "      <th>1</th>\n",
       "      <td>01/01/1996</td>\n",
       "      <td>25</td>\n",
       "      <td>CUNDINAMARCA</td>\n",
       "      <td>25,290</td>\n",
       "      <td>FUSAGASUGA</td>\n",
       "      <td>SECUESTRO EXTORSIVO</td>\n",
       "      <td>1</td>\n",
       "    </tr>\n",
       "    <tr>\n",
       "      <th>2</th>\n",
       "      <td>02/01/1996</td>\n",
       "      <td>5</td>\n",
       "      <td>ANTIOQUIA</td>\n",
       "      <td>5,038</td>\n",
       "      <td>ANGOSTURA</td>\n",
       "      <td>SECUESTRO EXTORSIVO</td>\n",
       "      <td>1</td>\n",
       "    </tr>\n",
       "    <tr>\n",
       "      <th>3</th>\n",
       "      <td>02/01/1996</td>\n",
       "      <td>5</td>\n",
       "      <td>ANTIOQUIA</td>\n",
       "      <td>5,088</td>\n",
       "      <td>BELLO</td>\n",
       "      <td>SECUESTRO EXTORSIVO</td>\n",
       "      <td>1</td>\n",
       "    </tr>\n",
       "    <tr>\n",
       "      <th>4</th>\n",
       "      <td>02/01/1996</td>\n",
       "      <td>11</td>\n",
       "      <td>BOGOTÁ D.C.</td>\n",
       "      <td>11,001</td>\n",
       "      <td>BOGOTA, D.C.</td>\n",
       "      <td>SECUESTRO EXTORSIVO</td>\n",
       "      <td>1</td>\n",
       "    </tr>\n",
       "  </tbody>\n",
       "</table>\n",
       "</div>"
      ],
      "text/plain": [
       "  FECHA HECHO  COD_DEPTO  DEPARTAMENTO COD_MUNI             MUNICIPIO  \\\n",
       "0  01/01/1996          5     ANTIOQUIA    5,042  SANTAFE DE ANTIOQUIA   \n",
       "1  01/01/1996         25  CUNDINAMARCA   25,290            FUSAGASUGA   \n",
       "2  02/01/1996          5     ANTIOQUIA    5,038             ANGOSTURA   \n",
       "3  02/01/1996          5     ANTIOQUIA    5,088                 BELLO   \n",
       "4  02/01/1996         11   BOGOTÁ D.C.   11,001          BOGOTA, D.C.   \n",
       "\n",
       "           TIPO DELITO  CANTIDAD  \n",
       "0     SECUESTRO SIMPLE         1  \n",
       "1  SECUESTRO EXTORSIVO         1  \n",
       "2  SECUESTRO EXTORSIVO         1  \n",
       "3  SECUESTRO EXTORSIVO         1  \n",
       "4  SECUESTRO EXTORSIVO         1  "
      ]
     },
     "execution_count": 52,
     "metadata": {},
     "output_type": "execute_result"
    }
   ],
   "source": [
    "secuestro_df.head()"
   ]
  },
  {
   "cell_type": "code",
   "execution_count": 53,
   "id": "0fd7a201",
   "metadata": {},
   "outputs": [
    {
     "data": {
      "text/html": [
       "<div>\n",
       "<style scoped>\n",
       "    .dataframe tbody tr th:only-of-type {\n",
       "        vertical-align: middle;\n",
       "    }\n",
       "\n",
       "    .dataframe tbody tr th {\n",
       "        vertical-align: top;\n",
       "    }\n",
       "\n",
       "    .dataframe thead th {\n",
       "        text-align: right;\n",
       "    }\n",
       "</style>\n",
       "<table border=\"1\" class=\"dataframe\">\n",
       "  <thead>\n",
       "    <tr style=\"text-align: right;\">\n",
       "      <th></th>\n",
       "      <th>FECHA HECHO</th>\n",
       "      <th>COD_DEPTO</th>\n",
       "      <th>DEPARTAMENTO</th>\n",
       "      <th>COD_MUNI</th>\n",
       "      <th>MUNICIPIO</th>\n",
       "      <th>TIPO DELITO</th>\n",
       "      <th>CANTIDAD</th>\n",
       "    </tr>\n",
       "  </thead>\n",
       "  <tbody>\n",
       "  </tbody>\n",
       "</table>\n",
       "</div>"
      ],
      "text/plain": [
       "Empty DataFrame\n",
       "Columns: [FECHA HECHO, COD_DEPTO, DEPARTAMENTO, COD_MUNI, MUNICIPIO, TIPO DELITO, CANTIDAD]\n",
       "Index: []"
      ]
     },
     "execution_count": 53,
     "metadata": {},
     "output_type": "execute_result"
    }
   ],
   "source": [
    "# Creamos función para validar el valor que está causando el error\n",
    "\n",
    "def error_in_format(x):\n",
    "    try:\n",
    "        datetime.strptime(x, \"%d/%m/%Y\")\n",
    "        return False\n",
    "    except:\n",
    "        return True\n",
    "secuestro_df.loc[secuestro_df[\"FECHA HECHO\"].apply(error_in_format)]"
   ]
  },
  {
   "cell_type": "code",
   "execution_count": 54,
   "id": "8463548f",
   "metadata": {},
   "outputs": [],
   "source": [
    "#Con rel resultado anterior validamos que no hay ningún registro con el formato diferente al asignado"
   ]
  },
  {
   "cell_type": "code",
   "execution_count": 55,
   "id": "812da180",
   "metadata": {},
   "outputs": [],
   "source": [
    "dateparse = lambda x: datetime.strptime(x, \"%d/%m/%Y\")"
   ]
  },
  {
   "cell_type": "code",
   "execution_count": 56,
   "id": "195a3fe5",
   "metadata": {},
   "outputs": [],
   "source": [
    "secuestro_df[\"FECHA HECHO\"]=secuestro_df[\"FECHA HECHO\"].apply(dateparse)"
   ]
  },
  {
   "cell_type": "code",
   "execution_count": 17,
   "id": "8be33d87",
   "metadata": {},
   "outputs": [
    {
     "data": {
      "text/plain": [
       "FECHA HECHO     datetime64[ns]\n",
       "COD_DEPTO                int64\n",
       "DEPARTAMENTO            object\n",
       "COD_MUNI                object\n",
       "MUNICIPIO               object\n",
       "TIPO DELITO             object\n",
       "CANTIDAD                 int64\n",
       "dtype: object"
      ]
     },
     "execution_count": 17,
     "metadata": {},
     "output_type": "execute_result"
    }
   ],
   "source": [
    "secuestro_df.dtypes"
   ]
  },
  {
   "cell_type": "code",
   "execution_count": null,
   "id": "c09b06f6",
   "metadata": {},
   "outputs": [],
   "source": [
    "# Logramos verificar que la columna \"FECHA HECHO\" se encuentra en formato pertinente."
   ]
  },
  {
   "cell_type": "code",
   "execution_count": 18,
   "id": "a1c346db",
   "metadata": {},
   "outputs": [
    {
     "data": {
      "text/plain": [
       "{'AMAZONAS',\n",
       " 'ANTIOQUIA',\n",
       " 'ARAUCA',\n",
       " 'ATLÁNTICO',\n",
       " 'BOGOTÁ D.C.',\n",
       " 'BOLÍVAR',\n",
       " 'BOYACÁ',\n",
       " 'CALDAS',\n",
       " 'CAQUETÁ',\n",
       " 'CASANARE',\n",
       " 'CAUCA',\n",
       " 'CESAR',\n",
       " 'CHOCÓ',\n",
       " 'CUNDINAMARCA',\n",
       " 'CÓRDOBA',\n",
       " 'GUAINÍA',\n",
       " 'GUAVIARE',\n",
       " 'HUILA',\n",
       " 'LA GUAJIRA',\n",
       " 'MAGDALENA',\n",
       " 'META',\n",
       " 'NARIÑO',\n",
       " 'NORTE DE SANTANDER',\n",
       " 'PUTUMAYO',\n",
       " 'QUINDÍO',\n",
       " 'RISARALDA',\n",
       " 'SAN ANDRÉS ISLAS',\n",
       " 'SANTANDER',\n",
       " 'SUCRE',\n",
       " 'TOLIMA',\n",
       " 'VALLE DEL CAUCA',\n",
       " 'VAUPÉS',\n",
       " 'VICHADA'}"
      ]
     },
     "execution_count": 18,
     "metadata": {},
     "output_type": "execute_result"
    }
   ],
   "source": [
    "#Validamos nombre de departamento apra determinar si hay valores mal escritos. \n",
    "\n",
    "set(secuestro_df['DEPARTAMENTO'].values)"
   ]
  },
  {
   "cell_type": "code",
   "execution_count": null,
   "id": "bcc067a2",
   "metadata": {},
   "outputs": [],
   "source": [
    "# El resultado nos permite concluir que no hay heterogeneidad en la identificación de los departamentos (nombre)"
   ]
  },
  {
   "cell_type": "code",
   "execution_count": 19,
   "id": "487a097f",
   "metadata": {},
   "outputs": [
    {
     "data": {
      "text/plain": [
       "{'SECUESTRO EXTORSIVO', 'SECUESTRO SIMPLE'}"
      ]
     },
     "execution_count": 19,
     "metadata": {},
     "output_type": "execute_result"
    }
   ],
   "source": [
    "# Realizamos el ejercicio anterior para la columna \"TIPO DELITO\"\n",
    "\n",
    "set(secuestro_df['TIPO DELITO'].values)"
   ]
  },
  {
   "cell_type": "code",
   "execution_count": null,
   "id": "a9fe5de1",
   "metadata": {},
   "outputs": [],
   "source": [
    "# Podemos concluir que dicha columna tampoco cuenta con heterogeneidad en los nombre de tipo de delito. "
   ]
  },
  {
   "cell_type": "code",
   "execution_count": 57,
   "id": "8a603cf5",
   "metadata": {},
   "outputs": [],
   "source": [
    "from numpy import nan as NA"
   ]
  },
  {
   "cell_type": "code",
   "execution_count": 58,
   "id": "527cf713",
   "metadata": {},
   "outputs": [
    {
     "data": {
      "text/plain": [
       "FECHA HECHO     0\n",
       "COD_DEPTO       0\n",
       "DEPARTAMENTO    0\n",
       "COD_MUNI        0\n",
       "MUNICIPIO       0\n",
       "TIPO DELITO     0\n",
       "CANTIDAD        0\n",
       "dtype: int64"
      ]
     },
     "execution_count": 58,
     "metadata": {},
     "output_type": "execute_result"
    }
   ],
   "source": [
    "#Determinamos si base tiene datos nulos\n",
    "\n",
    "secuestro_df.isnull().sum()"
   ]
  },
  {
   "cell_type": "code",
   "execution_count": null,
   "id": "4f8e42d1",
   "metadata": {},
   "outputs": [],
   "source": [
    "# Según resultado anterior, no hay columnas con valores nulos. "
   ]
  },
  {
   "cell_type": "code",
   "execution_count": 22,
   "id": "5bb59def",
   "metadata": {},
   "outputs": [],
   "source": [
    "# Determinamos base con datos de últimos cinco (5) años\n",
    "\n",
    "Date1=secuestro_df[\"FECHA HECHO\"] >= \"13/08/2017\"\n",
    "Date2=secuestro_df[\"FECHA HECHO\"] <= \"13/08/2022\"\n",
    "\n",
    "secuestro_u5=secuestro_df.loc[Date1 & Date2]"
   ]
  },
  {
   "cell_type": "code",
   "execution_count": 23,
   "id": "d27e4889",
   "metadata": {},
   "outputs": [
    {
     "name": "stdout",
     "output_type": "stream",
     "text": [
      "      FECHA HECHO  COD_DEPTO        DEPARTAMENTO COD_MUNI     MUNICIPIO  \\\n",
      "18052  2017-08-18         15              BOYACÁ   15,238       DUITAMA   \n",
      "18053  2017-08-19         27               CHOCÓ   27,787          TADO   \n",
      "18054  2017-08-20          5           ANTIOQUIA    5,138   CAÑASGORDAS   \n",
      "18055  2017-08-20         66           RISARALDA   66,572   PUEBLO RICO   \n",
      "18056  2017-08-23         54  NORTE DE SANTANDER   54,810          TIBU   \n",
      "...           ...        ...                 ...      ...           ...   \n",
      "18637  2022-05-10          5           ANTIOQUIA    5,631      SABANETA   \n",
      "18638  2022-05-15         19               CAUCA   19,256      EL TAMBO   \n",
      "18639  2022-05-15         52              NARIÑO   52,838     TUQUERRES   \n",
      "18640  2022-05-19          8           ATLÁNTICO    8,001  BARRANQUILLA   \n",
      "18641  2022-05-27         11         BOGOTÁ D.C.   11,001  BOGOTA, D.C.   \n",
      "\n",
      "               TIPO DELITO  CANTIDAD  \n",
      "18052     SECUESTRO SIMPLE         1  \n",
      "18053  SECUESTRO EXTORSIVO         1  \n",
      "18054  SECUESTRO EXTORSIVO         1  \n",
      "18055  SECUESTRO EXTORSIVO         1  \n",
      "18056  SECUESTRO EXTORSIVO         1  \n",
      "...                    ...       ...  \n",
      "18637  SECUESTRO EXTORSIVO         1  \n",
      "18638  SECUESTRO EXTORSIVO         1  \n",
      "18639  SECUESTRO EXTORSIVO         1  \n",
      "18640  SECUESTRO EXTORSIVO         1  \n",
      "18641  SECUESTRO EXTORSIVO         1  \n",
      "\n",
      "[590 rows x 7 columns]\n"
     ]
    }
   ],
   "source": [
    "print(secuestro_u5)"
   ]
  },
  {
   "cell_type": "code",
   "execution_count": 24,
   "id": "bb588999",
   "metadata": {},
   "outputs": [],
   "source": [
    "#De base de últimos cinco (5) años, sacamos TOP 3 con mayor # casos\n",
    "\n",
    "top = secuestro_df['CANTIDAD'].groupby(secuestro_df[\"DEPARTAMENTO\"])"
   ]
  },
  {
   "cell_type": "code",
   "execution_count": 25,
   "id": "477e67bd",
   "metadata": {},
   "outputs": [
    {
     "data": {
      "text/plain": [
       "DEPARTAMENTO\n",
       "ANTIOQUIA          4558\n",
       "CESAR              2093\n",
       "VALLE DEL CAUCA    1861\n",
       "Name: CANTIDAD, dtype: int64"
      ]
     },
     "execution_count": 25,
     "metadata": {},
     "output_type": "execute_result"
    }
   ],
   "source": [
    "top_3=pd.Series(top.sum())\n",
    "top_3d=top_3.sort_values(ascending=False)\n",
    "top_3d.head(3)"
   ]
  },
  {
   "cell_type": "code",
   "execution_count": null,
   "id": "98479b0c",
   "metadata": {},
   "outputs": [],
   "source": [
    "#El resultado anterior nos permite establecer los 3 departamentos con mayor número de casos. "
   ]
  },
  {
   "cell_type": "code",
   "execution_count": 59,
   "id": "07af8d19",
   "metadata": {},
   "outputs": [
    {
     "data": {
      "text/plain": [
       "FECHA HECHO     datetime64[ns]\n",
       "COD_DEPTO                int64\n",
       "DEPARTAMENTO            object\n",
       "COD_MUNI                object\n",
       "MUNICIPIO               object\n",
       "TIPO DELITO             object\n",
       "CANTIDAD                 int64\n",
       "dtype: object"
      ]
     },
     "execution_count": 59,
     "metadata": {},
     "output_type": "execute_result"
    }
   ],
   "source": [
    "secuestro_df.dtypes"
   ]
  },
  {
   "cell_type": "code",
   "execution_count": 60,
   "id": "404f52bc",
   "metadata": {},
   "outputs": [],
   "source": [
    "#Creamos nueva columna con mes de los hechos\n",
    "\n",
    "secuestro_df['MES DE SECUESTRO']=secuestro_df[\"FECHA HECHO\"].dt.month"
   ]
  },
  {
   "cell_type": "code",
   "execution_count": 61,
   "id": "2ba480f7",
   "metadata": {},
   "outputs": [
    {
     "data": {
      "text/plain": [
       "{1, 2, 3, 4, 5, 6, 7, 8, 9, 10, 11, 12}"
      ]
     },
     "execution_count": 61,
     "metadata": {},
     "output_type": "execute_result"
    }
   ],
   "source": [
    "#Verificamos que sean solo meses\n",
    "\n",
    "set(secuestro_df['MES DE SECUESTRO'].values)"
   ]
  },
  {
   "cell_type": "code",
   "execution_count": 62,
   "id": "de15d2e7",
   "metadata": {},
   "outputs": [],
   "source": [
    "# Agregamos número de secuestros por mes\n",
    "\n",
    "mes= secuestro_df['CANTIDAD'].groupby(secuestro_df[\"MES DE SECUESTRO\"])"
   ]
  },
  {
   "cell_type": "code",
   "execution_count": 63,
   "id": "9e8291d2",
   "metadata": {},
   "outputs": [
    {
     "data": {
      "text/plain": [
       "MES DE SECUESTRO\n",
       "5     2546\n",
       "3     2521\n",
       "8     2504\n",
       "9     2427\n",
       "4     2399\n",
       "6     2218\n",
       "7     2208\n",
       "1     2194\n",
       "2     2101\n",
       "10    2084\n",
       "11    2003\n",
       "12    1850\n",
       "Name: CANTIDAD, dtype: int64"
      ]
     },
     "metadata": {},
     "output_type": "display_data"
    }
   ],
   "source": [
    "# Odenamos serie de secuestros por mes de mayor a menor\n",
    "\n",
    "mese=pd.Series(mes.sum())\n",
    "meseor=mese.sort_values(ascending=False)\n",
    "display(meseor)"
   ]
  },
  {
   "cell_type": "code",
   "execution_count": 64,
   "id": "fac49555",
   "metadata": {},
   "outputs": [],
   "source": [
    "# El resultado anterior nos permite concluir que los meses de más presencia de secuestros son, en su órden, mayo, marzo y agosto."
   ]
  },
  {
   "cell_type": "code",
   "execution_count": 65,
   "id": "afeea042",
   "metadata": {
    "scrolled": false
   },
   "outputs": [
    {
     "data": {
      "text/plain": [
       "TIPO DELITO\n",
       "SECUESTRO EXTORSIVO    11816\n",
       "SECUESTRO SIMPLE        6826\n",
       "Name: CANTIDAD, dtype: int64"
      ]
     },
     "metadata": {},
     "output_type": "display_data"
    }
   ],
   "source": [
    "# Sobre columna Tipo de Delito, hacemos conteo de casos en los registros\n",
    "\n",
    "delito=secuestro_df['CANTIDAD'].groupby(secuestro_df[\"TIPO DELITO\"]).count()\n",
    "display(delito)"
   ]
  },
  {
   "cell_type": "code",
   "execution_count": 66,
   "id": "f4f5fd6d",
   "metadata": {},
   "outputs": [],
   "source": [
    "# Según lo anterior, casi por el doble, el secuestro con fines de extorsión predomina sobre el secuestro simple"
   ]
  },
  {
   "cell_type": "code",
   "execution_count": 67,
   "id": "6677f90b",
   "metadata": {},
   "outputs": [],
   "source": [
    "# Eliminamos \",\" de la Columna COD_MUNI\n",
    "\n",
    "secuestro_df[\"COD_MUNI\"]=secuestro_df[\"COD_MUNI\"].str.replace(',','')"
   ]
  },
  {
   "cell_type": "code",
   "execution_count": 68,
   "id": "2d52b670",
   "metadata": {},
   "outputs": [],
   "source": [
    "# Renombramos columna COD_MUNI para hacer compatible con consolidación\n",
    "\n",
    "secuestro_df.rename(columns={'COD_MUNI':'CODIGO DANE'},inplace=True)"
   ]
  },
  {
   "cell_type": "code",
   "execution_count": 69,
   "id": "32064ffd",
   "metadata": {},
   "outputs": [
    {
     "data": {
      "text/html": [
       "<div>\n",
       "<style scoped>\n",
       "    .dataframe tbody tr th:only-of-type {\n",
       "        vertical-align: middle;\n",
       "    }\n",
       "\n",
       "    .dataframe tbody tr th {\n",
       "        vertical-align: top;\n",
       "    }\n",
       "\n",
       "    .dataframe thead th {\n",
       "        text-align: right;\n",
       "    }\n",
       "</style>\n",
       "<table border=\"1\" class=\"dataframe\">\n",
       "  <thead>\n",
       "    <tr style=\"text-align: right;\">\n",
       "      <th></th>\n",
       "      <th>FECHA HECHO</th>\n",
       "      <th>COD_DEPTO</th>\n",
       "      <th>DEPARTAMENTO</th>\n",
       "      <th>CODIGO DANE</th>\n",
       "      <th>MUNICIPIO</th>\n",
       "      <th>TIPO DELITO</th>\n",
       "      <th>CANTIDAD</th>\n",
       "      <th>MES DE SECUESTRO</th>\n",
       "    </tr>\n",
       "  </thead>\n",
       "  <tbody>\n",
       "    <tr>\n",
       "      <th>0</th>\n",
       "      <td>1996-01-01</td>\n",
       "      <td>5</td>\n",
       "      <td>ANTIOQUIA</td>\n",
       "      <td>5042</td>\n",
       "      <td>SANTAFE DE ANTIOQUIA</td>\n",
       "      <td>SECUESTRO SIMPLE</td>\n",
       "      <td>1</td>\n",
       "      <td>1</td>\n",
       "    </tr>\n",
       "    <tr>\n",
       "      <th>1</th>\n",
       "      <td>1996-01-01</td>\n",
       "      <td>25</td>\n",
       "      <td>CUNDINAMARCA</td>\n",
       "      <td>25290</td>\n",
       "      <td>FUSAGASUGA</td>\n",
       "      <td>SECUESTRO EXTORSIVO</td>\n",
       "      <td>1</td>\n",
       "      <td>1</td>\n",
       "    </tr>\n",
       "    <tr>\n",
       "      <th>2</th>\n",
       "      <td>1996-01-02</td>\n",
       "      <td>5</td>\n",
       "      <td>ANTIOQUIA</td>\n",
       "      <td>5038</td>\n",
       "      <td>ANGOSTURA</td>\n",
       "      <td>SECUESTRO EXTORSIVO</td>\n",
       "      <td>1</td>\n",
       "      <td>1</td>\n",
       "    </tr>\n",
       "    <tr>\n",
       "      <th>3</th>\n",
       "      <td>1996-01-02</td>\n",
       "      <td>5</td>\n",
       "      <td>ANTIOQUIA</td>\n",
       "      <td>5088</td>\n",
       "      <td>BELLO</td>\n",
       "      <td>SECUESTRO EXTORSIVO</td>\n",
       "      <td>1</td>\n",
       "      <td>1</td>\n",
       "    </tr>\n",
       "    <tr>\n",
       "      <th>4</th>\n",
       "      <td>1996-01-02</td>\n",
       "      <td>11</td>\n",
       "      <td>BOGOTÁ D.C.</td>\n",
       "      <td>11001</td>\n",
       "      <td>BOGOTA, D.C.</td>\n",
       "      <td>SECUESTRO EXTORSIVO</td>\n",
       "      <td>1</td>\n",
       "      <td>1</td>\n",
       "    </tr>\n",
       "  </tbody>\n",
       "</table>\n",
       "</div>"
      ],
      "text/plain": [
       "  FECHA HECHO  COD_DEPTO  DEPARTAMENTO CODIGO DANE             MUNICIPIO  \\\n",
       "0  1996-01-01          5     ANTIOQUIA        5042  SANTAFE DE ANTIOQUIA   \n",
       "1  1996-01-01         25  CUNDINAMARCA       25290            FUSAGASUGA   \n",
       "2  1996-01-02          5     ANTIOQUIA        5038             ANGOSTURA   \n",
       "3  1996-01-02          5     ANTIOQUIA        5088                 BELLO   \n",
       "4  1996-01-02         11   BOGOTÁ D.C.       11001          BOGOTA, D.C.   \n",
       "\n",
       "           TIPO DELITO  CANTIDAD  MES DE SECUESTRO  \n",
       "0     SECUESTRO SIMPLE         1                 1  \n",
       "1  SECUESTRO EXTORSIVO         1                 1  \n",
       "2  SECUESTRO EXTORSIVO         1                 1  \n",
       "3  SECUESTRO EXTORSIVO         1                 1  \n",
       "4  SECUESTRO EXTORSIVO         1                 1  "
      ]
     },
     "execution_count": 69,
     "metadata": {},
     "output_type": "execute_result"
    }
   ],
   "source": [
    "#Verificamos nuevo DataFrame con la separación\n",
    "\n",
    "secuestro_df.head()"
   ]
  },
  {
   "cell_type": "code",
   "execution_count": 70,
   "id": "e5109d9b",
   "metadata": {},
   "outputs": [],
   "source": [
    "# Importamos base del DANE\n",
    "dane_df=pd.read_csv('C:/Users/steven.orozco/Downloads/Dane.csv')"
   ]
  },
  {
   "cell_type": "code",
   "execution_count": 71,
   "id": "3a386637",
   "metadata": {},
   "outputs": [
    {
     "data": {
      "text/html": [
       "<div>\n",
       "<style scoped>\n",
       "    .dataframe tbody tr th:only-of-type {\n",
       "        vertical-align: middle;\n",
       "    }\n",
       "\n",
       "    .dataframe tbody tr th {\n",
       "        vertical-align: top;\n",
       "    }\n",
       "\n",
       "    .dataframe thead th {\n",
       "        text-align: right;\n",
       "    }\n",
       "</style>\n",
       "<table border=\"1\" class=\"dataframe\">\n",
       "  <thead>\n",
       "    <tr style=\"text-align: right;\">\n",
       "      <th></th>\n",
       "      <th>CODIGO DANE</th>\n",
       "      <th>DEPARTAMENTO</th>\n",
       "      <th>MUNICIPIO</th>\n",
       "    </tr>\n",
       "  </thead>\n",
       "  <tbody>\n",
       "    <tr>\n",
       "      <th>0</th>\n",
       "      <td>99</td>\n",
       "      <td>OTRO</td>\n",
       "      <td>NO RESIDENTE EN EL PAIS</td>\n",
       "    </tr>\n",
       "    <tr>\n",
       "      <th>1</th>\n",
       "      <td>5001</td>\n",
       "      <td>ANTIOQUIA</td>\n",
       "      <td>MEDELLIN</td>\n",
       "    </tr>\n",
       "    <tr>\n",
       "      <th>2</th>\n",
       "      <td>5002</td>\n",
       "      <td>ANTIOQUIA</td>\n",
       "      <td>ABEJORRAL</td>\n",
       "    </tr>\n",
       "    <tr>\n",
       "      <th>3</th>\n",
       "      <td>5004</td>\n",
       "      <td>ANTIOQUIA</td>\n",
       "      <td>ABRIAQUI</td>\n",
       "    </tr>\n",
       "    <tr>\n",
       "      <th>4</th>\n",
       "      <td>5021</td>\n",
       "      <td>ANTIOQUIA</td>\n",
       "      <td>ALEJANDRIA</td>\n",
       "    </tr>\n",
       "  </tbody>\n",
       "</table>\n",
       "</div>"
      ],
      "text/plain": [
       "   CODIGO DANE DEPARTAMENTO                MUNICIPIO\n",
       "0           99         OTRO  NO RESIDENTE EN EL PAIS\n",
       "1         5001    ANTIOQUIA                 MEDELLIN\n",
       "2         5002    ANTIOQUIA                ABEJORRAL\n",
       "3         5004    ANTIOQUIA                 ABRIAQUI\n",
       "4         5021    ANTIOQUIA               ALEJANDRIA"
      ]
     },
     "execution_count": 71,
     "metadata": {},
     "output_type": "execute_result"
    }
   ],
   "source": [
    "# Mostramos en general la base\n",
    "dane_df.head()"
   ]
  },
  {
   "cell_type": "code",
   "execution_count": 72,
   "id": "679831c5",
   "metadata": {},
   "outputs": [],
   "source": [
    "# Con las dos bases, realizmos una validación para hacer compatibles ambos archivos con códigos, municipios y departamentos\n",
    "\n",
    "for z in range (0,len(secuestro_df)):\n",
    "    for y in range (0,len(dane_df)):\n",
    "        if secuestro_df['CODIGO DANE'][z]==dane_df['CODIGO DANE'][y]:\n",
    "            secuestro_df['MUNICIPIO'][z]=dane_df['MUNICIPIO'][y]\n",
    "            secuestro_df['DEPARTAMENTO'][z]=dane_df['DEPARTAMENTO'][y]"
   ]
  },
  {
   "cell_type": "code",
   "execution_count": 73,
   "id": "a6b555eb",
   "metadata": {},
   "outputs": [
    {
     "data": {
      "text/html": [
       "<div>\n",
       "<style scoped>\n",
       "    .dataframe tbody tr th:only-of-type {\n",
       "        vertical-align: middle;\n",
       "    }\n",
       "\n",
       "    .dataframe tbody tr th {\n",
       "        vertical-align: top;\n",
       "    }\n",
       "\n",
       "    .dataframe thead th {\n",
       "        text-align: right;\n",
       "    }\n",
       "</style>\n",
       "<table border=\"1\" class=\"dataframe\">\n",
       "  <thead>\n",
       "    <tr style=\"text-align: right;\">\n",
       "      <th></th>\n",
       "      <th>FECHA HECHO</th>\n",
       "      <th>COD_DEPTO</th>\n",
       "      <th>DEPARTAMENTO</th>\n",
       "      <th>CODIGO DANE</th>\n",
       "      <th>MUNICIPIO</th>\n",
       "      <th>TIPO DELITO</th>\n",
       "      <th>CANTIDAD</th>\n",
       "      <th>MES DE SECUESTRO</th>\n",
       "    </tr>\n",
       "  </thead>\n",
       "  <tbody>\n",
       "    <tr>\n",
       "      <th>0</th>\n",
       "      <td>1996-01-01</td>\n",
       "      <td>5</td>\n",
       "      <td>ANTIOQUIA</td>\n",
       "      <td>5042</td>\n",
       "      <td>SANTAFE DE ANTIOQUIA</td>\n",
       "      <td>SECUESTRO SIMPLE</td>\n",
       "      <td>1</td>\n",
       "      <td>1</td>\n",
       "    </tr>\n",
       "    <tr>\n",
       "      <th>1</th>\n",
       "      <td>1996-01-01</td>\n",
       "      <td>25</td>\n",
       "      <td>CUNDINAMARCA</td>\n",
       "      <td>25290</td>\n",
       "      <td>FUSAGASUGA</td>\n",
       "      <td>SECUESTRO EXTORSIVO</td>\n",
       "      <td>1</td>\n",
       "      <td>1</td>\n",
       "    </tr>\n",
       "    <tr>\n",
       "      <th>2</th>\n",
       "      <td>1996-01-02</td>\n",
       "      <td>5</td>\n",
       "      <td>ANTIOQUIA</td>\n",
       "      <td>5038</td>\n",
       "      <td>ANGOSTURA</td>\n",
       "      <td>SECUESTRO EXTORSIVO</td>\n",
       "      <td>1</td>\n",
       "      <td>1</td>\n",
       "    </tr>\n",
       "    <tr>\n",
       "      <th>3</th>\n",
       "      <td>1996-01-02</td>\n",
       "      <td>5</td>\n",
       "      <td>ANTIOQUIA</td>\n",
       "      <td>5088</td>\n",
       "      <td>BELLO</td>\n",
       "      <td>SECUESTRO EXTORSIVO</td>\n",
       "      <td>1</td>\n",
       "      <td>1</td>\n",
       "    </tr>\n",
       "    <tr>\n",
       "      <th>4</th>\n",
       "      <td>1996-01-02</td>\n",
       "      <td>11</td>\n",
       "      <td>BOGOTÁ D.C.</td>\n",
       "      <td>11001</td>\n",
       "      <td>BOGOTA, D.C.</td>\n",
       "      <td>SECUESTRO EXTORSIVO</td>\n",
       "      <td>1</td>\n",
       "      <td>1</td>\n",
       "    </tr>\n",
       "  </tbody>\n",
       "</table>\n",
       "</div>"
      ],
      "text/plain": [
       "  FECHA HECHO  COD_DEPTO  DEPARTAMENTO CODIGO DANE             MUNICIPIO  \\\n",
       "0  1996-01-01          5     ANTIOQUIA        5042  SANTAFE DE ANTIOQUIA   \n",
       "1  1996-01-01         25  CUNDINAMARCA       25290            FUSAGASUGA   \n",
       "2  1996-01-02          5     ANTIOQUIA        5038             ANGOSTURA   \n",
       "3  1996-01-02          5     ANTIOQUIA        5088                 BELLO   \n",
       "4  1996-01-02         11   BOGOTÁ D.C.       11001          BOGOTA, D.C.   \n",
       "\n",
       "           TIPO DELITO  CANTIDAD  MES DE SECUESTRO  \n",
       "0     SECUESTRO SIMPLE         1                 1  \n",
       "1  SECUESTRO EXTORSIVO         1                 1  \n",
       "2  SECUESTRO EXTORSIVO         1                 1  \n",
       "3  SECUESTRO EXTORSIVO         1                 1  \n",
       "4  SECUESTRO EXTORSIVO         1                 1  "
      ]
     },
     "execution_count": 73,
     "metadata": {},
     "output_type": "execute_result"
    }
   ],
   "source": [
    "secuestro_df.head()"
   ]
  },
  {
   "cell_type": "code",
   "execution_count": 74,
   "id": "b4043bcb",
   "metadata": {},
   "outputs": [],
   "source": [
    "# Reemplazamos Bogotá por Cundinamarca para Hacer Compatible con Demás Bases\n",
    "\n",
    "secuestro_df[\"DEPARTAMENTO\"]=secuestro_df[\"DEPARTAMENTO\"].str.replace('BOGOTÁ D.C.','CUNDINAMARCA')"
   ]
  },
  {
   "cell_type": "code",
   "execution_count": 75,
   "id": "4e383465",
   "metadata": {},
   "outputs": [
    {
     "data": {
      "text/html": [
       "<div>\n",
       "<style scoped>\n",
       "    .dataframe tbody tr th:only-of-type {\n",
       "        vertical-align: middle;\n",
       "    }\n",
       "\n",
       "    .dataframe tbody tr th {\n",
       "        vertical-align: top;\n",
       "    }\n",
       "\n",
       "    .dataframe thead th {\n",
       "        text-align: right;\n",
       "    }\n",
       "</style>\n",
       "<table border=\"1\" class=\"dataframe\">\n",
       "  <thead>\n",
       "    <tr style=\"text-align: right;\">\n",
       "      <th></th>\n",
       "      <th>FECHA HECHO</th>\n",
       "      <th>COD_DEPTO</th>\n",
       "      <th>DEPARTAMENTO</th>\n",
       "      <th>CODIGO DANE</th>\n",
       "      <th>MUNICIPIO</th>\n",
       "      <th>TIPO DELITO</th>\n",
       "      <th>CANTIDAD</th>\n",
       "      <th>MES DE SECUESTRO</th>\n",
       "    </tr>\n",
       "  </thead>\n",
       "  <tbody>\n",
       "    <tr>\n",
       "      <th>0</th>\n",
       "      <td>1996-01-01</td>\n",
       "      <td>5</td>\n",
       "      <td>ANTIOQUIA</td>\n",
       "      <td>5042</td>\n",
       "      <td>SANTAFE DE ANTIOQUIA</td>\n",
       "      <td>SECUESTRO SIMPLE</td>\n",
       "      <td>1</td>\n",
       "      <td>1</td>\n",
       "    </tr>\n",
       "    <tr>\n",
       "      <th>1</th>\n",
       "      <td>1996-01-01</td>\n",
       "      <td>25</td>\n",
       "      <td>CUNDINAMARCA</td>\n",
       "      <td>25290</td>\n",
       "      <td>FUSAGASUGA</td>\n",
       "      <td>SECUESTRO EXTORSIVO</td>\n",
       "      <td>1</td>\n",
       "      <td>1</td>\n",
       "    </tr>\n",
       "    <tr>\n",
       "      <th>2</th>\n",
       "      <td>1996-01-02</td>\n",
       "      <td>5</td>\n",
       "      <td>ANTIOQUIA</td>\n",
       "      <td>5038</td>\n",
       "      <td>ANGOSTURA</td>\n",
       "      <td>SECUESTRO EXTORSIVO</td>\n",
       "      <td>1</td>\n",
       "      <td>1</td>\n",
       "    </tr>\n",
       "    <tr>\n",
       "      <th>3</th>\n",
       "      <td>1996-01-02</td>\n",
       "      <td>5</td>\n",
       "      <td>ANTIOQUIA</td>\n",
       "      <td>5088</td>\n",
       "      <td>BELLO</td>\n",
       "      <td>SECUESTRO EXTORSIVO</td>\n",
       "      <td>1</td>\n",
       "      <td>1</td>\n",
       "    </tr>\n",
       "    <tr>\n",
       "      <th>4</th>\n",
       "      <td>1996-01-02</td>\n",
       "      <td>11</td>\n",
       "      <td>CUNDINAMARCA</td>\n",
       "      <td>11001</td>\n",
       "      <td>BOGOTA, D.C.</td>\n",
       "      <td>SECUESTRO EXTORSIVO</td>\n",
       "      <td>1</td>\n",
       "      <td>1</td>\n",
       "    </tr>\n",
       "  </tbody>\n",
       "</table>\n",
       "</div>"
      ],
      "text/plain": [
       "  FECHA HECHO  COD_DEPTO  DEPARTAMENTO CODIGO DANE             MUNICIPIO  \\\n",
       "0  1996-01-01          5     ANTIOQUIA        5042  SANTAFE DE ANTIOQUIA   \n",
       "1  1996-01-01         25  CUNDINAMARCA       25290            FUSAGASUGA   \n",
       "2  1996-01-02          5     ANTIOQUIA        5038             ANGOSTURA   \n",
       "3  1996-01-02          5     ANTIOQUIA        5088                 BELLO   \n",
       "4  1996-01-02         11  CUNDINAMARCA       11001          BOGOTA, D.C.   \n",
       "\n",
       "           TIPO DELITO  CANTIDAD  MES DE SECUESTRO  \n",
       "0     SECUESTRO SIMPLE         1                 1  \n",
       "1  SECUESTRO EXTORSIVO         1                 1  \n",
       "2  SECUESTRO EXTORSIVO         1                 1  \n",
       "3  SECUESTRO EXTORSIVO         1                 1  \n",
       "4  SECUESTRO EXTORSIVO         1                 1  "
      ]
     },
     "execution_count": 75,
     "metadata": {},
     "output_type": "execute_result"
    }
   ],
   "source": [
    "secuestro_df.head()"
   ]
  },
  {
   "cell_type": "code",
   "execution_count": 76,
   "id": "ecfb24d5",
   "metadata": {},
   "outputs": [],
   "source": [
    "secuestro_df.to_csv('secuestro_BK.csv')"
   ]
  }
 ],
 "metadata": {
  "kernelspec": {
   "display_name": "Python 3 (ipykernel)",
   "language": "python",
   "name": "python3"
  },
  "language_info": {
   "codemirror_mode": {
    "name": "ipython",
    "version": 3
   },
   "file_extension": ".py",
   "mimetype": "text/x-python",
   "name": "python",
   "nbconvert_exporter": "python",
   "pygments_lexer": "ipython3",
   "version": "3.9.12"
  },
  "latex_envs": {
   "LaTeX_envs_menu_present": true,
   "autoclose": false,
   "autocomplete": true,
   "bibliofile": "biblio.bib",
   "cite_by": "apalike",
   "current_citInitial": 1,
   "eqLabelWithNumbers": true,
   "eqNumInitial": 1,
   "hotkeys": {
    "equation": "Ctrl-E",
    "itemize": "Ctrl-I"
   },
   "labels_anchors": false,
   "latex_user_defs": false,
   "report_style_numbering": false,
   "user_envs_cfg": false
  },
  "toc": {
   "base_numbering": 1,
   "nav_menu": {},
   "number_sections": true,
   "sideBar": true,
   "skip_h1_title": false,
   "title_cell": "Table of Contents",
   "title_sidebar": "Contents",
   "toc_cell": false,
   "toc_position": {},
   "toc_section_display": true,
   "toc_window_display": false
  }
 },
 "nbformat": 4,
 "nbformat_minor": 5
}
