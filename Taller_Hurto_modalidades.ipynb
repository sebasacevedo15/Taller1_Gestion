{
 "cells": [
  {
   "cell_type": "code",
   "execution_count": 3,
   "id": "f6095baa",
   "metadata": {},
   "outputs": [
    {
     "name": "stdout",
     "output_type": "stream",
     "text": [
      "Requirement already satisfied: pylev in c:\\users\\sebastian\\anaconda3\\lib\\site-packages (1.4.0)\n"
     ]
    }
   ],
   "source": [
    "import re\n",
    "from random import randint\n",
    "from datetime import datetime\n",
    "\n",
    "import numpy as np\n",
    "import pandas as pd\n",
    "import matplotlib.pyplot as plt\n",
    "\n",
    "import seaborn as sbn\n",
    "\n",
    "import pandas as pd\n",
    "from textdistance import levenshtein\n",
    "\n",
    "import pylev\n",
    "!pip install pylev\n",
    "\n",
    "import time\n",
    "from datetime import datetime"
   ]
  },
  {
   "cell_type": "code",
   "execution_count": 156,
   "id": "1c894f4c",
   "metadata": {},
   "outputs": [],
   "source": [
    "dane_df=pd.read_csv('./data/Dane.csv')"
   ]
  },
  {
   "cell_type": "code",
   "execution_count": 157,
   "id": "1a55f8c3",
   "metadata": {},
   "outputs": [
    {
     "data": {
      "text/html": [
       "<div>\n",
       "<style scoped>\n",
       "    .dataframe tbody tr th:only-of-type {\n",
       "        vertical-align: middle;\n",
       "    }\n",
       "\n",
       "    .dataframe tbody tr th {\n",
       "        vertical-align: top;\n",
       "    }\n",
       "\n",
       "    .dataframe thead th {\n",
       "        text-align: right;\n",
       "    }\n",
       "</style>\n",
       "<table border=\"1\" class=\"dataframe\">\n",
       "  <thead>\n",
       "    <tr style=\"text-align: right;\">\n",
       "      <th></th>\n",
       "      <th>CODIGO DANE</th>\n",
       "      <th>DEPARTAMENTO</th>\n",
       "      <th>MUNICIPIO</th>\n",
       "    </tr>\n",
       "  </thead>\n",
       "  <tbody>\n",
       "    <tr>\n",
       "      <th>0</th>\n",
       "      <td>99</td>\n",
       "      <td>OTRO</td>\n",
       "      <td>NO RESIDENTE EN EL PAIS</td>\n",
       "    </tr>\n",
       "    <tr>\n",
       "      <th>1</th>\n",
       "      <td>5001</td>\n",
       "      <td>ANTIOQUIA</td>\n",
       "      <td>MEDELLIN</td>\n",
       "    </tr>\n",
       "    <tr>\n",
       "      <th>2</th>\n",
       "      <td>5002</td>\n",
       "      <td>ANTIOQUIA</td>\n",
       "      <td>ABEJORRAL</td>\n",
       "    </tr>\n",
       "    <tr>\n",
       "      <th>3</th>\n",
       "      <td>5004</td>\n",
       "      <td>ANTIOQUIA</td>\n",
       "      <td>ABRIAQUI</td>\n",
       "    </tr>\n",
       "    <tr>\n",
       "      <th>4</th>\n",
       "      <td>5021</td>\n",
       "      <td>ANTIOQUIA</td>\n",
       "      <td>ALEJANDRIA</td>\n",
       "    </tr>\n",
       "  </tbody>\n",
       "</table>\n",
       "</div>"
      ],
      "text/plain": [
       "   CODIGO DANE DEPARTAMENTO                MUNICIPIO\n",
       "0           99         OTRO  NO RESIDENTE EN EL PAIS\n",
       "1         5001    ANTIOQUIA                 MEDELLIN\n",
       "2         5002    ANTIOQUIA                ABEJORRAL\n",
       "3         5004    ANTIOQUIA                 ABRIAQUI\n",
       "4         5021    ANTIOQUIA               ALEJANDRIA"
      ]
     },
     "execution_count": 157,
     "metadata": {},
     "output_type": "execute_result"
    }
   ],
   "source": [
    "dane_df.head()"
   ]
  },
  {
   "cell_type": "code",
   "execution_count": 211,
   "id": "6055666f",
   "metadata": {},
   "outputs": [
    {
     "data": {
      "text/plain": [
       "CODIGO DANE      int64\n",
       "DEPARTAMENTO    object\n",
       "MUNICIPIO       object\n",
       "dtype: object"
      ]
     },
     "execution_count": 211,
     "metadata": {},
     "output_type": "execute_result"
    }
   ],
   "source": [
    "dane_df.dtypes"
   ]
  },
  {
   "cell_type": "code",
   "execution_count": 4,
   "id": "23d016eb",
   "metadata": {},
   "outputs": [],
   "source": [
    "hurto_df = pd.read_csv('./data/Reporte_Hurto_por_Modalidades_Polic_a_Nacional.csv')"
   ]
  },
  {
   "cell_type": "code",
   "execution_count": 239,
   "id": "76f3749a",
   "metadata": {},
   "outputs": [
    {
     "data": {
      "text/plain": [
       "Unnamed: 0                int64\n",
       "DEPARTAMENTO             object\n",
       "MUNICIPIO                object\n",
       "CODIGO DANE               int64\n",
       "ARMAS MEDIOS             object\n",
       "FECHA HECHO      datetime64[ns]\n",
       "GENERO                   object\n",
       "GRUPO ETARIO             object\n",
       "TIPO DE HURTO            object\n",
       "CANTIDAD                  int64\n",
       "largo                     int64\n",
       "LARGO                     int64\n",
       "dtype: object"
      ]
     },
     "execution_count": 239,
     "metadata": {},
     "output_type": "execute_result"
    }
   ],
   "source": [
    "hurto_df.dtypes"
   ]
  },
  {
   "cell_type": "code",
   "execution_count": 193,
   "id": "aa446985",
   "metadata": {},
   "outputs": [
    {
     "data": {
      "text/plain": [
       "(36141, 10)"
      ]
     },
     "execution_count": 193,
     "metadata": {},
     "output_type": "execute_result"
    }
   ],
   "source": [
    "hurto_df.shape"
   ]
  },
  {
   "cell_type": "code",
   "execution_count": 179,
   "id": "5f7caedd",
   "metadata": {},
   "outputs": [
    {
     "data": {
      "text/html": [
       "<div>\n",
       "<style scoped>\n",
       "    .dataframe tbody tr th:only-of-type {\n",
       "        vertical-align: middle;\n",
       "    }\n",
       "\n",
       "    .dataframe tbody tr th {\n",
       "        vertical-align: top;\n",
       "    }\n",
       "\n",
       "    .dataframe thead th {\n",
       "        text-align: right;\n",
       "    }\n",
       "</style>\n",
       "<table border=\"1\" class=\"dataframe\">\n",
       "  <thead>\n",
       "    <tr style=\"text-align: right;\">\n",
       "      <th></th>\n",
       "      <th>DEPARTAMENTO</th>\n",
       "      <th>MUNICIPIO</th>\n",
       "      <th>CODIGO DANE</th>\n",
       "      <th>ARMAS MEDIOS</th>\n",
       "      <th>FECHA HECHO</th>\n",
       "      <th>GENERO</th>\n",
       "      <th>GRUPO ETARIO</th>\n",
       "      <th>TIPO DE HURTO</th>\n",
       "      <th>CANTIDAD</th>\n",
       "    </tr>\n",
       "  </thead>\n",
       "  <tbody>\n",
       "    <tr>\n",
       "      <th>0</th>\n",
       "      <td>HUILA</td>\n",
       "      <td>CAMPOALEGRE</td>\n",
       "      <td>41132000</td>\n",
       "      <td>NO REPORTADO</td>\n",
       "      <td>2010-01-01</td>\n",
       "      <td>FEMENINO</td>\n",
       "      <td>ADULTOS</td>\n",
       "      <td>HURTO ABIGEATO</td>\n",
       "      <td>1</td>\n",
       "    </tr>\n",
       "    <tr>\n",
       "      <th>1</th>\n",
       "      <td>META</td>\n",
       "      <td>SAN JUAN DE ARAMA</td>\n",
       "      <td>50683000</td>\n",
       "      <td>NO REPORTADO</td>\n",
       "      <td>2010-01-01</td>\n",
       "      <td>MASCULINO</td>\n",
       "      <td>ADULTOS</td>\n",
       "      <td>HURTO ABIGEATO</td>\n",
       "      <td>1</td>\n",
       "    </tr>\n",
       "    <tr>\n",
       "      <th>2</th>\n",
       "      <td>BOYACÁ</td>\n",
       "      <td>BELÉN</td>\n",
       "      <td>15087000</td>\n",
       "      <td>NO REPORTADO</td>\n",
       "      <td>2010-02-01</td>\n",
       "      <td>FEMENINO</td>\n",
       "      <td>ADULTOS</td>\n",
       "      <td>HURTO ABIGEATO</td>\n",
       "      <td>1</td>\n",
       "    </tr>\n",
       "    <tr>\n",
       "      <th>3</th>\n",
       "      <td>CASANARE</td>\n",
       "      <td>PORE</td>\n",
       "      <td>85263000</td>\n",
       "      <td>NO REPORTADO</td>\n",
       "      <td>2010-02-01</td>\n",
       "      <td>MASCULINO</td>\n",
       "      <td>ADULTOS</td>\n",
       "      <td>HURTO ABIGEATO</td>\n",
       "      <td>1</td>\n",
       "    </tr>\n",
       "    <tr>\n",
       "      <th>4</th>\n",
       "      <td>CUNDINAMARCA</td>\n",
       "      <td>MADRID</td>\n",
       "      <td>25430000</td>\n",
       "      <td>ARMA DE FUEGO</td>\n",
       "      <td>2010-03-01</td>\n",
       "      <td>MASCULINO</td>\n",
       "      <td>ADULTOS</td>\n",
       "      <td>HURTO PIRATERÍA TERRESTRE</td>\n",
       "      <td>1</td>\n",
       "    </tr>\n",
       "  </tbody>\n",
       "</table>\n",
       "</div>"
      ],
      "text/plain": [
       "   DEPARTAMENTO          MUNICIPIO  CODIGO DANE   ARMAS MEDIOS FECHA HECHO  \\\n",
       "0         HUILA        CAMPOALEGRE     41132000   NO REPORTADO  2010-01-01   \n",
       "1          META  SAN JUAN DE ARAMA     50683000   NO REPORTADO  2010-01-01   \n",
       "2        BOYACÁ              BELÉN     15087000   NO REPORTADO  2010-02-01   \n",
       "3      CASANARE               PORE     85263000   NO REPORTADO  2010-02-01   \n",
       "4  CUNDINAMARCA             MADRID     25430000  ARMA DE FUEGO  2010-03-01   \n",
       "\n",
       "      GENERO GRUPO ETARIO              TIPO DE HURTO  CANTIDAD  \n",
       "0   FEMENINO      ADULTOS             HURTO ABIGEATO         1  \n",
       "1  MASCULINO      ADULTOS             HURTO ABIGEATO         1  \n",
       "2   FEMENINO      ADULTOS             HURTO ABIGEATO         1  \n",
       "3  MASCULINO      ADULTOS             HURTO ABIGEATO         1  \n",
       "4  MASCULINO      ADULTOS  HURTO PIRATERÍA TERRESTRE         1  "
      ]
     },
     "execution_count": 179,
     "metadata": {},
     "output_type": "execute_result"
    }
   ],
   "source": [
    "hurto_df.head()"
   ]
  },
  {
   "cell_type": "code",
   "execution_count": 212,
   "id": "b925e14d",
   "metadata": {
    "scrolled": false
   },
   "outputs": [
    {
     "data": {
      "text/plain": [
       "DEPARTAMENTO             object\n",
       "MUNICIPIO                object\n",
       "CODIGO DANE               int64\n",
       "ARMAS MEDIOS             object\n",
       "FECHA HECHO      datetime64[ns]\n",
       "GENERO                   object\n",
       "GRUPO ETARIO             object\n",
       "TIPO DE HURTO            object\n",
       "CANTIDAD                  int64\n",
       "largo                     int64\n",
       "LARGO                     int64\n",
       "dtype: object"
      ]
     },
     "execution_count": 212,
     "metadata": {},
     "output_type": "execute_result"
    }
   ],
   "source": [
    "hurto_df.dtypes"
   ]
  },
  {
   "cell_type": "code",
   "execution_count": 23,
   "id": "50c98ccd",
   "metadata": {},
   "outputs": [
    {
     "data": {
      "text/html": [
       "<div>\n",
       "<style scoped>\n",
       "    .dataframe tbody tr th:only-of-type {\n",
       "        vertical-align: middle;\n",
       "    }\n",
       "\n",
       "    .dataframe tbody tr th {\n",
       "        vertical-align: top;\n",
       "    }\n",
       "\n",
       "    .dataframe thead th {\n",
       "        text-align: right;\n",
       "    }\n",
       "</style>\n",
       "<table border=\"1\" class=\"dataframe\">\n",
       "  <thead>\n",
       "    <tr style=\"text-align: right;\">\n",
       "      <th></th>\n",
       "      <th>DEPARTAMENTO</th>\n",
       "      <th>MUNICIPIO</th>\n",
       "      <th>CODIGO DANE</th>\n",
       "      <th>ARMAS MEDIOS</th>\n",
       "      <th>FECHA HECHO</th>\n",
       "      <th>GENERO</th>\n",
       "      <th>GRUPO ETARIO</th>\n",
       "      <th>TIPO DE HURTO</th>\n",
       "      <th>CANTIDAD</th>\n",
       "      <th>LARGO</th>\n",
       "    </tr>\n",
       "  </thead>\n",
       "  <tbody>\n",
       "  </tbody>\n",
       "</table>\n",
       "</div>"
      ],
      "text/plain": [
       "Empty DataFrame\n",
       "Columns: [DEPARTAMENTO, MUNICIPIO, CODIGO DANE, ARMAS MEDIOS, FECHA HECHO, GENERO, GRUPO ETARIO, TIPO DE HURTO, CANTIDAD, LARGO]\n",
       "Index: []"
      ]
     },
     "execution_count": 23,
     "metadata": {},
     "output_type": "execute_result"
    }
   ],
   "source": [
    "def error_in_format(x):\n",
    "    try:\n",
    "        datetime.strptime(x, \"%d/%m/%Y\")\n",
    "        return False\n",
    "    except:\n",
    "        return True\n",
    "hurto_df.loc[hurto_df[\"FECHA HECHO\"].apply(error_in_format)]"
   ]
  },
  {
   "cell_type": "code",
   "execution_count": 24,
   "id": "ee009199",
   "metadata": {},
   "outputs": [],
   "source": [
    "dateparse = lambda x: datetime.strptime(x, \"%d/%m/%Y\")"
   ]
  },
  {
   "cell_type": "code",
   "execution_count": 25,
   "id": "8731b69d",
   "metadata": {},
   "outputs": [],
   "source": [
    "hurto_df['FECHA HECHO']=hurto_df['FECHA HECHO'].apply(dateparse)"
   ]
  },
  {
   "cell_type": "code",
   "execution_count": 237,
   "id": "804797ae",
   "metadata": {},
   "outputs": [],
   "source": [
    "## Modificación de la fecha\n",
    "hurto_df['FECHA HECHO']=pd.to_datetime(hurto_df['FECHA HECHO'])"
   ]
  },
  {
   "cell_type": "code",
   "execution_count": 163,
   "id": "4b6c8928",
   "metadata": {},
   "outputs": [
    {
     "data": {
      "text/plain": [
       "array(['NO REPORTA', 'ARMA DE FUEGO', 'ARMA BLANCA / CORTOPUNZANTE',\n",
       "       'CONTUNDENTES', 'SIN EMPLEO DE ARMAS', 'CORTANTES',\n",
       "       'CORTOPUNZANTES', 'PUNZANTES', 'ESCOPOLAMINA',\n",
       "       'ARTEFACTO EXPLOSIVO/CARGA DINAMITA', 'LLAVE MAESTRA', 'PALANCAS',\n",
       "       'NO REPORTADO', '-', 'NO REPOTADO'], dtype=object)"
      ]
     },
     "execution_count": 163,
     "metadata": {},
     "output_type": "execute_result"
    }
   ],
   "source": [
    "hurto_df['ARMAS MEDIOS'].unique()"
   ]
  },
  {
   "cell_type": "code",
   "execution_count": 164,
   "id": "efb782e9",
   "metadata": {},
   "outputs": [],
   "source": [
    "hurto_df['ARMAS MEDIOS'] = hurto_df['ARMAS MEDIOS'].replace('CORTANTES','ARMA BLANCA / CORTOPUNZANTE')\n",
    "hurto_df['ARMAS MEDIOS'] = hurto_df['ARMAS MEDIOS'].replace('PUNZANTES','ARMA BLANCA / CORTOPUNZANTE')\n",
    "hurto_df['ARMAS MEDIOS'] = hurto_df['ARMAS MEDIOS'].replace('NO REPOTADO','NO REPORTADO')\n",
    "hurto_df['ARMAS MEDIOS'] = hurto_df['ARMAS MEDIOS'].replace('-','NO REPORTADO')\n",
    "hurto_df['ARMAS MEDIOS'] = hurto_df['ARMAS MEDIOS'].replace('NO REPORTA','NO REPORTADO')\n",
    "hurto_df['ARMAS MEDIOS'] = hurto_df['ARMAS MEDIOS'].replace('LLAVE MAESTRA','CONTUNDENTES')\n",
    "hurto_df['ARMAS MEDIOS'] = hurto_df['ARMAS MEDIOS'].replace('PALANCAS','CONTUNDENTES')"
   ]
  },
  {
   "cell_type": "code",
   "execution_count": 165,
   "id": "97f2e3b4",
   "metadata": {},
   "outputs": [
    {
     "data": {
      "text/plain": [
       "array(['FEMENINO', 'MASCULINO', 'NO REPORTA', '-', 'NO APLICA', nan,\n",
       "       'NO REPORTADO'], dtype=object)"
      ]
     },
     "execution_count": 165,
     "metadata": {},
     "output_type": "execute_result"
    }
   ],
   "source": [
    "hurto_df['GENERO'].unique()"
   ]
  },
  {
   "cell_type": "code",
   "execution_count": 7,
   "id": "e12d0fdd",
   "metadata": {},
   "outputs": [],
   "source": [
    "hurto_df['GENERO'] = hurto_df['GENERO'].replace('NO APLICA','NO REPORTADO')\n",
    "hurto_df['GENERO'] = hurto_df['GENERO'].replace('-','NO REPORTADO')\n",
    "hurto_df['GENERO'] = hurto_df['GENERO'].replace('NO REPORTA','NO REPORTADO')\n",
    "hurto_df['GENERO'] = hurto_df['GENERO'].replace('nan','NO REPORTADO')"
   ]
  },
  {
   "cell_type": "code",
   "execution_count": 8,
   "id": "b48293df",
   "metadata": {},
   "outputs": [
    {
     "data": {
      "text/plain": [
       "0"
      ]
     },
     "execution_count": 8,
     "metadata": {},
     "output_type": "execute_result"
    }
   ],
   "source": [
    "##n se eliminan los datos nulos de la variable genero\n",
    "hurto_df['GENERO'].isnull().sum()"
   ]
  },
  {
   "cell_type": "code",
   "execution_count": 9,
   "id": "2469cb73",
   "metadata": {
    "scrolled": true
   },
   "outputs": [
    {
     "ename": "KeyError",
     "evalue": "'[33907] not found in axis'",
     "output_type": "error",
     "traceback": [
      "\u001b[1;31m---------------------------------------------------------------------------\u001b[0m",
      "\u001b[1;31mKeyError\u001b[0m                                  Traceback (most recent call last)",
      "Input \u001b[1;32mIn [9]\u001b[0m, in \u001b[0;36m<cell line: 1>\u001b[1;34m()\u001b[0m\n\u001b[1;32m----> 1\u001b[0m \u001b[43mhurto_df\u001b[49m\u001b[38;5;241;43m.\u001b[39;49m\u001b[43mdrop\u001b[49m\u001b[43m(\u001b[49m\u001b[38;5;241;43m33907\u001b[39;49m\u001b[43m,\u001b[49m\u001b[43m \u001b[49m\u001b[43minplace\u001b[49m\u001b[43m \u001b[49m\u001b[38;5;241;43m=\u001b[39;49m\u001b[43m \u001b[49m\u001b[38;5;28;43;01mTrue\u001b[39;49;00m\u001b[43m)\u001b[49m\n\u001b[0;32m      2\u001b[0m hurto_df\u001b[38;5;241m.\u001b[39mdrop(\u001b[38;5;241m33908\u001b[39m, inplace \u001b[38;5;241m=\u001b[39m \u001b[38;5;28;01mTrue\u001b[39;00m)\n\u001b[0;32m      3\u001b[0m hurto_df\u001b[38;5;241m.\u001b[39mdrop(\u001b[38;5;241m34039\u001b[39m, inplace \u001b[38;5;241m=\u001b[39m \u001b[38;5;28;01mTrue\u001b[39;00m)\n",
      "File \u001b[1;32m~\\anaconda3\\lib\\site-packages\\pandas\\util\\_decorators.py:311\u001b[0m, in \u001b[0;36mdeprecate_nonkeyword_arguments.<locals>.decorate.<locals>.wrapper\u001b[1;34m(*args, **kwargs)\u001b[0m\n\u001b[0;32m    305\u001b[0m \u001b[38;5;28;01mif\u001b[39;00m \u001b[38;5;28mlen\u001b[39m(args) \u001b[38;5;241m>\u001b[39m num_allow_args:\n\u001b[0;32m    306\u001b[0m     warnings\u001b[38;5;241m.\u001b[39mwarn(\n\u001b[0;32m    307\u001b[0m         msg\u001b[38;5;241m.\u001b[39mformat(arguments\u001b[38;5;241m=\u001b[39marguments),\n\u001b[0;32m    308\u001b[0m         \u001b[38;5;167;01mFutureWarning\u001b[39;00m,\n\u001b[0;32m    309\u001b[0m         stacklevel\u001b[38;5;241m=\u001b[39mstacklevel,\n\u001b[0;32m    310\u001b[0m     )\n\u001b[1;32m--> 311\u001b[0m \u001b[38;5;28;01mreturn\u001b[39;00m func(\u001b[38;5;241m*\u001b[39margs, \u001b[38;5;241m*\u001b[39m\u001b[38;5;241m*\u001b[39mkwargs)\n",
      "File \u001b[1;32m~\\anaconda3\\lib\\site-packages\\pandas\\core\\frame.py:4954\u001b[0m, in \u001b[0;36mDataFrame.drop\u001b[1;34m(self, labels, axis, index, columns, level, inplace, errors)\u001b[0m\n\u001b[0;32m   4806\u001b[0m \u001b[38;5;129m@deprecate_nonkeyword_arguments\u001b[39m(version\u001b[38;5;241m=\u001b[39m\u001b[38;5;28;01mNone\u001b[39;00m, allowed_args\u001b[38;5;241m=\u001b[39m[\u001b[38;5;124m\"\u001b[39m\u001b[38;5;124mself\u001b[39m\u001b[38;5;124m\"\u001b[39m, \u001b[38;5;124m\"\u001b[39m\u001b[38;5;124mlabels\u001b[39m\u001b[38;5;124m\"\u001b[39m])\n\u001b[0;32m   4807\u001b[0m \u001b[38;5;28;01mdef\u001b[39;00m \u001b[38;5;21mdrop\u001b[39m(\n\u001b[0;32m   4808\u001b[0m     \u001b[38;5;28mself\u001b[39m,\n\u001b[1;32m   (...)\u001b[0m\n\u001b[0;32m   4815\u001b[0m     errors: \u001b[38;5;28mstr\u001b[39m \u001b[38;5;241m=\u001b[39m \u001b[38;5;124m\"\u001b[39m\u001b[38;5;124mraise\u001b[39m\u001b[38;5;124m\"\u001b[39m,\n\u001b[0;32m   4816\u001b[0m ):\n\u001b[0;32m   4817\u001b[0m     \u001b[38;5;124;03m\"\"\"\u001b[39;00m\n\u001b[0;32m   4818\u001b[0m \u001b[38;5;124;03m    Drop specified labels from rows or columns.\u001b[39;00m\n\u001b[0;32m   4819\u001b[0m \n\u001b[1;32m   (...)\u001b[0m\n\u001b[0;32m   4952\u001b[0m \u001b[38;5;124;03m            weight  1.0     0.8\u001b[39;00m\n\u001b[0;32m   4953\u001b[0m \u001b[38;5;124;03m    \"\"\"\u001b[39;00m\n\u001b[1;32m-> 4954\u001b[0m     \u001b[38;5;28;01mreturn\u001b[39;00m \u001b[38;5;28;43msuper\u001b[39;49m\u001b[43m(\u001b[49m\u001b[43m)\u001b[49m\u001b[38;5;241;43m.\u001b[39;49m\u001b[43mdrop\u001b[49m\u001b[43m(\u001b[49m\n\u001b[0;32m   4955\u001b[0m \u001b[43m        \u001b[49m\u001b[43mlabels\u001b[49m\u001b[38;5;241;43m=\u001b[39;49m\u001b[43mlabels\u001b[49m\u001b[43m,\u001b[49m\n\u001b[0;32m   4956\u001b[0m \u001b[43m        \u001b[49m\u001b[43maxis\u001b[49m\u001b[38;5;241;43m=\u001b[39;49m\u001b[43maxis\u001b[49m\u001b[43m,\u001b[49m\n\u001b[0;32m   4957\u001b[0m \u001b[43m        \u001b[49m\u001b[43mindex\u001b[49m\u001b[38;5;241;43m=\u001b[39;49m\u001b[43mindex\u001b[49m\u001b[43m,\u001b[49m\n\u001b[0;32m   4958\u001b[0m \u001b[43m        \u001b[49m\u001b[43mcolumns\u001b[49m\u001b[38;5;241;43m=\u001b[39;49m\u001b[43mcolumns\u001b[49m\u001b[43m,\u001b[49m\n\u001b[0;32m   4959\u001b[0m \u001b[43m        \u001b[49m\u001b[43mlevel\u001b[49m\u001b[38;5;241;43m=\u001b[39;49m\u001b[43mlevel\u001b[49m\u001b[43m,\u001b[49m\n\u001b[0;32m   4960\u001b[0m \u001b[43m        \u001b[49m\u001b[43minplace\u001b[49m\u001b[38;5;241;43m=\u001b[39;49m\u001b[43minplace\u001b[49m\u001b[43m,\u001b[49m\n\u001b[0;32m   4961\u001b[0m \u001b[43m        \u001b[49m\u001b[43merrors\u001b[49m\u001b[38;5;241;43m=\u001b[39;49m\u001b[43merrors\u001b[49m\u001b[43m,\u001b[49m\n\u001b[0;32m   4962\u001b[0m \u001b[43m    \u001b[49m\u001b[43m)\u001b[49m\n",
      "File \u001b[1;32m~\\anaconda3\\lib\\site-packages\\pandas\\core\\generic.py:4267\u001b[0m, in \u001b[0;36mNDFrame.drop\u001b[1;34m(self, labels, axis, index, columns, level, inplace, errors)\u001b[0m\n\u001b[0;32m   4265\u001b[0m \u001b[38;5;28;01mfor\u001b[39;00m axis, labels \u001b[38;5;129;01min\u001b[39;00m axes\u001b[38;5;241m.\u001b[39mitems():\n\u001b[0;32m   4266\u001b[0m     \u001b[38;5;28;01mif\u001b[39;00m labels \u001b[38;5;129;01mis\u001b[39;00m \u001b[38;5;129;01mnot\u001b[39;00m \u001b[38;5;28;01mNone\u001b[39;00m:\n\u001b[1;32m-> 4267\u001b[0m         obj \u001b[38;5;241m=\u001b[39m \u001b[43mobj\u001b[49m\u001b[38;5;241;43m.\u001b[39;49m\u001b[43m_drop_axis\u001b[49m\u001b[43m(\u001b[49m\u001b[43mlabels\u001b[49m\u001b[43m,\u001b[49m\u001b[43m \u001b[49m\u001b[43maxis\u001b[49m\u001b[43m,\u001b[49m\u001b[43m \u001b[49m\u001b[43mlevel\u001b[49m\u001b[38;5;241;43m=\u001b[39;49m\u001b[43mlevel\u001b[49m\u001b[43m,\u001b[49m\u001b[43m \u001b[49m\u001b[43merrors\u001b[49m\u001b[38;5;241;43m=\u001b[39;49m\u001b[43merrors\u001b[49m\u001b[43m)\u001b[49m\n\u001b[0;32m   4269\u001b[0m \u001b[38;5;28;01mif\u001b[39;00m inplace:\n\u001b[0;32m   4270\u001b[0m     \u001b[38;5;28mself\u001b[39m\u001b[38;5;241m.\u001b[39m_update_inplace(obj)\n",
      "File \u001b[1;32m~\\anaconda3\\lib\\site-packages\\pandas\\core\\generic.py:4311\u001b[0m, in \u001b[0;36mNDFrame._drop_axis\u001b[1;34m(self, labels, axis, level, errors, consolidate, only_slice)\u001b[0m\n\u001b[0;32m   4309\u001b[0m         new_axis \u001b[38;5;241m=\u001b[39m axis\u001b[38;5;241m.\u001b[39mdrop(labels, level\u001b[38;5;241m=\u001b[39mlevel, errors\u001b[38;5;241m=\u001b[39merrors)\n\u001b[0;32m   4310\u001b[0m     \u001b[38;5;28;01melse\u001b[39;00m:\n\u001b[1;32m-> 4311\u001b[0m         new_axis \u001b[38;5;241m=\u001b[39m \u001b[43maxis\u001b[49m\u001b[38;5;241;43m.\u001b[39;49m\u001b[43mdrop\u001b[49m\u001b[43m(\u001b[49m\u001b[43mlabels\u001b[49m\u001b[43m,\u001b[49m\u001b[43m \u001b[49m\u001b[43merrors\u001b[49m\u001b[38;5;241;43m=\u001b[39;49m\u001b[43merrors\u001b[49m\u001b[43m)\u001b[49m\n\u001b[0;32m   4312\u001b[0m     indexer \u001b[38;5;241m=\u001b[39m axis\u001b[38;5;241m.\u001b[39mget_indexer(new_axis)\n\u001b[0;32m   4314\u001b[0m \u001b[38;5;66;03m# Case for non-unique axis\u001b[39;00m\n\u001b[0;32m   4315\u001b[0m \u001b[38;5;28;01melse\u001b[39;00m:\n",
      "File \u001b[1;32m~\\anaconda3\\lib\\site-packages\\pandas\\core\\indexes\\base.py:6644\u001b[0m, in \u001b[0;36mIndex.drop\u001b[1;34m(self, labels, errors)\u001b[0m\n\u001b[0;32m   6642\u001b[0m \u001b[38;5;28;01mif\u001b[39;00m mask\u001b[38;5;241m.\u001b[39many():\n\u001b[0;32m   6643\u001b[0m     \u001b[38;5;28;01mif\u001b[39;00m errors \u001b[38;5;241m!=\u001b[39m \u001b[38;5;124m\"\u001b[39m\u001b[38;5;124mignore\u001b[39m\u001b[38;5;124m\"\u001b[39m:\n\u001b[1;32m-> 6644\u001b[0m         \u001b[38;5;28;01mraise\u001b[39;00m \u001b[38;5;167;01mKeyError\u001b[39;00m(\u001b[38;5;124mf\u001b[39m\u001b[38;5;124m\"\u001b[39m\u001b[38;5;132;01m{\u001b[39;00m\u001b[38;5;28mlist\u001b[39m(labels[mask])\u001b[38;5;132;01m}\u001b[39;00m\u001b[38;5;124m not found in axis\u001b[39m\u001b[38;5;124m\"\u001b[39m)\n\u001b[0;32m   6645\u001b[0m     indexer \u001b[38;5;241m=\u001b[39m indexer[\u001b[38;5;241m~\u001b[39mmask]\n\u001b[0;32m   6646\u001b[0m \u001b[38;5;28;01mreturn\u001b[39;00m \u001b[38;5;28mself\u001b[39m\u001b[38;5;241m.\u001b[39mdelete(indexer)\n",
      "\u001b[1;31mKeyError\u001b[0m: '[33907] not found in axis'"
     ]
    }
   ],
   "source": [
    "hurto_df.drop(33907, inplace = True)\n",
    "hurto_df.drop(33908, inplace = True)\n",
    "hurto_df.drop(34039, inplace = True)\n",
    "hurto_df.drop(34042, inplace = True)\n",
    "hurto_df.drop(34257, inplace = True)\n",
    "hurto_df.drop(34394, inplace = True)\n",
    "hurto_df.drop(34415, inplace = True)\n",
    "hurto_df.drop(34619, inplace = True)\n",
    "hurto_df.drop(34630, inplace = True)\n",
    "hurto_df.drop(34972, inplace = True)\n",
    "hurto_df.drop(35048, inplace = True)\n",
    "hurto_df.drop(35200, inplace = True)\n",
    "hurto_df.drop(35201, inplace = True)\n",
    "hurto_df.drop(35445, inplace = True)\n",
    "hurto_df.drop(35460, inplace = True)"
   ]
  },
  {
   "cell_type": "code",
   "execution_count": null,
   "id": "baec0524",
   "metadata": {},
   "outputs": [],
   "source": [
    "## se hace la homologacion de nulos a adultos , y no reporta, no repotado a no reportado\n",
    "hurto_df['GRUPO ETARIO'].unique()"
   ]
  },
  {
   "cell_type": "code",
   "execution_count": 172,
   "id": "5e7f35ec",
   "metadata": {},
   "outputs": [
    {
     "data": {
      "text/plain": [
       "230"
      ]
     },
     "execution_count": 172,
     "metadata": {},
     "output_type": "execute_result"
    }
   ],
   "source": [
    "hurto_df['GRUPO ETARIO'].isnull().sum()"
   ]
  },
  {
   "cell_type": "code",
   "execution_count": 173,
   "id": "4003323f",
   "metadata": {},
   "outputs": [
    {
     "data": {
      "text/plain": [
       "<bound method NDFrame.head of GRUPO ETARIO\n",
       "ADULTOS         33166\n",
       "NO REPORTA       3099\n",
       "NO APLICA         374\n",
       "MENORES            18\n",
       "ADOLESCENTES       12\n",
       "NO REPORTADO        4\n",
       "Name: CANTIDAD, dtype: int64>"
      ]
     },
     "execution_count": 173,
     "metadata": {},
     "output_type": "execute_result"
    }
   ],
   "source": [
    "df1 = hurto_df.groupby(['GRUPO ETARIO'])['CANTIDAD'].sum().sort_values(ascending = False).head\n",
    "df1"
   ]
  },
  {
   "cell_type": "code",
   "execution_count": 174,
   "id": "58f76db1",
   "metadata": {},
   "outputs": [],
   "source": [
    "## se reemplaza los nulos (230) por la moda, \"ADULTOS\"\n",
    "hurto_df['GRUPO ETARIO'].fillna(\"ADULTOS\",inplace = True)"
   ]
  },
  {
   "cell_type": "code",
   "execution_count": 20,
   "id": "f6fbcffd",
   "metadata": {},
   "outputs": [],
   "source": [
    "hurto_df['GRUPO ETARIO'] = hurto_df['GRUPO ETARIO'].replace('NO APLICA','NO REPORTADO')\n",
    "hurto_df['GRUPO ETARIO'] = hurto_df['GRUPO ETARIO'].replace('NO REPORTA','NO REPORTADO')"
   ]
  },
  {
   "cell_type": "code",
   "execution_count": 178,
   "id": "18d3e1ef",
   "metadata": {},
   "outputs": [
    {
     "data": {
      "text/plain": [
       "array(['HURTO ABIGEATO', 'HURTO PIRATERÍA TERRESTRE',\n",
       "       'HURTO ENTIDADES FINANCIERAS'], dtype=object)"
      ]
     },
     "execution_count": 178,
     "metadata": {},
     "output_type": "execute_result"
    }
   ],
   "source": [
    "## no se hace homologacion en esta variable\n",
    "hurto_df['TIPO DE HURTO'].unique()"
   ]
  },
  {
   "cell_type": "code",
   "execution_count": 10,
   "id": "73b54915",
   "metadata": {},
   "outputs": [
    {
     "data": {
      "text/plain": [
       "DEPARTAMENTO       0\n",
       "MUNICIPIO          0\n",
       "CODIGO DANE        0\n",
       "ARMAS MEDIOS       0\n",
       "FECHA HECHO        0\n",
       "GENERO             0\n",
       "GRUPO ETARIO     230\n",
       "TIPO DE HURTO      0\n",
       "CANTIDAD           0\n",
       "dtype: int64"
      ]
     },
     "execution_count": 10,
     "metadata": {},
     "output_type": "execute_result"
    }
   ],
   "source": [
    "## Se solucionaron los datos nulos\n",
    "hurto_df.isnull().sum()"
   ]
  },
  {
   "cell_type": "code",
   "execution_count": 11,
   "id": "3221bbfe",
   "metadata": {},
   "outputs": [],
   "source": [
    "#Corrección formato DANE \n",
    "def fix_dane_lengh(x) :\n",
    "    x=str(x)\n",
    "    x=x[:-3]\n",
    "    return int(x)\n",
    "hurto_df['CODIGO DANE']=hurto_df['CODIGO DANE'].apply({fix_dane_lengh})"
   ]
  },
  {
   "cell_type": "code",
   "execution_count": 12,
   "id": "97d463f9",
   "metadata": {},
   "outputs": [],
   "source": [
    "def largo(x) :\n",
    "    x=len(str(x))\n",
    "    return (x)\n",
    "hurto_df['LARGO'] = hurto_df['CODIGO DANE'].apply({largo})"
   ]
  },
  {
   "cell_type": "code",
   "execution_count": 13,
   "id": "25f6a2f6",
   "metadata": {},
   "outputs": [
    {
     "data": {
      "text/plain": [
       "array([5, 4], dtype=int64)"
      ]
     },
     "execution_count": 13,
     "metadata": {},
     "output_type": "execute_result"
    }
   ],
   "source": [
    "hurto_df['LARGO'].unique()\n",
    "    "
   ]
  },
  {
   "cell_type": "code",
   "execution_count": 201,
   "id": "8f0dcda1",
   "metadata": {},
   "outputs": [
    {
     "data": {
      "text/html": [
       "<div>\n",
       "<style scoped>\n",
       "    .dataframe tbody tr th:only-of-type {\n",
       "        vertical-align: middle;\n",
       "    }\n",
       "\n",
       "    .dataframe tbody tr th {\n",
       "        vertical-align: top;\n",
       "    }\n",
       "\n",
       "    .dataframe thead th {\n",
       "        text-align: right;\n",
       "    }\n",
       "</style>\n",
       "<table border=\"1\" class=\"dataframe\">\n",
       "  <thead>\n",
       "    <tr style=\"text-align: right;\">\n",
       "      <th></th>\n",
       "      <th>DEPARTAMENTO</th>\n",
       "      <th>MUNICIPIO</th>\n",
       "      <th>CODIGO DANE</th>\n",
       "      <th>ARMAS MEDIOS</th>\n",
       "      <th>FECHA HECHO</th>\n",
       "      <th>GENERO</th>\n",
       "      <th>GRUPO ETARIO</th>\n",
       "      <th>TIPO DE HURTO</th>\n",
       "      <th>CANTIDAD</th>\n",
       "      <th>largo</th>\n",
       "      <th>LARGO</th>\n",
       "    </tr>\n",
       "  </thead>\n",
       "  <tbody>\n",
       "    <tr>\n",
       "      <th>0</th>\n",
       "      <td>HUILA</td>\n",
       "      <td>CAMPOALEGRE</td>\n",
       "      <td>41132</td>\n",
       "      <td>NO REPORTADO</td>\n",
       "      <td>2010-01-01</td>\n",
       "      <td>FEMENINO</td>\n",
       "      <td>ADULTOS</td>\n",
       "      <td>HURTO ABIGEATO</td>\n",
       "      <td>1</td>\n",
       "      <td>36141</td>\n",
       "      <td>5</td>\n",
       "    </tr>\n",
       "    <tr>\n",
       "      <th>1</th>\n",
       "      <td>META</td>\n",
       "      <td>SAN JUAN DE ARAMA</td>\n",
       "      <td>50683</td>\n",
       "      <td>NO REPORTADO</td>\n",
       "      <td>2010-01-01</td>\n",
       "      <td>MASCULINO</td>\n",
       "      <td>ADULTOS</td>\n",
       "      <td>HURTO ABIGEATO</td>\n",
       "      <td>1</td>\n",
       "      <td>36141</td>\n",
       "      <td>5</td>\n",
       "    </tr>\n",
       "    <tr>\n",
       "      <th>2</th>\n",
       "      <td>BOYACÁ</td>\n",
       "      <td>BELÉN</td>\n",
       "      <td>15087</td>\n",
       "      <td>NO REPORTADO</td>\n",
       "      <td>2010-02-01</td>\n",
       "      <td>FEMENINO</td>\n",
       "      <td>ADULTOS</td>\n",
       "      <td>HURTO ABIGEATO</td>\n",
       "      <td>1</td>\n",
       "      <td>36141</td>\n",
       "      <td>5</td>\n",
       "    </tr>\n",
       "    <tr>\n",
       "      <th>3</th>\n",
       "      <td>CASANARE</td>\n",
       "      <td>PORE</td>\n",
       "      <td>85263</td>\n",
       "      <td>NO REPORTADO</td>\n",
       "      <td>2010-02-01</td>\n",
       "      <td>MASCULINO</td>\n",
       "      <td>ADULTOS</td>\n",
       "      <td>HURTO ABIGEATO</td>\n",
       "      <td>1</td>\n",
       "      <td>36141</td>\n",
       "      <td>5</td>\n",
       "    </tr>\n",
       "    <tr>\n",
       "      <th>4</th>\n",
       "      <td>CUNDINAMARCA</td>\n",
       "      <td>MADRID</td>\n",
       "      <td>25430</td>\n",
       "      <td>ARMA DE FUEGO</td>\n",
       "      <td>2010-03-01</td>\n",
       "      <td>MASCULINO</td>\n",
       "      <td>ADULTOS</td>\n",
       "      <td>HURTO PIRATERÍA TERRESTRE</td>\n",
       "      <td>1</td>\n",
       "      <td>36141</td>\n",
       "      <td>5</td>\n",
       "    </tr>\n",
       "  </tbody>\n",
       "</table>\n",
       "</div>"
      ],
      "text/plain": [
       "   DEPARTAMENTO          MUNICIPIO  CODIGO DANE   ARMAS MEDIOS FECHA HECHO  \\\n",
       "0         HUILA        CAMPOALEGRE        41132   NO REPORTADO  2010-01-01   \n",
       "1          META  SAN JUAN DE ARAMA        50683   NO REPORTADO  2010-01-01   \n",
       "2        BOYACÁ              BELÉN        15087   NO REPORTADO  2010-02-01   \n",
       "3      CASANARE               PORE        85263   NO REPORTADO  2010-02-01   \n",
       "4  CUNDINAMARCA             MADRID        25430  ARMA DE FUEGO  2010-03-01   \n",
       "\n",
       "      GENERO GRUPO ETARIO              TIPO DE HURTO  CANTIDAD  largo  LARGO  \n",
       "0   FEMENINO      ADULTOS             HURTO ABIGEATO         1  36141      5  \n",
       "1  MASCULINO      ADULTOS             HURTO ABIGEATO         1  36141      5  \n",
       "2   FEMENINO      ADULTOS             HURTO ABIGEATO         1  36141      5  \n",
       "3  MASCULINO      ADULTOS             HURTO ABIGEATO         1  36141      5  \n",
       "4  MASCULINO      ADULTOS  HURTO PIRATERÍA TERRESTRE         1  36141      5  "
      ]
     },
     "execution_count": 201,
     "metadata": {},
     "output_type": "execute_result"
    }
   ],
   "source": [
    "hurto_df.head()"
   ]
  },
  {
   "cell_type": "code",
   "execution_count": 208,
   "id": "66f6716a",
   "metadata": {
    "collapsed": true
   },
   "outputs": [
    {
     "name": "stderr",
     "output_type": "stream",
     "text": [
      "C:\\Users\\Daniela Rubio Garcia\\AppData\\Local\\Temp\\ipykernel_28208\\1826155170.py:4: SettingWithCopyWarning: \n",
      "A value is trying to be set on a copy of a slice from a DataFrame\n",
      "\n",
      "See the caveats in the documentation: https://pandas.pydata.org/pandas-docs/stable/user_guide/indexing.html#returning-a-view-versus-a-copy\n",
      "  hurto_df['MUNICIPIO'][z]=dane_df['MUNICIPIO'][y]\n",
      "C:\\Users\\Daniela Rubio Garcia\\AppData\\Local\\Temp\\ipykernel_28208\\1826155170.py:5: SettingWithCopyWarning: \n",
      "A value is trying to be set on a copy of a slice from a DataFrame\n",
      "\n",
      "See the caveats in the documentation: https://pandas.pydata.org/pandas-docs/stable/user_guide/indexing.html#returning-a-view-versus-a-copy\n",
      "  hurto_df['DEPARTAMENTO'][z]=dane_df['DEPARTAMENTO'][y]\n"
     ]
    },
    {
     "ename": "KeyError",
     "evalue": "33907",
     "output_type": "error",
     "traceback": [
      "\u001b[1;31m---------------------------------------------------------------------------\u001b[0m",
      "\u001b[1;31mKeyError\u001b[0m                                  Traceback (most recent call last)",
      "File \u001b[1;32mC:\\Anaconda\\lib\\site-packages\\pandas\\core\\indexes\\base.py:3621\u001b[0m, in \u001b[0;36mIndex.get_loc\u001b[1;34m(self, key, method, tolerance)\u001b[0m\n\u001b[0;32m   3620\u001b[0m \u001b[38;5;28;01mtry\u001b[39;00m:\n\u001b[1;32m-> 3621\u001b[0m     \u001b[38;5;28;01mreturn\u001b[39;00m \u001b[38;5;28;43mself\u001b[39;49m\u001b[38;5;241;43m.\u001b[39;49m\u001b[43m_engine\u001b[49m\u001b[38;5;241;43m.\u001b[39;49m\u001b[43mget_loc\u001b[49m\u001b[43m(\u001b[49m\u001b[43mcasted_key\u001b[49m\u001b[43m)\u001b[49m\n\u001b[0;32m   3622\u001b[0m \u001b[38;5;28;01mexcept\u001b[39;00m \u001b[38;5;167;01mKeyError\u001b[39;00m \u001b[38;5;28;01mas\u001b[39;00m err:\n",
      "File \u001b[1;32mC:\\Anaconda\\lib\\site-packages\\pandas\\_libs\\index.pyx:136\u001b[0m, in \u001b[0;36mpandas._libs.index.IndexEngine.get_loc\u001b[1;34m()\u001b[0m\n",
      "File \u001b[1;32mC:\\Anaconda\\lib\\site-packages\\pandas\\_libs\\index.pyx:163\u001b[0m, in \u001b[0;36mpandas._libs.index.IndexEngine.get_loc\u001b[1;34m()\u001b[0m\n",
      "File \u001b[1;32mpandas\\_libs\\hashtable_class_helper.pxi:2131\u001b[0m, in \u001b[0;36mpandas._libs.hashtable.Int64HashTable.get_item\u001b[1;34m()\u001b[0m\n",
      "File \u001b[1;32mpandas\\_libs\\hashtable_class_helper.pxi:2140\u001b[0m, in \u001b[0;36mpandas._libs.hashtable.Int64HashTable.get_item\u001b[1;34m()\u001b[0m\n",
      "\u001b[1;31mKeyError\u001b[0m: 33907",
      "\nThe above exception was the direct cause of the following exception:\n",
      "\u001b[1;31mKeyError\u001b[0m                                  Traceback (most recent call last)",
      "Input \u001b[1;32mIn [208]\u001b[0m, in \u001b[0;36m<cell line: 1>\u001b[1;34m()\u001b[0m\n\u001b[0;32m      1\u001b[0m \u001b[38;5;28;01mfor\u001b[39;00m z \u001b[38;5;129;01min\u001b[39;00m \u001b[38;5;28mrange\u001b[39m (\u001b[38;5;241m0\u001b[39m,\u001b[38;5;28mlen\u001b[39m(hurto_df)):\n\u001b[0;32m      2\u001b[0m     \u001b[38;5;28;01mfor\u001b[39;00m y \u001b[38;5;129;01min\u001b[39;00m \u001b[38;5;28mrange\u001b[39m (\u001b[38;5;241m0\u001b[39m,\u001b[38;5;28mlen\u001b[39m(dane_df)):\n\u001b[1;32m----> 3\u001b[0m         \u001b[38;5;28;01mif\u001b[39;00m \u001b[43mhurto_df\u001b[49m\u001b[43m[\u001b[49m\u001b[38;5;124;43m'\u001b[39;49m\u001b[38;5;124;43mCODIGO DANE\u001b[39;49m\u001b[38;5;124;43m'\u001b[39;49m\u001b[43m]\u001b[49m\u001b[43m[\u001b[49m\u001b[43mz\u001b[49m\u001b[43m]\u001b[49m\u001b[38;5;241m==\u001b[39mdane_df[\u001b[38;5;124m'\u001b[39m\u001b[38;5;124mCODIGO DANE\u001b[39m\u001b[38;5;124m'\u001b[39m][y]:\n\u001b[0;32m      4\u001b[0m             hurto_df[\u001b[38;5;124m'\u001b[39m\u001b[38;5;124mMUNICIPIO\u001b[39m\u001b[38;5;124m'\u001b[39m][z]\u001b[38;5;241m=\u001b[39mdane_df[\u001b[38;5;124m'\u001b[39m\u001b[38;5;124mMUNICIPIO\u001b[39m\u001b[38;5;124m'\u001b[39m][y]\n\u001b[0;32m      5\u001b[0m             hurto_df[\u001b[38;5;124m'\u001b[39m\u001b[38;5;124mDEPARTAMENTO\u001b[39m\u001b[38;5;124m'\u001b[39m][z]\u001b[38;5;241m=\u001b[39mdane_df[\u001b[38;5;124m'\u001b[39m\u001b[38;5;124mDEPARTAMENTO\u001b[39m\u001b[38;5;124m'\u001b[39m][y]\n",
      "File \u001b[1;32mC:\\Anaconda\\lib\\site-packages\\pandas\\core\\series.py:958\u001b[0m, in \u001b[0;36mSeries.__getitem__\u001b[1;34m(self, key)\u001b[0m\n\u001b[0;32m    955\u001b[0m     \u001b[38;5;28;01mreturn\u001b[39;00m \u001b[38;5;28mself\u001b[39m\u001b[38;5;241m.\u001b[39m_values[key]\n\u001b[0;32m    957\u001b[0m \u001b[38;5;28;01melif\u001b[39;00m key_is_scalar:\n\u001b[1;32m--> 958\u001b[0m     \u001b[38;5;28;01mreturn\u001b[39;00m \u001b[38;5;28;43mself\u001b[39;49m\u001b[38;5;241;43m.\u001b[39;49m\u001b[43m_get_value\u001b[49m\u001b[43m(\u001b[49m\u001b[43mkey\u001b[49m\u001b[43m)\u001b[49m\n\u001b[0;32m    960\u001b[0m \u001b[38;5;28;01mif\u001b[39;00m is_hashable(key):\n\u001b[0;32m    961\u001b[0m     \u001b[38;5;66;03m# Otherwise index.get_value will raise InvalidIndexError\u001b[39;00m\n\u001b[0;32m    962\u001b[0m     \u001b[38;5;28;01mtry\u001b[39;00m:\n\u001b[0;32m    963\u001b[0m         \u001b[38;5;66;03m# For labels that don't resolve as scalars like tuples and frozensets\u001b[39;00m\n",
      "File \u001b[1;32mC:\\Anaconda\\lib\\site-packages\\pandas\\core\\series.py:1069\u001b[0m, in \u001b[0;36mSeries._get_value\u001b[1;34m(self, label, takeable)\u001b[0m\n\u001b[0;32m   1066\u001b[0m     \u001b[38;5;28;01mreturn\u001b[39;00m \u001b[38;5;28mself\u001b[39m\u001b[38;5;241m.\u001b[39m_values[label]\n\u001b[0;32m   1068\u001b[0m \u001b[38;5;66;03m# Similar to Index.get_value, but we do not fall back to positional\u001b[39;00m\n\u001b[1;32m-> 1069\u001b[0m loc \u001b[38;5;241m=\u001b[39m \u001b[38;5;28;43mself\u001b[39;49m\u001b[38;5;241;43m.\u001b[39;49m\u001b[43mindex\u001b[49m\u001b[38;5;241;43m.\u001b[39;49m\u001b[43mget_loc\u001b[49m\u001b[43m(\u001b[49m\u001b[43mlabel\u001b[49m\u001b[43m)\u001b[49m\n\u001b[0;32m   1070\u001b[0m \u001b[38;5;28;01mreturn\u001b[39;00m \u001b[38;5;28mself\u001b[39m\u001b[38;5;241m.\u001b[39mindex\u001b[38;5;241m.\u001b[39m_get_values_for_loc(\u001b[38;5;28mself\u001b[39m, loc, label)\n",
      "File \u001b[1;32mC:\\Anaconda\\lib\\site-packages\\pandas\\core\\indexes\\base.py:3623\u001b[0m, in \u001b[0;36mIndex.get_loc\u001b[1;34m(self, key, method, tolerance)\u001b[0m\n\u001b[0;32m   3621\u001b[0m     \u001b[38;5;28;01mreturn\u001b[39;00m \u001b[38;5;28mself\u001b[39m\u001b[38;5;241m.\u001b[39m_engine\u001b[38;5;241m.\u001b[39mget_loc(casted_key)\n\u001b[0;32m   3622\u001b[0m \u001b[38;5;28;01mexcept\u001b[39;00m \u001b[38;5;167;01mKeyError\u001b[39;00m \u001b[38;5;28;01mas\u001b[39;00m err:\n\u001b[1;32m-> 3623\u001b[0m     \u001b[38;5;28;01mraise\u001b[39;00m \u001b[38;5;167;01mKeyError\u001b[39;00m(key) \u001b[38;5;28;01mfrom\u001b[39;00m \u001b[38;5;21;01merr\u001b[39;00m\n\u001b[0;32m   3624\u001b[0m \u001b[38;5;28;01mexcept\u001b[39;00m \u001b[38;5;167;01mTypeError\u001b[39;00m:\n\u001b[0;32m   3625\u001b[0m     \u001b[38;5;66;03m# If we have a listlike key, _check_indexing_error will raise\u001b[39;00m\n\u001b[0;32m   3626\u001b[0m     \u001b[38;5;66;03m#  InvalidIndexError. Otherwise we fall through and re-raise\u001b[39;00m\n\u001b[0;32m   3627\u001b[0m     \u001b[38;5;66;03m#  the TypeError.\u001b[39;00m\n\u001b[0;32m   3628\u001b[0m     \u001b[38;5;28mself\u001b[39m\u001b[38;5;241m.\u001b[39m_check_indexing_error(key)\n",
      "\u001b[1;31mKeyError\u001b[0m: 33907"
     ]
    }
   ],
   "source": [
    "for z in range (0,len(hurto_df)):\n",
    "    for y in range (0,len(dane_df)):\n",
    "        if hurto_df['CODIGO DANE'][z]==dane_df['CODIGO DANE'][y]:\n",
    "            hurto_df['MUNICIPIO'][z]=dane_df['MUNICIPIO'][y]\n",
    "            hurto_df['DEPARTAMENTO'][z]=dane_df['DEPARTAMENTO'][y]"
   ]
  },
  {
   "cell_type": "code",
   "execution_count": 213,
   "id": "56ae42c2",
   "metadata": {},
   "outputs": [
    {
     "data": {
      "text/html": [
       "<div>\n",
       "<style scoped>\n",
       "    .dataframe tbody tr th:only-of-type {\n",
       "        vertical-align: middle;\n",
       "    }\n",
       "\n",
       "    .dataframe tbody tr th {\n",
       "        vertical-align: top;\n",
       "    }\n",
       "\n",
       "    .dataframe thead th {\n",
       "        text-align: right;\n",
       "    }\n",
       "</style>\n",
       "<table border=\"1\" class=\"dataframe\">\n",
       "  <thead>\n",
       "    <tr style=\"text-align: right;\">\n",
       "      <th></th>\n",
       "      <th>DEPARTAMENTO</th>\n",
       "      <th>MUNICIPIO</th>\n",
       "      <th>CODIGO DANE</th>\n",
       "      <th>ARMAS MEDIOS</th>\n",
       "      <th>FECHA HECHO</th>\n",
       "      <th>GENERO</th>\n",
       "      <th>GRUPO ETARIO</th>\n",
       "      <th>TIPO DE HURTO</th>\n",
       "      <th>CANTIDAD</th>\n",
       "      <th>largo</th>\n",
       "      <th>LARGO</th>\n",
       "    </tr>\n",
       "  </thead>\n",
       "  <tbody>\n",
       "    <tr>\n",
       "      <th>0</th>\n",
       "      <td>HUILA</td>\n",
       "      <td>CAMPOALEGRE</td>\n",
       "      <td>41132</td>\n",
       "      <td>NO REPORTADO</td>\n",
       "      <td>2010-01-01</td>\n",
       "      <td>FEMENINO</td>\n",
       "      <td>ADULTOS</td>\n",
       "      <td>HURTO ABIGEATO</td>\n",
       "      <td>1</td>\n",
       "      <td>36141</td>\n",
       "      <td>5</td>\n",
       "    </tr>\n",
       "    <tr>\n",
       "      <th>1</th>\n",
       "      <td>META</td>\n",
       "      <td>SAN JUAN DE ARAMA</td>\n",
       "      <td>50683</td>\n",
       "      <td>NO REPORTADO</td>\n",
       "      <td>2010-01-01</td>\n",
       "      <td>MASCULINO</td>\n",
       "      <td>ADULTOS</td>\n",
       "      <td>HURTO ABIGEATO</td>\n",
       "      <td>1</td>\n",
       "      <td>36141</td>\n",
       "      <td>5</td>\n",
       "    </tr>\n",
       "    <tr>\n",
       "      <th>2</th>\n",
       "      <td>BOYACA</td>\n",
       "      <td>BELÉN</td>\n",
       "      <td>15087</td>\n",
       "      <td>NO REPORTADO</td>\n",
       "      <td>2010-02-01</td>\n",
       "      <td>FEMENINO</td>\n",
       "      <td>ADULTOS</td>\n",
       "      <td>HURTO ABIGEATO</td>\n",
       "      <td>1</td>\n",
       "      <td>36141</td>\n",
       "      <td>5</td>\n",
       "    </tr>\n",
       "    <tr>\n",
       "      <th>3</th>\n",
       "      <td>CASANARE</td>\n",
       "      <td>PORE</td>\n",
       "      <td>85263</td>\n",
       "      <td>NO REPORTADO</td>\n",
       "      <td>2010-02-01</td>\n",
       "      <td>MASCULINO</td>\n",
       "      <td>ADULTOS</td>\n",
       "      <td>HURTO ABIGEATO</td>\n",
       "      <td>1</td>\n",
       "      <td>36141</td>\n",
       "      <td>5</td>\n",
       "    </tr>\n",
       "    <tr>\n",
       "      <th>4</th>\n",
       "      <td>CUNDINAMARCA</td>\n",
       "      <td>MADRID</td>\n",
       "      <td>25430</td>\n",
       "      <td>ARMA DE FUEGO</td>\n",
       "      <td>2010-03-01</td>\n",
       "      <td>MASCULINO</td>\n",
       "      <td>ADULTOS</td>\n",
       "      <td>HURTO PIRATERÍA TERRESTRE</td>\n",
       "      <td>1</td>\n",
       "      <td>36141</td>\n",
       "      <td>5</td>\n",
       "    </tr>\n",
       "  </tbody>\n",
       "</table>\n",
       "</div>"
      ],
      "text/plain": [
       "   DEPARTAMENTO          MUNICIPIO  CODIGO DANE   ARMAS MEDIOS FECHA HECHO  \\\n",
       "0         HUILA        CAMPOALEGRE        41132   NO REPORTADO  2010-01-01   \n",
       "1          META  SAN JUAN DE ARAMA        50683   NO REPORTADO  2010-01-01   \n",
       "2        BOYACA              BELÉN        15087   NO REPORTADO  2010-02-01   \n",
       "3      CASANARE               PORE        85263   NO REPORTADO  2010-02-01   \n",
       "4  CUNDINAMARCA             MADRID        25430  ARMA DE FUEGO  2010-03-01   \n",
       "\n",
       "      GENERO GRUPO ETARIO              TIPO DE HURTO  CANTIDAD  largo  LARGO  \n",
       "0   FEMENINO      ADULTOS             HURTO ABIGEATO         1  36141      5  \n",
       "1  MASCULINO      ADULTOS             HURTO ABIGEATO         1  36141      5  \n",
       "2   FEMENINO      ADULTOS             HURTO ABIGEATO         1  36141      5  \n",
       "3  MASCULINO      ADULTOS             HURTO ABIGEATO         1  36141      5  \n",
       "4  MASCULINO      ADULTOS  HURTO PIRATERÍA TERRESTRE         1  36141      5  "
      ]
     },
     "execution_count": 213,
     "metadata": {},
     "output_type": "execute_result"
    }
   ],
   "source": [
    "hurto_df.head(5)"
   ]
  },
  {
   "cell_type": "code",
   "execution_count": 215,
   "id": "d1f27f49",
   "metadata": {},
   "outputs": [],
   "source": [
    "## se exporta la base para poder unirla con las otras tres\n",
    "hurto_df.to_csv('hurto.csv')"
   ]
  },
  {
   "cell_type": "markdown",
   "id": "af4864cd",
   "metadata": {},
   "source": [
    "1.Seleccione al menos 4 conjuntos de datos y realice un perfilamiento de cada uno. Describa los hallazgos encontrados en cada conjunto de datos. No olvide mencionar su estructura y aspectos relevantes de calidad como campos nulos, departamentos mal escritos, formatos de fechas incorrectos, entre otros. Si no evidencia ningún problema de calidad de datos, también mencionelo.\n",
    "\n",
    "En el dataset de hurtos por modalidades tenia probelmas de completitud ya que en los campos \"genero\" y  \"grupo etario\"  habia datos faltantes los de la primera variable se solucionaron de eliminando los datos ya que eran pocos (15) frente al tamaño de la base, para el segundo se imputo por moda. Adicional tenia problemas con el codigo del dane, municipio y departamento, ya que se encontraban de conformidad pues no estaban escrita de la misma manera las ubicaciones ni el codigo."
   ]
  },
  {
   "cell_type": "code",
   "execution_count": 255,
   "id": "f53b9126",
   "metadata": {},
   "outputs": [],
   "source": [
    "hurto_df = pd.read_csv('hurto.csv')"
   ]
  },
  {
   "cell_type": "markdown",
   "id": "8ee72d50",
   "metadata": {},
   "source": [
    "2.Responda la siguientes preguntas para cada uno de los conjuntos de datos seleccionados:\n",
    "\n",
    "a.¿Cuáles han sido los departamentos (TOP 3) más afectados en términos de cantidad de delitos cometidos en los últimos 5 años?\n",
    " \n",
    " Para dar respuesta  a la pregunta se creo un data frame con las cifras de los ultimos cinco años, es decir, desde incio del 2017 y de allí se realizo el agrupamiento por cantidad de delitos por departamento y observamos que el top 3 de departamentos es Cundinamarca, Cesar y Meta.\n",
    " \n",
    " "
   ]
  },
  {
   "cell_type": "code",
   "execution_count": 26,
   "id": "b4a404aa",
   "metadata": {},
   "outputs": [],
   "source": [
    "cincoaños_df=hurto_df.loc[hurto_df['FECHA HECHO']>'2017-01-01']"
   ]
  },
  {
   "cell_type": "code",
   "execution_count": 15,
   "id": "5c0f18b2",
   "metadata": {},
   "outputs": [
    {
     "data": {
      "text/html": [
       "<div>\n",
       "<style scoped>\n",
       "    .dataframe tbody tr th:only-of-type {\n",
       "        vertical-align: middle;\n",
       "    }\n",
       "\n",
       "    .dataframe tbody tr th {\n",
       "        vertical-align: top;\n",
       "    }\n",
       "\n",
       "    .dataframe thead th {\n",
       "        text-align: right;\n",
       "    }\n",
       "</style>\n",
       "<table border=\"1\" class=\"dataframe\">\n",
       "  <thead>\n",
       "    <tr style=\"text-align: right;\">\n",
       "      <th></th>\n",
       "      <th>CANTIDAD</th>\n",
       "    </tr>\n",
       "    <tr>\n",
       "      <th>DEPARTAMENTO</th>\n",
       "      <th></th>\n",
       "    </tr>\n",
       "  </thead>\n",
       "  <tbody>\n",
       "    <tr>\n",
       "      <th>CUNDINAMARCA</th>\n",
       "      <td>2628</td>\n",
       "    </tr>\n",
       "    <tr>\n",
       "      <th>CESAR</th>\n",
       "      <td>1520</td>\n",
       "    </tr>\n",
       "    <tr>\n",
       "      <th>TOLIMA</th>\n",
       "      <td>1519</td>\n",
       "    </tr>\n",
       "    <tr>\n",
       "      <th>ANTIOQUIA</th>\n",
       "      <td>1437</td>\n",
       "    </tr>\n",
       "    <tr>\n",
       "      <th>META</th>\n",
       "      <td>1348</td>\n",
       "    </tr>\n",
       "  </tbody>\n",
       "</table>\n",
       "</div>"
      ],
      "text/plain": [
       "              CANTIDAD\n",
       "DEPARTAMENTO          \n",
       "CUNDINAMARCA      2628\n",
       "CESAR             1520\n",
       "TOLIMA            1519\n",
       "ANTIOQUIA         1437\n",
       "META              1348"
      ]
     },
     "execution_count": 15,
     "metadata": {},
     "output_type": "execute_result"
    }
   ],
   "source": [
    "cincoaños_df.groupby(['DEPARTAMENTO'])[['CANTIDAD']].sum().sort_values(by=\"CANTIDAD\", ascending= False).head()"
   ]
  },
  {
   "cell_type": "markdown",
   "id": "019edcb2",
   "metadata": {},
   "source": [
    "b.Para los casos en los que aplique, ¿cuál ha sido el arma o medio más común para cometer el delito?\n",
    "\n",
    "Teniendo en cuenta la base de los ultimo cinco años trabajada en el punto anterior vemos que los delitos normalmente que los hurtos son cometidos sin empleo de armas, y si vemos la totalidad de la base vemos que el comportamiento es el mismo donde predominan los hurtos sin empleo de armas."
   ]
  },
  {
   "cell_type": "code",
   "execution_count": 227,
   "id": "cd410546",
   "metadata": {},
   "outputs": [
    {
     "data": {
      "text/plain": [
       "SIN EMPLEO DE ARMAS            12748\n",
       "ARMA BLANCA / CORTOPUNZANTE     3142\n",
       "ARMA DE FUEGO                   2082\n",
       "NO REPORTADO                     727\n",
       "CONTUNDENTES                     350\n",
       "ESCOPOLAMINA                      14\n",
       "Name: ARMAS MEDIOS, dtype: int64"
      ]
     },
     "execution_count": 227,
     "metadata": {},
     "output_type": "execute_result"
    }
   ],
   "source": [
    "cincoaños_df['ARMAS MEDIOS'].value_counts()"
   ]
  },
  {
   "cell_type": "code",
   "execution_count": 228,
   "id": "eaee772c",
   "metadata": {},
   "outputs": [
    {
     "data": {
      "text/plain": [
       "SIN EMPLEO DE ARMAS                   19984\n",
       "ARMA DE FUEGO                          5691\n",
       "ARMA BLANCA / CORTOPUNZANTE            5432\n",
       "NO REPORTADO                           4513\n",
       "CONTUNDENTES                            497\n",
       "ESCOPOLAMINA                             15\n",
       "CORTOPUNZANTES                            7\n",
       "ARTEFACTO EXPLOSIVO/CARGA DINAMITA        2\n",
       "Name: ARMAS MEDIOS, dtype: int64"
      ]
     },
     "execution_count": 228,
     "metadata": {},
     "output_type": "execute_result"
    }
   ],
   "source": [
    "hurto_df['ARMAS MEDIOS'].value_counts()"
   ]
  },
  {
   "cell_type": "markdown",
   "id": "cbd2fa4d",
   "metadata": {},
   "source": [
    "c.Para los casos en los que aplique, ¿cómo ha sido la proporción de géneros y grupos etarios que han estado involucrados en este tipo de delito? ¿Han variado con el paso de los años?\n",
    "\n",
    "Valiendome de una tabla resumen en la que esta por año la cantidad e hurtos cometidos por cada genero y grupo etario, se concluye que en su gran mayoría son cometidos por adultos masculinos con un aparticipacion de mas del 70% porcentaje que no varia muhco año tras año, seguido por las mujeres adultas."
   ]
  },
  {
   "cell_type": "code",
   "execution_count": 16,
   "id": "1a43c914",
   "metadata": {
    "scrolled": true
   },
   "outputs": [
    {
     "data": {
      "text/plain": [
       "<AxesSubplot:xlabel='GENERO'>"
      ]
     },
     "execution_count": 16,
     "metadata": {},
     "output_type": "execute_result"
    },
    {
     "data": {
      "image/png": "[encoded data removed]",
      "text/plain": [
       "<Figure size 720x288 with 1 Axes>"
      ]
     },
     "metadata": {},
     "output_type": "display_data"
    }
   ],
   "source": [
    "sbn.set(rc={'figure.figsize':(10, 4)})\n",
    "hurto_df.groupby([hurto_df['GENERO']])['CANTIDAD'].count().plot()\n",
    "                      "
   ]
  },
  {
   "cell_type": "code",
   "execution_count": 17,
   "id": "c794b366",
   "metadata": {},
   "outputs": [
    {
     "data": {
      "text/plain": [
       "GENERO\n",
       "FEMENINO         5951\n",
       "MASCULINO       26649\n",
       "NO REPORTADO     3541\n",
       "Name: CANTIDAD, dtype: int64"
      ]
     },
     "execution_count": 17,
     "metadata": {},
     "output_type": "execute_result"
    }
   ],
   "source": [
    "hurto_df.groupby([hurto_df['GENERO']])['CANTIDAD'].count()"
   ]
  },
  {
   "cell_type": "code",
   "execution_count": 18,
   "id": "b27ac06a",
   "metadata": {
    "scrolled": false
   },
   "outputs": [
    {
     "data": {
      "text/plain": [
       "<AxesSubplot:xlabel='GRUPO ETARIO'>"
      ]
     },
     "execution_count": 18,
     "metadata": {},
     "output_type": "execute_result"
    },
    {
     "data": {
      "image/png": "[encoded data removed]",
      "text/plain": [
       "<Figure size 720x288 with 1 Axes>"
      ]
     },
     "metadata": {},
     "output_type": "display_data"
    }
   ],
   "source": [
    "hurto_df.groupby([hurto_df['GRUPO ETARIO']])['CANTIDAD'].count().plot()  "
   ]
  },
  {
   "cell_type": "code",
   "execution_count": 21,
   "id": "96b288fc",
   "metadata": {},
   "outputs": [
    {
     "data": {
      "text/plain": [
       "GRUPO ETARIO\n",
       "ADOLESCENTES       12\n",
       "ADULTOS         32482\n",
       "MENORES            18\n",
       "NO REPORTADO     3399\n",
       "Name: CANTIDAD, dtype: int64"
      ]
     },
     "execution_count": 21,
     "metadata": {},
     "output_type": "execute_result"
    }
   ],
   "source": [
    "hurto_df.groupby([hurto_df['GRUPO ETARIO']])['CANTIDAD'].count()"
   ]
  },
  {
   "cell_type": "code",
   "execution_count": 263,
   "id": "5b1256bc",
   "metadata": {},
   "outputs": [],
   "source": [
    "hurto_df['FECHA HECHO'] = pd.to_datetime(hurto_df['FECHA HECHO'], errors='coerce')"
   ]
  },
  {
   "cell_type": "code",
   "execution_count": 265,
   "id": "dc2cf254",
   "metadata": {},
   "outputs": [],
   "source": [
    "años=(cincoaños_df['FECHA HECHO'].dt.year).tolist()\n",
    "generos=(pd.array(cincoaños_df[\"GENERO\"])).tolist()\n",
    "grupo=(pd.array(cincoaños_df[\"GRUPO ETARIO\"])).tolist()\n",
    "dpto=(pd.array(cincoaños_df[\"DEPARTAMENTO\"])).tolist()"
   ]
  },
  {
   "cell_type": "code",
   "execution_count": 268,
   "id": "44caf666",
   "metadata": {},
   "outputs": [
    {
     "data": {
      "text/html": [
       "<div>\n",
       "<style scoped>\n",
       "    .dataframe tbody tr th:only-of-type {\n",
       "        vertical-align: middle;\n",
       "    }\n",
       "\n",
       "    .dataframe tbody tr th {\n",
       "        vertical-align: top;\n",
       "    }\n",
       "\n",
       "    .dataframe thead th {\n",
       "        text-align: right;\n",
       "    }\n",
       "</style>\n",
       "<table border=\"1\" class=\"dataframe\">\n",
       "  <thead>\n",
       "    <tr style=\"text-align: right;\">\n",
       "      <th></th>\n",
       "      <th>CANTIDAD</th>\n",
       "    </tr>\n",
       "    <tr>\n",
       "      <th>FECHA HECHO</th>\n",
       "      <th></th>\n",
       "    </tr>\n",
       "  </thead>\n",
       "  <tbody>\n",
       "    <tr>\n",
       "      <th>2017</th>\n",
       "      <td>5563</td>\n",
       "    </tr>\n",
       "    <tr>\n",
       "      <th>2018</th>\n",
       "      <td>4406</td>\n",
       "    </tr>\n",
       "    <tr>\n",
       "      <th>2019</th>\n",
       "      <td>3724</td>\n",
       "    </tr>\n",
       "    <tr>\n",
       "      <th>2020</th>\n",
       "      <td>2589</td>\n",
       "    </tr>\n",
       "    <tr>\n",
       "      <th>2021</th>\n",
       "      <td>2333</td>\n",
       "    </tr>\n",
       "    <tr>\n",
       "      <th>2022</th>\n",
       "      <td>448</td>\n",
       "    </tr>\n",
       "  </tbody>\n",
       "</table>\n",
       "</div>"
      ],
      "text/plain": [
       "             CANTIDAD\n",
       "FECHA HECHO          \n",
       "2017             5563\n",
       "2018             4406\n",
       "2019             3724\n",
       "2020             2589\n",
       "2021             2333\n",
       "2022              448"
      ]
     },
     "execution_count": 268,
     "metadata": {},
     "output_type": "execute_result"
    }
   ],
   "source": [
    "cincoaños_df.groupby(cincoaños_df[\"FECHA HECHO\"].dt.year).agg({\"CANTIDAD\":\"count\"})"
   ]
  },
  {
   "cell_type": "code",
   "execution_count": null,
   "id": "5858445f",
   "metadata": {},
   "outputs": [],
   "source": [
    "cincoaños_df.groupby(cincoaños_df[\"FECHA HECHO\"].dt.year).agg({\"GENERO\":\"count\"})"
   ]
  },
  {
   "cell_type": "code",
   "execution_count": 266,
   "id": "ad11c771",
   "metadata": {
    "scrolled": true
   },
   "outputs": [
    {
     "data": {
      "text/plain": [
       "2017  FEMENINO      ADULTOS          939\n",
       "                    MENORES            3\n",
       "      MASCULINO     ADOLESCENTES       2\n",
       "                    ADULTOS         4202\n",
       "                    MENORES            4\n",
       "      NO REPORTADO  NO REPORTADO     413\n",
       "2018  FEMENINO      ADOLESCENTES       1\n",
       "                    ADULTOS          764\n",
       "      MASCULINO     ADOLESCENTES       1\n",
       "                    ADULTOS         3226\n",
       "                    MENORES            3\n",
       "      NO REPORTADO  NO REPORTADO     411\n",
       "2019  FEMENINO      ADULTOS          664\n",
       "                    MENORES            2\n",
       "      MASCULINO     ADOLESCENTES       2\n",
       "                    ADULTOS         2794\n",
       "                    MENORES            1\n",
       "      NO REPORTADO  NO REPORTADO     261\n",
       "2020  FEMENINO      ADULTOS          452\n",
       "      MASCULINO     ADULTOS         1912\n",
       "      NO REPORTADO  ADULTOS          135\n",
       "                    NO REPORTADO      90\n",
       "2021  FEMENINO      ADULTOS          444\n",
       "      MASCULINO     ADOLESCENTES       1\n",
       "                    ADULTOS         1660\n",
       "                    MENORES            1\n",
       "      NO REPORTADO  NO REPORTADO     227\n",
       "2022  FEMENINO      ADULTOS           88\n",
       "      MASCULINO     ADULTOS          306\n",
       "                    MENORES            2\n",
       "      NO REPORTADO  NO REPORTADO      52\n",
       "Name: CANTIDAD, dtype: int64"
      ]
     },
     "execution_count": 266,
     "metadata": {},
     "output_type": "execute_result"
    }
   ],
   "source": [
    "(cincoaños_df.groupby([años,generos,grupo])['CANTIDAD'].count())"
   ]
  },
  {
   "cell_type": "markdown",
   "id": "2ffc6986",
   "metadata": {},
   "source": [
    "¿Se evidencia alguna tendencia para cometer dicho delito en algún mes particular del año?\n",
    "\n",
    " En el mes de Enero es en el que mas hurtos se cometen contrario  a la percepcion de las perosnas que creen que en diciembre es cuando mas hurtos se cometen.\n"
   ]
  },
  {
   "cell_type": "code",
   "execution_count": 269,
   "id": "05f94a3e",
   "metadata": {
    "scrolled": true
   },
   "outputs": [
    {
     "data": {
      "text/plain": [
       "<AxesSubplot:xlabel='MES DEL AÑO'>"
      ]
     },
     "execution_count": 269,
     "metadata": {},
     "output_type": "execute_result"
    },
    {
     "data": {
      "image/png": "[encoded data removed]",
      "text/plain": [
       "<Figure size 1080x288 with 1 Axes>"
      ]
     },
     "metadata": {},
     "output_type": "display_data"
    }
   ],
   "source": [
    "sbn.set(rc={'figure.figsize':(15, 4)})\n",
    "cincoaños_df.groupby(cincoaños_df[\"FECHA HECHO\"].dt.month)['CANTIDAD'].count().plot(xlabel=\"MES DEL AÑO\")\n"
   ]
  },
  {
   "cell_type": "code",
   "execution_count": 27,
   "id": "76d94625",
   "metadata": {},
   "outputs": [
    {
     "data": {
      "text/plain": [
       "FECHA HECHO\n",
       "1     1914\n",
       "2     1819\n",
       "3     1635\n",
       "4     1553\n",
       "5     1690\n",
       "6     1627\n",
       "7     1587\n",
       "8     1551\n",
       "9     1528\n",
       "10    1467\n",
       "11    1398\n",
       "12    1294\n",
       "Name: CANTIDAD, dtype: int64"
      ]
     },
     "execution_count": 27,
     "metadata": {},
     "output_type": "execute_result"
    }
   ],
   "source": [
    "cincoaños_df.groupby(cincoaños_df[\"FECHA HECHO\"].dt.month)['CANTIDAD'].count()"
   ]
  },
  {
   "cell_type": "code",
   "execution_count": null,
   "id": "1987b03a",
   "metadata": {},
   "outputs": [],
   "source": []
  }
 ],
 "metadata": {
  "kernelspec": {
   "display_name": "Python 3 (ipykernel)",
   "language": "python",
   "name": "python3"
  },
  "language_info": {
   "codemirror_mode": {
    "name": "ipython",
    "version": 3
   },
   "file_extension": ".py",
   "mimetype": "text/x-python",
   "name": "python",
   "nbconvert_exporter": "python",
   "pygments_lexer": "ipython3",
   "version": "3.9.12"
  }
 },
 "nbformat": 4,
 "nbformat_minor": 5
}
